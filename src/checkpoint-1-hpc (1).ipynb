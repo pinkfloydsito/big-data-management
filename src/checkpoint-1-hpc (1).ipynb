{
 "cells": [
  {
   "cell_type": "markdown",
   "id": "284fd29c-b41b-4b1e-969a-de9b4797fb6f",
   "metadata": {},
   "source": [
    "# Checkpoint 1"
   ]
  },
  {
   "cell_type": "markdown",
   "id": "dad67cf9-24d4-44ee-8b53-d8e2fd1f294e",
   "metadata": {},
   "source": [
    "## Installation of missing dependencies"
   ]
  },
  {
   "cell_type": "code",
   "execution_count": 1,
   "id": "e54fec09-2377-460e-9203-b1e482c41263",
   "metadata": {},
   "outputs": [],
   "source": [
    "# Import Java gateway classes to access JVM\n",
    "import findspark\n",
    "findspark.init()"
   ]
  },
  {
   "cell_type": "code",
   "execution_count": null,
   "id": "a69846c6-dee6-49d6-bfe6-21a580cb9546",
   "metadata": {},
   "outputs": [],
   "source": []
  },
  {
   "cell_type": "code",
   "execution_count": 2,
   "id": "bf524691-b6db-4786-bc0a-510d059a7e81",
   "metadata": {},
   "outputs": [],
   "source": [
    "from pyspark.sql import SparkSession\n",
    "from pyspark.sql.functions import col, unix_timestamp, lag, when, count, avg, lead, sum as spark_sum\n",
    "from pyspark.sql.window import Window\n",
    "import json\n",
    "from shapely.geometry import Point, Polygon, shape\n",
    "from pyspark.sql.types import (\n",
    "    StructType,\n",
    "    StructField,\n",
    "    IntegerType,\n",
    "    StringType,\n",
    "    DoubleType\n",
    ")\n"
   ]
  },
  {
   "cell_type": "code",
   "execution_count": 3,
   "id": "81d30059-4055-4b82-b75e-42e1cecba7c4",
   "metadata": {},
   "outputs": [],
   "source": [
    "import os\n",
    "import sys\n",
    "\n",
    "# Feel free to skip this cell, JAVA_HOME was a mess in the UT HPC\n",
    "\n",
    "# Set Java home explicitly if not already set\n",
    "if not os.environ.get('JAVA_HOME'):\n",
    "    # Replace with actual path from the above commands\n",
    "    os.environ['JAVA_HOME'] = '/gpfs/software/soft/rocket/linux-centos7-x86_64/gcc-9.2.0/openjdk-1.8.0_265-b01-atpvba2g5asxiqs7xvgiygtmxohys7zp'\n"
   ]
  },
  {
   "cell_type": "code",
   "execution_count": 4,
   "id": "885ee465-15a2-4173-8a6c-2faff7fe5789",
   "metadata": {},
   "outputs": [
    {
     "name": "stderr",
     "output_type": "stream",
     "text": [
      "Setting default log level to \"WARN\".\n",
      "To adjust logging level use sc.setLogLevel(newLevel). For SparkR, use setLogLevel(newLevel).\n",
      "25/03/10 21:29:09 WARN NativeCodeLoader: Unable to load native-hadoop library for your platform... using builtin-java classes where applicable\n"
     ]
    }
   ],
   "source": [
    "spark = SparkSession.builder.appName(\"NYC Taxi Analysis\") \\\n",
    "    .config(\"spark.driver.memory\", \"8g\") \\\n",
    "    .config(\"spark.executor.memory\", \"16g\") \\\n",
    "    .config(\"spark.executor.cores\", \"8\") \\\n",
    "    .config(\"spark.sql.shuffle.partitions\", \"500\") \\\n",
    "    .config(\"spark.default.parallelism\", \"500\") \\\n",
    "    .config(\"spark.memory.fraction\", \"0.8\") \\\n",
    "    .config(\"spark.sql.adaptive.enabled\", \"true\") \\\n",
    "    .config(\"spark.sql.adaptive.coalescePartitions.enabled\", \"true\") \\\n",
    "    .config(\"spark.serializer\", \"org.apache.spark.serializer.KryoSerializer\") \\\n",
    "    .config(\"spark.dynamicAllocation.enabled\", \"true\") \\\n",
    "    .config(\"spark.shuffle.service.enabled\", \"true\") \\\n",
    "    .config(\"spark.sql.files.maxPartitionBytes\", \"256m\") \\\n",
    "    .getOrCreate()"
   ]
  },
  {
   "cell_type": "markdown",
   "id": "7ce10091-e6af-44c8-8e02-859770449211",
   "metadata": {},
   "source": [
    "## Load taxi rides dataset"
   ]
  },
  {
   "cell_type": "code",
   "execution_count": 5,
   "id": "3bcdfd81-2c6c-463b-a452-a03af7873222",
   "metadata": {},
   "outputs": [],
   "source": [
    "# Define schema for the data\n",
    "schema = StructType(\n",
    "    [\n",
    "        StructField(\"medallion\", StringType()),\n",
    "        StructField(\"pickup_datetime\", StringType()),\n",
    "        StructField(\n",
    "            \"dropoff_datetime\", StringType()\n",
    "        ),\n",
    "        StructField(\"pickup_longitude\", DoubleType()),\n",
    "        StructField(\"pickup_latitude\", DoubleType()),\n",
    "        StructField(\"dropoff_longitude\", DoubleType()),\n",
    "        StructField(\"dropoff_latitude\", DoubleType()),\n",
    "    ]\n",
    ")\n"
   ]
  },
  {
   "cell_type": "code",
   "execution_count": 6,
   "id": "0deadfcf-2efb-45b7-b5a7-56e8ec00ddd5",
   "metadata": {},
   "outputs": [],
   "source": [
    "parquet_path = \"input/taxi_data.parquet\"\n",
    "taxi_df = (\n",
    "    spark.read\n",
    "    .option(\"header\", True)\n",
    "    .schema(schema)\n",
    "    .parquet(parquet_path)\n",
    "    .repartition(500)\n",
    ")\n"
   ]
  },
  {
   "cell_type": "code",
   "execution_count": 7,
   "id": "611712ce-7268-4042-a5db-c54504457684",
   "metadata": {},
   "outputs": [
    {
     "data": {
      "text/plain": [
       "['medallion',\n",
       " 'pickup_datetime',\n",
       " 'dropoff_datetime',\n",
       " 'pickup_longitude',\n",
       " 'pickup_latitude',\n",
       " 'dropoff_longitude',\n",
       " 'dropoff_latitude']"
      ]
     },
     "execution_count": 7,
     "metadata": {},
     "output_type": "execute_result"
    }
   ],
   "source": [
    "## Checking the columns we have\n",
    "taxi_df.columns"
   ]
  },
  {
   "cell_type": "code",
   "execution_count": 8,
   "id": "2b1f32f0-a003-4dcd-9b38-5b81d11042fe",
   "metadata": {},
   "outputs": [
    {
     "name": "stderr",
     "output_type": "stream",
     "text": [
      "                                                                                \r"
     ]
    },
    {
     "data": {
      "text/plain": [
       "173179759"
      ]
     },
     "execution_count": 8,
     "metadata": {},
     "output_type": "execute_result"
    }
   ],
   "source": [
    "taxi_df.count()"
   ]
  },
  {
   "cell_type": "code",
   "execution_count": 8,
   "id": "1fd0cdff-c1f2-4b05-92d6-98ad14881780",
   "metadata": {},
   "outputs": [],
   "source": [
    "# Load GeoJSON Data\n",
    "borough_data = None\n",
    "with open(\"./input/nyc-boroughs.geojson\", \"r\") as file:\n",
    "    borough_data = json.load(file)\n",
    "\n",
    "# getting dictionary of boroughs for fast lookup\n",
    "borough_polygons = {}\n",
    "for feature in borough_data[\"features\"]:\n",
    "    borough_name = feature[\"properties\"][\"borough\"]\n",
    "    borough_geometry = shape(feature[\"geometry\"])\n",
    "    borough_polygons[borough_name] = borough_geometry\n"
   ]
  },
  {
   "cell_type": "code",
   "execution_count": 9,
   "id": "ee6ed68c-d0cd-4aae-b798-4e04e5d355f4",
   "metadata": {},
   "outputs": [
    {
     "data": {
      "text/plain": [
       "{'Staten Island': <POLYGON ((-74.082 40.648, -74.081 40.649, -74.081 40.648, -74.08 40.648, -7...>,\n",
       " 'Queens': <POLYGON ((-73.891 40.776, -73.891 40.777, -73.891 40.777, -73.891 40.777, -...>,\n",
       " 'Brooklyn': <POLYGON ((-73.931 40.595, -73.932 40.594, -73.932 40.595, -73.931 40.595))>,\n",
       " 'Manhattan': <POLYGON ((-73.907 40.876, -73.908 40.873, -73.908 40.873, -73.909 40.872, -...>,\n",
       " 'Bronx': <POLYGON ((-73.804 40.813, -73.804 40.814, -73.804 40.814, -73.804 40.814, -...>}"
      ]
     },
     "execution_count": 9,
     "metadata": {},
     "output_type": "execute_result"
    }
   ],
   "source": [
    "# check raw shapes in the dictionary\n",
    "borough_polygons"
   ]
  },
  {
   "cell_type": "code",
   "execution_count": 10,
   "id": "22a6ad80-4f6b-4299-bf07-9cac55b63012",
   "metadata": {},
   "outputs": [],
   "source": [
    "# Broadcast GeoJSON Data to Spark\n",
    "borough_broadcast = spark.sparkContext.broadcast(borough_polygons)"
   ]
  },
  {
   "cell_type": "code",
   "execution_count": 11,
   "id": "0cc387da-55df-4324-90a7-0cbb1287cd9b",
   "metadata": {},
   "outputs": [],
   "source": [
    "def get_borough(lon, lat):\n",
    "    try:\n",
    "        # basic check / catch is slower\n",
    "        if lon is None or lat is None:\n",
    "            return \"Unknown\"\n",
    "        \n",
    "        point = Point(lon, lat)\n",
    "\n",
    "        for borough, polygon in borough_broadcast.value.items():\n",
    "            if polygon.contains(point): # match found\n",
    "                return borough\n",
    "\n",
    "    except Exception as e:\n",
    "        print(f\"Error processing ({lon}, {lat}): {e}\")  # Print error details\n",
    "\n",
    "    return \"Unknown\"\n",
    "\n",
    "# Register the function as a Spark UDF again\n",
    "to_borough_udf = spark.udf.register(\"to_borough\", get_borough, StringType())"
   ]
  },
  {
   "cell_type": "code",
   "execution_count": 12,
   "id": "0f12accd-86dc-4c22-a421-ee83818c0964",
   "metadata": {
    "scrolled": true
   },
   "outputs": [],
   "source": [
    "# Checkpoint 1: Borough assignment\n",
    "taxi_df_with_boroughs = taxi_df.withColumn(\"pickup_borough\", \n",
    "                                           to_borough_udf(col(\"pickup_longitude\"), col(\"pickup_latitude\")))\n",
    "taxi_df_with_boroughs = taxi_df_with_boroughs.withColumn(\"dropoff_borough\", \n",
    "                                                        to_borough_udf(col(\"dropoff_longitude\"), col(\"dropoff_latitude\")))"
   ]
  },
  {
   "cell_type": "code",
   "execution_count": 16,
   "id": "f22d26f6-ad7e-4784-9e56-82411ef93d4a",
   "metadata": {},
   "outputs": [
    {
     "ename": "ConnectionRefusedError",
     "evalue": "[Errno 111] Connection refused",
     "output_type": "error",
     "traceback": [
      "\u001b[0;31m---------------------------------------------------------------------------\u001b[0m",
      "\u001b[0;31mConnectionRefusedError\u001b[0m                    Traceback (most recent call last)",
      "Cell \u001b[0;32mIn[16], line 1\u001b[0m\n\u001b[0;32m----> 1\u001b[0m \u001b[43mtaxi_df_with_boroughs\u001b[49m\u001b[38;5;241;43m.\u001b[39;49m\u001b[43mhead\u001b[49m\u001b[43m(\u001b[49m\u001b[38;5;241;43m10\u001b[39;49m\u001b[43m)\u001b[49m\n",
      "File \u001b[0;32m~/myenv/lib/python3.9/site-packages/pyspark/sql/dataframe.py:2975\u001b[0m, in \u001b[0;36mDataFrame.head\u001b[0;34m(self, n)\u001b[0m\n\u001b[1;32m   2973\u001b[0m     rs \u001b[38;5;241m=\u001b[39m \u001b[38;5;28mself\u001b[39m\u001b[38;5;241m.\u001b[39mhead(\u001b[38;5;241m1\u001b[39m)\n\u001b[1;32m   2974\u001b[0m     \u001b[38;5;28;01mreturn\u001b[39;00m rs[\u001b[38;5;241m0\u001b[39m] \u001b[38;5;28;01mif\u001b[39;00m rs \u001b[38;5;28;01melse\u001b[39;00m \u001b[38;5;28;01mNone\u001b[39;00m\n\u001b[0;32m-> 2975\u001b[0m \u001b[38;5;28;01mreturn\u001b[39;00m \u001b[38;5;28;43mself\u001b[39;49m\u001b[38;5;241;43m.\u001b[39;49m\u001b[43mtake\u001b[49m\u001b[43m(\u001b[49m\u001b[43mn\u001b[49m\u001b[43m)\u001b[49m\n",
      "File \u001b[0;32m~/myenv/lib/python3.9/site-packages/pyspark/sql/dataframe.py:1407\u001b[0m, in \u001b[0;36mDataFrame.take\u001b[0;34m(self, num)\u001b[0m\n\u001b[1;32m   1378\u001b[0m \u001b[38;5;28;01mdef\u001b[39;00m\u001b[38;5;250m \u001b[39m\u001b[38;5;21mtake\u001b[39m(\u001b[38;5;28mself\u001b[39m, num: \u001b[38;5;28mint\u001b[39m) \u001b[38;5;241m-\u001b[39m\u001b[38;5;241m>\u001b[39m List[Row]:\n\u001b[1;32m   1379\u001b[0m \u001b[38;5;250m    \u001b[39m\u001b[38;5;124;03m\"\"\"Returns the first ``num`` rows as a :class:`list` of :class:`Row`.\u001b[39;00m\n\u001b[1;32m   1380\u001b[0m \n\u001b[1;32m   1381\u001b[0m \u001b[38;5;124;03m    .. versionadded:: 1.3.0\u001b[39;00m\n\u001b[0;32m   (...)\u001b[0m\n\u001b[1;32m   1405\u001b[0m \u001b[38;5;124;03m    [Row(age=14, name='Tom'), Row(age=23, name='Alice')]\u001b[39;00m\n\u001b[1;32m   1406\u001b[0m \u001b[38;5;124;03m    \"\"\"\u001b[39;00m\n\u001b[0;32m-> 1407\u001b[0m     \u001b[38;5;28;01mreturn\u001b[39;00m \u001b[38;5;28;43mself\u001b[39;49m\u001b[38;5;241;43m.\u001b[39;49m\u001b[43mlimit\u001b[49m\u001b[43m(\u001b[49m\u001b[43mnum\u001b[49m\u001b[43m)\u001b[49m\u001b[38;5;241m.\u001b[39mcollect()\n",
      "File \u001b[0;32m~/myenv/lib/python3.9/site-packages/pyspark/sql/dataframe.py:1337\u001b[0m, in \u001b[0;36mDataFrame.limit\u001b[0;34m(self, num)\u001b[0m\n\u001b[1;32m   1302\u001b[0m \u001b[38;5;28;01mdef\u001b[39;00m\u001b[38;5;250m \u001b[39m\u001b[38;5;21mlimit\u001b[39m(\u001b[38;5;28mself\u001b[39m, num: \u001b[38;5;28mint\u001b[39m) \u001b[38;5;241m-\u001b[39m\u001b[38;5;241m>\u001b[39m \u001b[38;5;124m\"\u001b[39m\u001b[38;5;124mDataFrame\u001b[39m\u001b[38;5;124m\"\u001b[39m:\n\u001b[1;32m   1303\u001b[0m \u001b[38;5;250m    \u001b[39m\u001b[38;5;124;03m\"\"\"Limits the result count to the number specified.\u001b[39;00m\n\u001b[1;32m   1304\u001b[0m \n\u001b[1;32m   1305\u001b[0m \u001b[38;5;124;03m    .. versionadded:: 1.3.0\u001b[39;00m\n\u001b[0;32m   (...)\u001b[0m\n\u001b[1;32m   1335\u001b[0m \u001b[38;5;124;03m    +---+----+\u001b[39;00m\n\u001b[1;32m   1336\u001b[0m \u001b[38;5;124;03m    \"\"\"\u001b[39;00m\n\u001b[0;32m-> 1337\u001b[0m     jdf \u001b[38;5;241m=\u001b[39m \u001b[38;5;28;43mself\u001b[39;49m\u001b[38;5;241;43m.\u001b[39;49m\u001b[43m_jdf\u001b[49m\u001b[38;5;241;43m.\u001b[39;49m\u001b[43mlimit\u001b[49m\u001b[43m(\u001b[49m\u001b[43mnum\u001b[49m\u001b[43m)\u001b[49m\n\u001b[1;32m   1338\u001b[0m     \u001b[38;5;28;01mreturn\u001b[39;00m DataFrame(jdf, \u001b[38;5;28mself\u001b[39m\u001b[38;5;241m.\u001b[39msparkSession)\n",
      "File \u001b[0;32m~/myenv/lib/python3.9/site-packages/py4j/java_gateway.py:1321\u001b[0m, in \u001b[0;36mJavaMember.__call__\u001b[0;34m(self, *args)\u001b[0m\n\u001b[1;32m   1314\u001b[0m args_command, temp_args \u001b[38;5;241m=\u001b[39m \u001b[38;5;28mself\u001b[39m\u001b[38;5;241m.\u001b[39m_build_args(\u001b[38;5;241m*\u001b[39margs)\n\u001b[1;32m   1316\u001b[0m command \u001b[38;5;241m=\u001b[39m proto\u001b[38;5;241m.\u001b[39mCALL_COMMAND_NAME \u001b[38;5;241m+\u001b[39m\\\n\u001b[1;32m   1317\u001b[0m     \u001b[38;5;28mself\u001b[39m\u001b[38;5;241m.\u001b[39mcommand_header \u001b[38;5;241m+\u001b[39m\\\n\u001b[1;32m   1318\u001b[0m     args_command \u001b[38;5;241m+\u001b[39m\\\n\u001b[1;32m   1319\u001b[0m     proto\u001b[38;5;241m.\u001b[39mEND_COMMAND_PART\n\u001b[0;32m-> 1321\u001b[0m answer \u001b[38;5;241m=\u001b[39m \u001b[38;5;28;43mself\u001b[39;49m\u001b[38;5;241;43m.\u001b[39;49m\u001b[43mgateway_client\u001b[49m\u001b[38;5;241;43m.\u001b[39;49m\u001b[43msend_command\u001b[49m\u001b[43m(\u001b[49m\u001b[43mcommand\u001b[49m\u001b[43m)\u001b[49m\n\u001b[1;32m   1322\u001b[0m return_value \u001b[38;5;241m=\u001b[39m get_return_value(\n\u001b[1;32m   1323\u001b[0m     answer, \u001b[38;5;28mself\u001b[39m\u001b[38;5;241m.\u001b[39mgateway_client, \u001b[38;5;28mself\u001b[39m\u001b[38;5;241m.\u001b[39mtarget_id, \u001b[38;5;28mself\u001b[39m\u001b[38;5;241m.\u001b[39mname)\n\u001b[1;32m   1325\u001b[0m \u001b[38;5;28;01mfor\u001b[39;00m temp_arg \u001b[38;5;129;01min\u001b[39;00m temp_args:\n",
      "File \u001b[0;32m~/myenv/lib/python3.9/site-packages/py4j/java_gateway.py:1036\u001b[0m, in \u001b[0;36mGatewayClient.send_command\u001b[0;34m(self, command, retry, binary)\u001b[0m\n\u001b[1;32m   1015\u001b[0m \u001b[38;5;28;01mdef\u001b[39;00m\u001b[38;5;250m \u001b[39m\u001b[38;5;21msend_command\u001b[39m(\u001b[38;5;28mself\u001b[39m, command, retry\u001b[38;5;241m=\u001b[39m\u001b[38;5;28;01mTrue\u001b[39;00m, binary\u001b[38;5;241m=\u001b[39m\u001b[38;5;28;01mFalse\u001b[39;00m):\n\u001b[1;32m   1016\u001b[0m \u001b[38;5;250m    \u001b[39m\u001b[38;5;124;03m\"\"\"Sends a command to the JVM. This method is not intended to be\u001b[39;00m\n\u001b[1;32m   1017\u001b[0m \u001b[38;5;124;03m       called directly by Py4J users. It is usually called by\u001b[39;00m\n\u001b[1;32m   1018\u001b[0m \u001b[38;5;124;03m       :class:`JavaMember` instances.\u001b[39;00m\n\u001b[0;32m   (...)\u001b[0m\n\u001b[1;32m   1034\u001b[0m \u001b[38;5;124;03m     if `binary` is `True`.\u001b[39;00m\n\u001b[1;32m   1035\u001b[0m \u001b[38;5;124;03m    \"\"\"\u001b[39;00m\n\u001b[0;32m-> 1036\u001b[0m     connection \u001b[38;5;241m=\u001b[39m \u001b[38;5;28;43mself\u001b[39;49m\u001b[38;5;241;43m.\u001b[39;49m\u001b[43m_get_connection\u001b[49m\u001b[43m(\u001b[49m\u001b[43m)\u001b[49m\n\u001b[1;32m   1037\u001b[0m     \u001b[38;5;28;01mtry\u001b[39;00m:\n\u001b[1;32m   1038\u001b[0m         response \u001b[38;5;241m=\u001b[39m connection\u001b[38;5;241m.\u001b[39msend_command(command)\n",
      "File \u001b[0;32m~/myenv/lib/python3.9/site-packages/py4j/clientserver.py:284\u001b[0m, in \u001b[0;36mJavaClient._get_connection\u001b[0;34m(self)\u001b[0m\n\u001b[1;32m    281\u001b[0m     \u001b[38;5;28;01mpass\u001b[39;00m\n\u001b[1;32m    283\u001b[0m \u001b[38;5;28;01mif\u001b[39;00m connection \u001b[38;5;129;01mis\u001b[39;00m \u001b[38;5;28;01mNone\u001b[39;00m \u001b[38;5;129;01mor\u001b[39;00m connection\u001b[38;5;241m.\u001b[39msocket \u001b[38;5;129;01mis\u001b[39;00m \u001b[38;5;28;01mNone\u001b[39;00m:\n\u001b[0;32m--> 284\u001b[0m     connection \u001b[38;5;241m=\u001b[39m \u001b[38;5;28;43mself\u001b[39;49m\u001b[38;5;241;43m.\u001b[39;49m\u001b[43m_create_new_connection\u001b[49m\u001b[43m(\u001b[49m\u001b[43m)\u001b[49m\n\u001b[1;32m    285\u001b[0m \u001b[38;5;28;01mreturn\u001b[39;00m connection\n",
      "File \u001b[0;32m~/myenv/lib/python3.9/site-packages/py4j/clientserver.py:291\u001b[0m, in \u001b[0;36mJavaClient._create_new_connection\u001b[0;34m(self)\u001b[0m\n\u001b[1;32m    287\u001b[0m \u001b[38;5;28;01mdef\u001b[39;00m\u001b[38;5;250m \u001b[39m\u001b[38;5;21m_create_new_connection\u001b[39m(\u001b[38;5;28mself\u001b[39m):\n\u001b[1;32m    288\u001b[0m     connection \u001b[38;5;241m=\u001b[39m ClientServerConnection(\n\u001b[1;32m    289\u001b[0m         \u001b[38;5;28mself\u001b[39m\u001b[38;5;241m.\u001b[39mjava_parameters, \u001b[38;5;28mself\u001b[39m\u001b[38;5;241m.\u001b[39mpython_parameters,\n\u001b[1;32m    290\u001b[0m         \u001b[38;5;28mself\u001b[39m\u001b[38;5;241m.\u001b[39mgateway_property, \u001b[38;5;28mself\u001b[39m)\n\u001b[0;32m--> 291\u001b[0m     \u001b[43mconnection\u001b[49m\u001b[38;5;241;43m.\u001b[39;49m\u001b[43mconnect_to_java_server\u001b[49m\u001b[43m(\u001b[49m\u001b[43m)\u001b[49m\n\u001b[1;32m    292\u001b[0m     \u001b[38;5;28mself\u001b[39m\u001b[38;5;241m.\u001b[39mset_thread_connection(connection)\n\u001b[1;32m    293\u001b[0m     \u001b[38;5;28;01mreturn\u001b[39;00m connection\n",
      "File \u001b[0;32m~/myenv/lib/python3.9/site-packages/py4j/clientserver.py:438\u001b[0m, in \u001b[0;36mClientServerConnection.connect_to_java_server\u001b[0;34m(self)\u001b[0m\n\u001b[1;32m    435\u001b[0m \u001b[38;5;28;01mif\u001b[39;00m \u001b[38;5;28mself\u001b[39m\u001b[38;5;241m.\u001b[39mssl_context:\n\u001b[1;32m    436\u001b[0m     \u001b[38;5;28mself\u001b[39m\u001b[38;5;241m.\u001b[39msocket \u001b[38;5;241m=\u001b[39m \u001b[38;5;28mself\u001b[39m\u001b[38;5;241m.\u001b[39mssl_context\u001b[38;5;241m.\u001b[39mwrap_socket(\n\u001b[1;32m    437\u001b[0m         \u001b[38;5;28mself\u001b[39m\u001b[38;5;241m.\u001b[39msocket, server_hostname\u001b[38;5;241m=\u001b[39m\u001b[38;5;28mself\u001b[39m\u001b[38;5;241m.\u001b[39mjava_address)\n\u001b[0;32m--> 438\u001b[0m \u001b[38;5;28;43mself\u001b[39;49m\u001b[38;5;241;43m.\u001b[39;49m\u001b[43msocket\u001b[49m\u001b[38;5;241;43m.\u001b[39;49m\u001b[43mconnect\u001b[49m\u001b[43m(\u001b[49m\u001b[43m(\u001b[49m\u001b[38;5;28;43mself\u001b[39;49m\u001b[38;5;241;43m.\u001b[39;49m\u001b[43mjava_address\u001b[49m\u001b[43m,\u001b[49m\u001b[43m \u001b[49m\u001b[38;5;28;43mself\u001b[39;49m\u001b[38;5;241;43m.\u001b[39;49m\u001b[43mjava_port\u001b[49m\u001b[43m)\u001b[49m\u001b[43m)\u001b[49m\n\u001b[1;32m    439\u001b[0m \u001b[38;5;28mself\u001b[39m\u001b[38;5;241m.\u001b[39mstream \u001b[38;5;241m=\u001b[39m \u001b[38;5;28mself\u001b[39m\u001b[38;5;241m.\u001b[39msocket\u001b[38;5;241m.\u001b[39mmakefile(\u001b[38;5;124m\"\u001b[39m\u001b[38;5;124mrb\u001b[39m\u001b[38;5;124m\"\u001b[39m)\n\u001b[1;32m    440\u001b[0m \u001b[38;5;28mself\u001b[39m\u001b[38;5;241m.\u001b[39mis_connected \u001b[38;5;241m=\u001b[39m \u001b[38;5;28;01mTrue\u001b[39;00m\n",
      "\u001b[0;31mConnectionRefusedError\u001b[0m: [Errno 111] Connection refused"
     ]
    }
   ],
   "source": [
    "taxi_df_with_boroughs.head(10)"
   ]
  },
  {
   "cell_type": "code",
   "execution_count": 13,
   "id": "fa9643c7-f364-4ec0-86a4-36221014d4b5",
   "metadata": {},
   "outputs": [],
   "source": [
    "# Checkpoint 2: Time computations\n",
    "taxi_df_with_time = taxi_df_with_boroughs\n",
    "# 1) Convert timestamps to unix\n",
    "taxi_df_with_time = taxi_df_with_time.withColumn(\n",
    "    \"pickup_unix\",\n",
    "    unix_timestamp(col(\"pickup_datetime\"), \"yyyy-MM-dd HH:mm:ss\")\n",
    ")\n",
    "taxi_df_with_time = taxi_df_with_time.withColumn(\n",
    "    \"dropoff_unix\",\n",
    "    unix_timestamp(col(\"dropoff_datetime\"), \"yyyy-MM-dd HH:mm:ss\")\n",
    ")\n",
    "\n",
    "# 2) Add duration column\n",
    "taxi_df_with_time = taxi_df_with_time.withColumn(\n",
    "    \"duration\",\n",
    "    col(\"dropoff_unix\") - col(\"pickup_unix\")\n",
    ")\n",
    "\n",
    "# 3) Then filter using duration\n",
    "four_hours_in_seconds = 4 * 60 * 60\n",
    "taxi_df_with_time = taxi_df_with_time.filter(\n",
    "    (col(\"duration\") > 0) & (col(\"duration\") <= four_hours_in_seconds)\n",
    ")"
   ]
  },
  {
   "cell_type": "code",
   "execution_count": 14,
   "id": "c7fe4284-6c0e-40a6-83ee-75c864cffdad",
   "metadata": {},
   "outputs": [],
   "source": [
    "# Define window specification to order trips per taxi\n",
    "window_spec = Window.partitionBy(\"medallion\").orderBy(\"pickup_unix\")\n",
    "\n",
    "# Get the previous trip's dropoff time (Unix timestamp)\n",
    "taxi_df = taxi_df_with_time.withColumn(\"prev_dropoff_unix\", lag(\"dropoff_unix\").over(window_spec))\n",
    "\n",
    "# Compute idle time only when a previous trip exists\n",
    "taxi_df = taxi_df.withColumn(\n",
    "    \"idle_time\",\n",
    "    when(col(\"prev_dropoff_unix\").isNotNull(),\n",
    "         when((col(\"pickup_unix\") - col(\"prev_dropoff_unix\")) <= four_hours_in_seconds,\n",
    "              col(\"pickup_unix\") - col(\"prev_dropoff_unix\")\n",
    "         ).otherwise(0)\n",
    "    ).otherwise(0)\n",
    ")\n",
    "\n"
   ]
  },
  {
   "cell_type": "code",
   "execution_count": 15,
   "id": "410932e9-7b5e-4157-bedf-80747bc4b372",
   "metadata": {},
   "outputs": [],
   "source": [
    "# Group by taxi to calculate total trip time and total idle time\n",
    "utilization_df = taxi_df.groupBy(\"medallion\").agg(\n",
    "    spark_sum(\"duration\").alias(\"total_trip_time\"),\n",
    "    spark_sum(\"idle_time\").alias(\"total_idle_time\")\n",
    ")\n",
    "\n",
    "\n",
    "# Calculate utilization rate\n",
    "utilization_df = utilization_df.withColumn(\n",
    "    \"utilization_rate\",\n",
    "    col(\"total_trip_time\") / (col(\"total_trip_time\") + col(\"total_idle_time\"))\n",
    ")"
   ]
  },
  {
   "cell_type": "code",
   "execution_count": null,
   "id": "de9f8365-dbb1-4bd2-8c72-856848fd331a",
   "metadata": {},
   "outputs": [],
   "source": [
    "utilization_df.head()"
   ]
  },
  {
   "cell_type": "code",
   "execution_count": 16,
   "id": "46d83299-1d94-49b3-a246-4594673fcb6c",
   "metadata": {},
   "outputs": [],
   "source": [
    "taxi_window = Window.partitionBy(\"medallion\").orderBy(\"dropoff_unix\")\n",
    "\n",
    "# Get the next trip's pickup time within the same taxi\n",
    "taxi_df = taxi_df.withColumn(\"next_pickup_unix\", lead(\"pickup_unix\").over(taxi_window))\n",
    "\n",
    "# Calculate time to next fare, ensuring non-negative values\n",
    "taxi_df = taxi_df.withColumn(\n",
    "    \"time_to_next_fare\",\n",
    "    when(\n",
    "        (col(\"next_pickup_unix\").isNotNull()) & (col(\"next_pickup_unix\") >= col(\"dropoff_unix\")),\n",
    "        col(\"next_pickup_unix\") - col(\"dropoff_unix\")\n",
    "    ).otherwise(None)  # Ignore invalid (negative) idle times\n",
    ")\n",
    "\n",
    "# Now, calculate the average time to next fare per borough\n",
    "next_fare_df = taxi_df \\\n",
    "    .filter(col(\"time_to_next_fare\").isNotNull()) \\\n",
    "    .groupBy(\"dropoff_borough\") \\\n",
    "    .agg(avg(\"time_to_next_fare\").alias(\"avg_time_to_next_fare\"))"
   ]
  },
  {
   "cell_type": "code",
   "execution_count": null,
   "id": "bdb1974b-1d42-4a9d-9896-3d4f88ea3341",
   "metadata": {},
   "outputs": [],
   "source": [
    "utilization_df.count()"
   ]
  },
  {
   "cell_type": "code",
   "execution_count": 17,
   "id": "f369802f-4349-4bce-a547-88f9edc41317",
   "metadata": {},
   "outputs": [],
   "source": [
    "\n",
    "# Count Trips Within the Same Borough\n",
    "same_borough_df = taxi_df.filter(col(\"pickup_borough\") == col(\"dropoff_borough\"))\n",
    "same_borough_count = same_borough_df.groupBy(\"pickup_borough\").agg(count(\"medallion\").alias(\"same_borough_trips\"))\n"
   ]
  },
  {
   "cell_type": "code",
   "execution_count": 18,
   "id": "dcf089a8-ac60-4ebf-a1b8-18b285a8a53e",
   "metadata": {},
   "outputs": [],
   "source": [
    "# Count Trips Between Different Boroughs\n",
    "diff_borough_df = taxi_df.filter(col(\"pickup_borough\") != col(\"dropoff_borough\"))\n",
    "diff_borough_count = diff_borough_df.groupBy(\"pickup_borough\", \"dropoff_borough\").agg(count(\"medallion\").alias(\"cross_borough_trips\"))"
   ]
  },
  {
   "cell_type": "markdown",
   "id": "71df1bbe-386c-4c41-896a-cdf754486842",
   "metadata": {},
   "source": [
    "## Results"
   ]
  },
  {
   "cell_type": "markdown",
   "id": "80c62daa-f34d-40b7-b47b-3a6937cb365e",
   "metadata": {},
   "source": [
    "### Query 1"
   ]
  },
  {
   "cell_type": "code",
   "execution_count": 19,
   "id": "f3e82720-73ed-457e-8fa1-30f8234894db",
   "metadata": {},
   "outputs": [
    {
     "name": "stdout",
     "output_type": "stream",
     "text": [
      "== Physical Plan ==\n",
      "AdaptiveSparkPlan isFinalPlan=false\n",
      "+- Project [medallion#0, total_trip_time#116L, total_idle_time#118L, (cast(total_trip_time#116L as double) / cast((total_trip_time#116L + total_idle_time#118L) as double)) AS utilization_rate#122]\n",
      "   +- HashAggregate(keys=[medallion#0], functions=[sum(duration#59L), sum(idle_time#86L)])\n",
      "      +- HashAggregate(keys=[medallion#0], functions=[partial_sum(duration#59L), partial_sum(idle_time#86L)])\n",
      "         +- Project [medallion#0, duration#59L, CASE WHEN isnotnull(prev_dropoff_unix#72L) THEN CASE WHEN ((pickup_unix#36L - prev_dropoff_unix#72L) <= 14400) THEN (pickup_unix#36L - prev_dropoff_unix#72L) ELSE 0 END ELSE 0 END AS idle_time#86L]\n",
      "            +- Window [lag(dropoff_unix#47L, -1, null) windowspecdefinition(medallion#0, pickup_unix#36L ASC NULLS FIRST, specifiedwindowframe(RowFrame, -1, -1)) AS prev_dropoff_unix#72L], [medallion#0], [pickup_unix#36L ASC NULLS FIRST]\n",
      "               +- Sort [medallion#0 ASC NULLS FIRST, pickup_unix#36L ASC NULLS FIRST], false, 0\n",
      "                  +- Exchange hashpartitioning(medallion#0, 500), ENSURE_REQUIREMENTS, [plan_id=37]\n",
      "                     +- Project [medallion#0, pickup_unix#36L, dropoff_unix#47L, (dropoff_unix#47L - pickup_unix#36L) AS duration#59L]\n",
      "                        +- Project [medallion#0, unix_timestamp(pickup_datetime#1, yyyy-MM-dd HH:mm:ss, Some(Europe/Tallinn), false) AS pickup_unix#36L, unix_timestamp(dropoff_datetime#2, yyyy-MM-dd HH:mm:ss, Some(Europe/Tallinn), false) AS dropoff_unix#47L]\n",
      "                           +- Exchange RoundRobinPartitioning(500), REPARTITION_BY_NUM, [plan_id=28]\n",
      "                              +- Filter (((unix_timestamp(dropoff_datetime#2, yyyy-MM-dd HH:mm:ss, Some(Europe/Tallinn), false) - unix_timestamp(pickup_datetime#1, yyyy-MM-dd HH:mm:ss, Some(Europe/Tallinn), false)) > 0) AND ((unix_timestamp(dropoff_datetime#2, yyyy-MM-dd HH:mm:ss, Some(Europe/Tallinn), false) - unix_timestamp(pickup_datetime#1, yyyy-MM-dd HH:mm:ss, Some(Europe/Tallinn), false)) <= 14400))\n",
      "                                 +- FileScan parquet [medallion#0,pickup_datetime#1,dropoff_datetime#2] Batched: true, DataFilters: [((unix_timestamp(dropoff_datetime#2, yyyy-MM-dd HH:mm:ss, Some(Europe/Tallinn), false) - unix_ti..., Format: Parquet, Location: InMemoryFileIndex(1 paths)[file:/gpfs/helios/home/fidankarimova/input/taxi_data.parquet], PartitionFilters: [], PushedFilters: [], ReadSchema: struct<medallion:string,pickup_datetime:string,dropoff_datetime:string>\n",
      "\n",
      "\n"
     ]
    }
   ],
   "source": [
    "# First print the explain to see the strategy taken\n",
    "utilization_df.explain()"
   ]
  },
  {
   "cell_type": "code",
   "execution_count": 21,
   "id": "329cdb04-9b04-4723-ad16-5aeee05e4f7e",
   "metadata": {},
   "outputs": [
    {
     "name": "stderr",
     "output_type": "stream",
     "text": [
      "                                                                                \r"
     ]
    },
    {
     "data": {
      "text/plain": [
       "Row(medallion='06EAD4C8D98202F1E2D7057F2899CFE5', total_trip_time=11571113, total_idle_time=14932563, utilization_rate=0.4365852118023175)"
      ]
     },
     "execution_count": 21,
     "metadata": {},
     "output_type": "execute_result"
    }
   ],
   "source": [
    "utilization_df.head()"
   ]
  },
  {
   "cell_type": "code",
   "execution_count": 22,
   "id": "afbd21f7-89cc-4b97-9a09-7141c2f2bee4",
   "metadata": {},
   "outputs": [
    {
     "name": "stderr",
     "output_type": "stream",
     "text": [
      "25/03/10 19:35:10 WARN SparkStringUtils: Truncated the string representation of a plan since it was too large. This behavior can be adjusted by setting 'spark.sql.debug.maxToStringFields'.\n",
      "                                                                                \r"
     ]
    },
    {
     "name": "stdout",
     "output_type": "stream",
     "text": [
      "+-------+--------------------+------------------+--------------------+--------------------+\n",
      "|summary|           medallion|   total_trip_time|     total_idle_time|    utilization_rate|\n",
      "+-------+--------------------+------------------+--------------------+--------------------+\n",
      "|  count|               13950|             13950|               13950|               13950|\n",
      "|   mean|                NULL|  9369729.37655914|1.0493901201433692E7| 0.48591915121191526|\n",
      "| stddev|                NULL|2934460.2045294577|  3768215.3724788963| 0.08895252777518448|\n",
      "|    min|00005007A9F30E289...|                 1|                   0|0.007591491799756499|\n",
      "|    25%|                NULL|           8435580|             8870100|  0.4483242113031179|\n",
      "|    50%|                NULL|          10126844|            11188662| 0.47429782186649366|\n",
      "|    75%|                NULL|          11290790|            13151771|  0.5039663927829022|\n",
      "|    max|FFFECF75AB6CC4FF9...|          14555220|            18421293|                 1.0|\n",
      "+-------+--------------------+------------------+--------------------+--------------------+\n",
      "\n"
     ]
    }
   ],
   "source": [
    "utilization_df.summary().show()"
   ]
  },
  {
   "cell_type": "code",
   "execution_count": 23,
   "id": "b2a07a40-cbaf-461f-b128-7e2e352db37d",
   "metadata": {},
   "outputs": [
    {
     "name": "stderr",
     "output_type": "stream",
     "text": [
      "                                                                                \r"
     ]
    },
    {
     "name": "stdout",
     "output_type": "stream",
     "text": [
      "+---------------+---------------------+\n",
      "|dropoff_borough|avg_time_to_next_fare|\n",
      "+---------------+---------------------+\n",
      "|         Queens|    5452.720278444093|\n",
      "|        Unknown|   1495.1725602356166|\n",
      "|      Manhattan|     5703.44469598965|\n",
      "|  Staten Island|         7951.6190625|\n",
      "+---------------+---------------------+\n",
      "\n"
     ]
    },
    {
     "name": "stderr",
     "output_type": "stream",
     "text": [
      "                                                                                \r"
     ]
    },
    {
     "name": "stdout",
     "output_type": "stream",
     "text": [
      "+--------------+------------------+\n",
      "|pickup_borough|same_borough_trips|\n",
      "+--------------+------------------+\n",
      "|        Queens|           2248833|\n",
      "|       Unknown|         157850253|\n",
      "| Staten Island|              3179|\n",
      "|     Manhattan|                57|\n",
      "+--------------+------------------+\n",
      "\n"
     ]
    },
    {
     "name": "stderr",
     "output_type": "stream",
     "text": [
      "ERROR:root:KeyboardInterrupt while sending command.            (359 + 24) / 500]\n",
      "Traceback (most recent call last):\n",
      "  File \"/gpfs/helios/home/fidankarimova/myenv/lib/python3.9/site-packages/py4j/java_gateway.py\", line 1038, in send_command\n",
      "    response = connection.send_command(command)\n",
      "  File \"/gpfs/helios/home/fidankarimova/myenv/lib/python3.9/site-packages/py4j/clientserver.py\", line 511, in send_command\n",
      "    answer = smart_decode(self.stream.readline()[:-1])\n",
      "  File \"/gpfs/space/software/jupyterhub/python3.9-rhel9/lib/python3.9/socket.py\", line 704, in readinto\n",
      "    return self._sock.recv_into(b)\n",
      "KeyboardInterrupt\n"
     ]
    },
    {
     "ename": "KeyboardInterrupt",
     "evalue": "",
     "output_type": "error",
     "traceback": [
      "\u001b[0;31m---------------------------------------------------------------------------\u001b[0m",
      "\u001b[0;31mKeyboardInterrupt\u001b[0m                         Traceback (most recent call last)",
      "Cell \u001b[0;32mIn[23], line 4\u001b[0m\n\u001b[1;32m      2\u001b[0m next_fare_df\u001b[38;5;241m.\u001b[39mshow()\n\u001b[1;32m      3\u001b[0m same_borough_count\u001b[38;5;241m.\u001b[39mshow()\n\u001b[0;32m----> 4\u001b[0m \u001b[43mdiff_borough_count\u001b[49m\u001b[38;5;241;43m.\u001b[39;49m\u001b[43mshow\u001b[49m\u001b[43m(\u001b[49m\u001b[43m)\u001b[49m\n",
      "File \u001b[0;32m~/myenv/lib/python3.9/site-packages/pyspark/sql/dataframe.py:947\u001b[0m, in \u001b[0;36mDataFrame.show\u001b[0;34m(self, n, truncate, vertical)\u001b[0m\n\u001b[1;32m    887\u001b[0m \u001b[38;5;28;01mdef\u001b[39;00m\u001b[38;5;250m \u001b[39m\u001b[38;5;21mshow\u001b[39m(\u001b[38;5;28mself\u001b[39m, n: \u001b[38;5;28mint\u001b[39m \u001b[38;5;241m=\u001b[39m \u001b[38;5;241m20\u001b[39m, truncate: Union[\u001b[38;5;28mbool\u001b[39m, \u001b[38;5;28mint\u001b[39m] \u001b[38;5;241m=\u001b[39m \u001b[38;5;28;01mTrue\u001b[39;00m, vertical: \u001b[38;5;28mbool\u001b[39m \u001b[38;5;241m=\u001b[39m \u001b[38;5;28;01mFalse\u001b[39;00m) \u001b[38;5;241m-\u001b[39m\u001b[38;5;241m>\u001b[39m \u001b[38;5;28;01mNone\u001b[39;00m:\n\u001b[1;32m    888\u001b[0m \u001b[38;5;250m    \u001b[39m\u001b[38;5;124;03m\"\"\"Prints the first ``n`` rows to the console.\u001b[39;00m\n\u001b[1;32m    889\u001b[0m \n\u001b[1;32m    890\u001b[0m \u001b[38;5;124;03m    .. versionadded:: 1.3.0\u001b[39;00m\n\u001b[0;32m   (...)\u001b[0m\n\u001b[1;32m    945\u001b[0m \u001b[38;5;124;03m    name | Bob\u001b[39;00m\n\u001b[1;32m    946\u001b[0m \u001b[38;5;124;03m    \"\"\"\u001b[39;00m\n\u001b[0;32m--> 947\u001b[0m     \u001b[38;5;28mprint\u001b[39m(\u001b[38;5;28;43mself\u001b[39;49m\u001b[38;5;241;43m.\u001b[39;49m\u001b[43m_show_string\u001b[49m\u001b[43m(\u001b[49m\u001b[43mn\u001b[49m\u001b[43m,\u001b[49m\u001b[43m \u001b[49m\u001b[43mtruncate\u001b[49m\u001b[43m,\u001b[49m\u001b[43m \u001b[49m\u001b[43mvertical\u001b[49m\u001b[43m)\u001b[49m)\n",
      "File \u001b[0;32m~/myenv/lib/python3.9/site-packages/pyspark/sql/dataframe.py:965\u001b[0m, in \u001b[0;36mDataFrame._show_string\u001b[0;34m(self, n, truncate, vertical)\u001b[0m\n\u001b[1;32m    959\u001b[0m     \u001b[38;5;28;01mraise\u001b[39;00m PySparkTypeError(\n\u001b[1;32m    960\u001b[0m         error_class\u001b[38;5;241m=\u001b[39m\u001b[38;5;124m\"\u001b[39m\u001b[38;5;124mNOT_BOOL\u001b[39m\u001b[38;5;124m\"\u001b[39m,\n\u001b[1;32m    961\u001b[0m         message_parameters\u001b[38;5;241m=\u001b[39m{\u001b[38;5;124m\"\u001b[39m\u001b[38;5;124marg_name\u001b[39m\u001b[38;5;124m\"\u001b[39m: \u001b[38;5;124m\"\u001b[39m\u001b[38;5;124mvertical\u001b[39m\u001b[38;5;124m\"\u001b[39m, \u001b[38;5;124m\"\u001b[39m\u001b[38;5;124marg_type\u001b[39m\u001b[38;5;124m\"\u001b[39m: \u001b[38;5;28mtype\u001b[39m(vertical)\u001b[38;5;241m.\u001b[39m\u001b[38;5;18m__name__\u001b[39m},\n\u001b[1;32m    962\u001b[0m     )\n\u001b[1;32m    964\u001b[0m \u001b[38;5;28;01mif\u001b[39;00m \u001b[38;5;28misinstance\u001b[39m(truncate, \u001b[38;5;28mbool\u001b[39m) \u001b[38;5;129;01mand\u001b[39;00m truncate:\n\u001b[0;32m--> 965\u001b[0m     \u001b[38;5;28;01mreturn\u001b[39;00m \u001b[38;5;28;43mself\u001b[39;49m\u001b[38;5;241;43m.\u001b[39;49m\u001b[43m_jdf\u001b[49m\u001b[38;5;241;43m.\u001b[39;49m\u001b[43mshowString\u001b[49m\u001b[43m(\u001b[49m\u001b[43mn\u001b[49m\u001b[43m,\u001b[49m\u001b[43m \u001b[49m\u001b[38;5;241;43m20\u001b[39;49m\u001b[43m,\u001b[49m\u001b[43m \u001b[49m\u001b[43mvertical\u001b[49m\u001b[43m)\u001b[49m\n\u001b[1;32m    966\u001b[0m \u001b[38;5;28;01melse\u001b[39;00m:\n\u001b[1;32m    967\u001b[0m     \u001b[38;5;28;01mtry\u001b[39;00m:\n",
      "File \u001b[0;32m~/myenv/lib/python3.9/site-packages/py4j/java_gateway.py:1321\u001b[0m, in \u001b[0;36mJavaMember.__call__\u001b[0;34m(self, *args)\u001b[0m\n\u001b[1;32m   1314\u001b[0m args_command, temp_args \u001b[38;5;241m=\u001b[39m \u001b[38;5;28mself\u001b[39m\u001b[38;5;241m.\u001b[39m_build_args(\u001b[38;5;241m*\u001b[39margs)\n\u001b[1;32m   1316\u001b[0m command \u001b[38;5;241m=\u001b[39m proto\u001b[38;5;241m.\u001b[39mCALL_COMMAND_NAME \u001b[38;5;241m+\u001b[39m\\\n\u001b[1;32m   1317\u001b[0m     \u001b[38;5;28mself\u001b[39m\u001b[38;5;241m.\u001b[39mcommand_header \u001b[38;5;241m+\u001b[39m\\\n\u001b[1;32m   1318\u001b[0m     args_command \u001b[38;5;241m+\u001b[39m\\\n\u001b[1;32m   1319\u001b[0m     proto\u001b[38;5;241m.\u001b[39mEND_COMMAND_PART\n\u001b[0;32m-> 1321\u001b[0m answer \u001b[38;5;241m=\u001b[39m \u001b[38;5;28;43mself\u001b[39;49m\u001b[38;5;241;43m.\u001b[39;49m\u001b[43mgateway_client\u001b[49m\u001b[38;5;241;43m.\u001b[39;49m\u001b[43msend_command\u001b[49m\u001b[43m(\u001b[49m\u001b[43mcommand\u001b[49m\u001b[43m)\u001b[49m\n\u001b[1;32m   1322\u001b[0m return_value \u001b[38;5;241m=\u001b[39m get_return_value(\n\u001b[1;32m   1323\u001b[0m     answer, \u001b[38;5;28mself\u001b[39m\u001b[38;5;241m.\u001b[39mgateway_client, \u001b[38;5;28mself\u001b[39m\u001b[38;5;241m.\u001b[39mtarget_id, \u001b[38;5;28mself\u001b[39m\u001b[38;5;241m.\u001b[39mname)\n\u001b[1;32m   1325\u001b[0m \u001b[38;5;28;01mfor\u001b[39;00m temp_arg \u001b[38;5;129;01min\u001b[39;00m temp_args:\n",
      "File \u001b[0;32m~/myenv/lib/python3.9/site-packages/py4j/java_gateway.py:1038\u001b[0m, in \u001b[0;36mGatewayClient.send_command\u001b[0;34m(self, command, retry, binary)\u001b[0m\n\u001b[1;32m   1036\u001b[0m connection \u001b[38;5;241m=\u001b[39m \u001b[38;5;28mself\u001b[39m\u001b[38;5;241m.\u001b[39m_get_connection()\n\u001b[1;32m   1037\u001b[0m \u001b[38;5;28;01mtry\u001b[39;00m:\n\u001b[0;32m-> 1038\u001b[0m     response \u001b[38;5;241m=\u001b[39m \u001b[43mconnection\u001b[49m\u001b[38;5;241;43m.\u001b[39;49m\u001b[43msend_command\u001b[49m\u001b[43m(\u001b[49m\u001b[43mcommand\u001b[49m\u001b[43m)\u001b[49m\n\u001b[1;32m   1039\u001b[0m     \u001b[38;5;28;01mif\u001b[39;00m binary:\n\u001b[1;32m   1040\u001b[0m         \u001b[38;5;28;01mreturn\u001b[39;00m response, \u001b[38;5;28mself\u001b[39m\u001b[38;5;241m.\u001b[39m_create_connection_guard(connection)\n",
      "File \u001b[0;32m~/myenv/lib/python3.9/site-packages/py4j/clientserver.py:511\u001b[0m, in \u001b[0;36mClientServerConnection.send_command\u001b[0;34m(self, command)\u001b[0m\n\u001b[1;32m    509\u001b[0m \u001b[38;5;28;01mtry\u001b[39;00m:\n\u001b[1;32m    510\u001b[0m     \u001b[38;5;28;01mwhile\u001b[39;00m \u001b[38;5;28;01mTrue\u001b[39;00m:\n\u001b[0;32m--> 511\u001b[0m         answer \u001b[38;5;241m=\u001b[39m smart_decode(\u001b[38;5;28;43mself\u001b[39;49m\u001b[38;5;241;43m.\u001b[39;49m\u001b[43mstream\u001b[49m\u001b[38;5;241;43m.\u001b[39;49m\u001b[43mreadline\u001b[49m\u001b[43m(\u001b[49m\u001b[43m)\u001b[49m[:\u001b[38;5;241m-\u001b[39m\u001b[38;5;241m1\u001b[39m])\n\u001b[1;32m    512\u001b[0m         logger\u001b[38;5;241m.\u001b[39mdebug(\u001b[38;5;124m\"\u001b[39m\u001b[38;5;124mAnswer received: \u001b[39m\u001b[38;5;132;01m{0}\u001b[39;00m\u001b[38;5;124m\"\u001b[39m\u001b[38;5;241m.\u001b[39mformat(answer))\n\u001b[1;32m    513\u001b[0m         \u001b[38;5;66;03m# Happens when a the other end is dead. There might be an empty\u001b[39;00m\n\u001b[1;32m    514\u001b[0m         \u001b[38;5;66;03m# answer before the socket raises an error.\u001b[39;00m\n",
      "File \u001b[0;32m/gpfs/space/software/jupyterhub/python3.9-rhel9/lib/python3.9/socket.py:704\u001b[0m, in \u001b[0;36mSocketIO.readinto\u001b[0;34m(self, b)\u001b[0m\n\u001b[1;32m    702\u001b[0m \u001b[38;5;28;01mwhile\u001b[39;00m \u001b[38;5;28;01mTrue\u001b[39;00m:\n\u001b[1;32m    703\u001b[0m     \u001b[38;5;28;01mtry\u001b[39;00m:\n\u001b[0;32m--> 704\u001b[0m         \u001b[38;5;28;01mreturn\u001b[39;00m \u001b[38;5;28;43mself\u001b[39;49m\u001b[38;5;241;43m.\u001b[39;49m\u001b[43m_sock\u001b[49m\u001b[38;5;241;43m.\u001b[39;49m\u001b[43mrecv_into\u001b[49m\u001b[43m(\u001b[49m\u001b[43mb\u001b[49m\u001b[43m)\u001b[49m\n\u001b[1;32m    705\u001b[0m     \u001b[38;5;28;01mexcept\u001b[39;00m timeout:\n\u001b[1;32m    706\u001b[0m         \u001b[38;5;28mself\u001b[39m\u001b[38;5;241m.\u001b[39m_timeout_occurred \u001b[38;5;241m=\u001b[39m \u001b[38;5;28;01mTrue\u001b[39;00m\n",
      "\u001b[0;31mKeyboardInterrupt\u001b[0m: "
     ]
    }
   ],
   "source": [
    "# Show Results\n",
    "next_fare_df.show()\n",
    "same_borough_count.show()\n",
    "diff_borough_count.show()"
   ]
  },
  {
   "cell_type": "code",
   "execution_count": 20,
   "id": "743c82c0-4738-4ef4-9caf-65d9fada6a64",
   "metadata": {},
   "outputs": [
    {
     "name": "stderr",
     "output_type": "stream",
     "text": [
      "                                                                                \r"
     ]
    },
    {
     "name": "stdout",
     "output_type": "stream",
     "text": [
      "+--------------+---------------+-------------------+\n",
      "|pickup_borough|dropoff_borough|cross_borough_trips|\n",
      "+--------------+---------------+-------------------+\n",
      "|       Unknown|  Staten Island|              24341|\n",
      "|     Manhattan|        Unknown|               1010|\n",
      "|        Queens|      Manhattan|                731|\n",
      "|       Unknown|      Manhattan|               5402|\n",
      "|        Queens|        Unknown|            6324787|\n",
      "|        Queens|  Staten Island|               7710|\n",
      "|       Unknown|         Queens|            6195547|\n",
      "| Staten Island|        Unknown|                650|\n",
      "| Staten Island|         Queens|                 46|\n",
      "|     Manhattan|         Queens|                 15|\n",
      "+--------------+---------------+-------------------+\n",
      "\n"
     ]
    }
   ],
   "source": [
    "diff_borough_count.show()"
   ]
  },
  {
   "cell_type": "code",
   "execution_count": 21,
   "id": "138deffc-72e3-47ae-8ee4-47e39d044de7",
   "metadata": {},
   "outputs": [
    {
     "name": "stdout",
     "output_type": "stream",
     "text": [
      "== Physical Plan ==\n",
      "AdaptiveSparkPlan isFinalPlan=false\n",
      "+- Project [medallion#0, total_trip_time#116L, total_idle_time#118L, (cast(total_trip_time#116L as double) / cast((total_trip_time#116L + total_idle_time#118L) as double)) AS utilization_rate#122]\n",
      "   +- HashAggregate(keys=[medallion#0], functions=[sum(duration#59L), sum(idle_time#86L)])\n",
      "      +- HashAggregate(keys=[medallion#0], functions=[partial_sum(duration#59L), partial_sum(idle_time#86L)])\n",
      "         +- Project [medallion#0, duration#59L, CASE WHEN isnotnull(prev_dropoff_unix#72L) THEN CASE WHEN ((pickup_unix#36L - prev_dropoff_unix#72L) <= 14400) THEN (pickup_unix#36L - prev_dropoff_unix#72L) ELSE 0 END ELSE 0 END AS idle_time#86L]\n",
      "            +- Window [lag(dropoff_unix#47L, -1, null) windowspecdefinition(medallion#0, pickup_unix#36L ASC NULLS FIRST, specifiedwindowframe(RowFrame, -1, -1)) AS prev_dropoff_unix#72L], [medallion#0], [pickup_unix#36L ASC NULLS FIRST]\n",
      "               +- Sort [medallion#0 ASC NULLS FIRST, pickup_unix#36L ASC NULLS FIRST], false, 0\n",
      "                  +- Exchange hashpartitioning(medallion#0, 500), ENSURE_REQUIREMENTS, [plan_id=37]\n",
      "                     +- Project [medallion#0, pickup_unix#36L, dropoff_unix#47L, (dropoff_unix#47L - pickup_unix#36L) AS duration#59L]\n",
      "                        +- Project [medallion#0, unix_timestamp(pickup_datetime#1, yyyy-MM-dd HH:mm:ss, Some(Europe/Tallinn), false) AS pickup_unix#36L, unix_timestamp(dropoff_datetime#2, yyyy-MM-dd HH:mm:ss, Some(Europe/Tallinn), false) AS dropoff_unix#47L]\n",
      "                           +- Exchange RoundRobinPartitioning(500), REPARTITION_BY_NUM, [plan_id=28]\n",
      "                              +- Filter (((unix_timestamp(dropoff_datetime#2, yyyy-MM-dd HH:mm:ss, Some(Europe/Tallinn), false) - unix_timestamp(pickup_datetime#1, yyyy-MM-dd HH:mm:ss, Some(Europe/Tallinn), false)) > 0) AND ((unix_timestamp(dropoff_datetime#2, yyyy-MM-dd HH:mm:ss, Some(Europe/Tallinn), false) - unix_timestamp(pickup_datetime#1, yyyy-MM-dd HH:mm:ss, Some(Europe/Tallinn), false)) <= 14400))\n",
      "                                 +- FileScan parquet [medallion#0,pickup_datetime#1,dropoff_datetime#2] Batched: true, DataFilters: [((unix_timestamp(dropoff_datetime#2, yyyy-MM-dd HH:mm:ss, Some(Europe/Tallinn), false) - unix_ti..., Format: Parquet, Location: InMemoryFileIndex(1 paths)[file:/gpfs/helios/home/fidankarimova/input/taxi_data.parquet], PartitionFilters: [], PushedFilters: [], ReadSchema: struct<medallion:string,pickup_datetime:string,dropoff_datetime:string>\n",
      "\n",
      "\n"
     ]
    }
   ],
   "source": [
    "utilization_df.explain()"
   ]
  },
  {
   "cell_type": "markdown",
   "id": "d4bb3d2b-619e-4d7c-96e8-83ee6c5a1795",
   "metadata": {},
   "source": [
    "## Basic EDA"
   ]
  },
  {
   "cell_type": "code",
   "execution_count": 22,
   "id": "a0a13489-9433-4e01-b3c3-edf3902b213c",
   "metadata": {},
   "outputs": [
    {
     "name": "stderr",
     "output_type": "stream",
     "text": [
      "25/03/10 22:17:40 WARN SparkStringUtils: Truncated the string representation of a plan since it was too large. This behavior can be adjusted by setting 'spark.sql.debug.maxToStringFields'.\n",
      "[Stage 15:>                                                         (0 + 1) / 1]\r"
     ]
    },
    {
     "name": "stdout",
     "output_type": "stream",
     "text": [
      "+-------+--------------------+------------------+--------------------+--------------------+\n",
      "|summary|           medallion|   total_trip_time|     total_idle_time|    utilization_rate|\n",
      "+-------+--------------------+------------------+--------------------+--------------------+\n",
      "|  count|               13950|             13950|               13950|               13950|\n",
      "|   mean|                NULL|  9369729.37655914|1.0493901201433692E7| 0.48591915121191526|\n",
      "| stddev|                NULL|2934460.2045294577|  3768215.3724788963| 0.08895252777518448|\n",
      "|    min|00005007A9F30E289...|                 1|                   0|0.007591491799756499|\n",
      "|    25%|                NULL|           8435580|             8870100|  0.4483242113031179|\n",
      "|    50%|                NULL|          10126844|            11188662| 0.47429782186649366|\n",
      "|    75%|                NULL|          11290790|            13151771|  0.5039663927829022|\n",
      "|    max|FFFECF75AB6CC4FF9...|          14555220|            18421293|                 1.0|\n",
      "+-------+--------------------+------------------+--------------------+--------------------+\n",
      "\n"
     ]
    },
    {
     "name": "stderr",
     "output_type": "stream",
     "text": [
      "                                                                                \r"
     ]
    }
   ],
   "source": [
    "utilization_df.summary().show()"
   ]
  },
  {
   "cell_type": "code",
   "execution_count": 23,
   "id": "f3fb7a2d-68c4-4c91-9cc5-9ed691ad4e9f",
   "metadata": {},
   "outputs": [],
   "source": [
    "df_with_hours_and_minutes = utilization_df.withColumn('trip_time_hours', col('total_trip_time') / 3600) \\\n",
    "                  .withColumn('idle_time_hours', col('total_idle_time') / 3600) \\\n",
    "                  .withColumn('idle_time_minutes', col('total_idle_time') / 60) \\\n",
    "                  .withColumn('trip_time_minutes', col('total_trip_time') / 60)"
   ]
  },
  {
   "cell_type": "code",
   "execution_count": 24,
   "id": "817a87c7-e070-419c-85df-58451ba3c1ac",
   "metadata": {},
   "outputs": [
    {
     "data": {
      "text/plain": [
       "['string',\n",
       " 'bigint',\n",
       " 'bigint',\n",
       " 'double',\n",
       " 'double',\n",
       " 'double',\n",
       " 'double',\n",
       " 'double']"
      ]
     },
     "execution_count": 24,
     "metadata": {},
     "output_type": "execute_result"
    }
   ],
   "source": [
    "[field.dataType.simpleString() for field in df_with_hours_and_minutes.schema.fields]"
   ]
  },
  {
   "cell_type": "code",
   "execution_count": 26,
   "id": "23e8a163-3894-4035-8800-0f6978140d0b",
   "metadata": {},
   "outputs": [
    {
     "name": "stdout",
     "output_type": "stream",
     "text": [
      "Collecting pandas\n",
      "  Downloading pandas-2.2.3-cp39-cp39-manylinux_2_17_x86_64.manylinux2014_x86_64.whl.metadata (89 kB)\n",
      "Requirement already satisfied: numpy>=1.22.4 in ./myenv/lib/python3.9/site-packages (from pandas) (2.0.2)\n",
      "Requirement already satisfied: python-dateutil>=2.8.2 in ./myenv/lib/python3.9/site-packages (from pandas) (2.9.0.post0)\n",
      "Collecting pytz>=2020.1 (from pandas)\n",
      "  Downloading pytz-2025.1-py2.py3-none-any.whl.metadata (22 kB)\n",
      "Collecting tzdata>=2022.7 (from pandas)\n",
      "  Downloading tzdata-2025.1-py2.py3-none-any.whl.metadata (1.4 kB)\n",
      "Requirement already satisfied: six>=1.5 in ./myenv/lib/python3.9/site-packages (from python-dateutil>=2.8.2->pandas) (1.17.0)\n",
      "Downloading pandas-2.2.3-cp39-cp39-manylinux_2_17_x86_64.manylinux2014_x86_64.whl (13.1 MB)\n",
      "\u001b[2K   \u001b[90m━━━━━━━━━━━━━━━━━━━━━━━━━━━━━━━━━━━━━━━━\u001b[0m \u001b[32m13.1/13.1 MB\u001b[0m \u001b[31m92.1 MB/s\u001b[0m eta \u001b[36m0:00:00\u001b[0m\n",
      "\u001b[?25hDownloading pytz-2025.1-py2.py3-none-any.whl (507 kB)\n",
      "Downloading tzdata-2025.1-py2.py3-none-any.whl (346 kB)\n",
      "Installing collected packages: pytz, tzdata, pandas\n",
      "Successfully installed pandas-2.2.3 pytz-2025.1 tzdata-2025.1\n",
      "Note: you may need to restart the kernel to use updated packages.\n"
     ]
    }
   ],
   "source": [
    "pip install pandas"
   ]
  },
  {
   "cell_type": "code",
   "execution_count": 27,
   "id": "b85e8b68-f369-4cc0-9d4e-845bf68f14c5",
   "metadata": {},
   "outputs": [
    {
     "name": "stderr",
     "output_type": "stream",
     "text": [
      "                                                                                \r"
     ]
    },
    {
     "data": {
      "text/html": [
       "<div>\n",
       "<style scoped>\n",
       "    .dataframe tbody tr th:only-of-type {\n",
       "        vertical-align: middle;\n",
       "    }\n",
       "\n",
       "    .dataframe tbody tr th {\n",
       "        vertical-align: top;\n",
       "    }\n",
       "\n",
       "    .dataframe thead th {\n",
       "        text-align: right;\n",
       "    }\n",
       "</style>\n",
       "<table border=\"1\" class=\"dataframe\">\n",
       "  <thead>\n",
       "    <tr style=\"text-align: right;\">\n",
       "      <th></th>\n",
       "      <th>total_trip_time</th>\n",
       "      <th>total_idle_time</th>\n",
       "      <th>utilization_rate</th>\n",
       "      <th>trip_time_hours</th>\n",
       "      <th>idle_time_hours</th>\n",
       "      <th>idle_time_minutes</th>\n",
       "      <th>trip_time_minutes</th>\n",
       "    </tr>\n",
       "    <tr>\n",
       "      <th>summary</th>\n",
       "      <th></th>\n",
       "      <th></th>\n",
       "      <th></th>\n",
       "      <th></th>\n",
       "      <th></th>\n",
       "      <th></th>\n",
       "      <th></th>\n",
       "    </tr>\n",
       "  </thead>\n",
       "  <tbody>\n",
       "    <tr>\n",
       "      <th>count</th>\n",
       "      <td>13950</td>\n",
       "      <td>13950</td>\n",
       "      <td>13950</td>\n",
       "      <td>13950</td>\n",
       "      <td>13950</td>\n",
       "      <td>13950</td>\n",
       "      <td>13950</td>\n",
       "    </tr>\n",
       "    <tr>\n",
       "      <th>mean</th>\n",
       "      <td>9369729.37655914</td>\n",
       "      <td>1.0493901201433692E7</td>\n",
       "      <td>0.48591915121191526</td>\n",
       "      <td>2602.7026045997586</td>\n",
       "      <td>2914.972555953806</td>\n",
       "      <td>174898.353357228</td>\n",
       "      <td>156162.15627598573</td>\n",
       "    </tr>\n",
       "    <tr>\n",
       "      <th>stddev</th>\n",
       "      <td>2934460.2045294577</td>\n",
       "      <td>3768215.3724788963</td>\n",
       "      <td>0.08895252777518448</td>\n",
       "      <td>815.1278345915168</td>\n",
       "      <td>1046.7264923552495</td>\n",
       "      <td>62803.589541315</td>\n",
       "      <td>48907.67007549101</td>\n",
       "    </tr>\n",
       "    <tr>\n",
       "      <th>min</th>\n",
       "      <td>1</td>\n",
       "      <td>0</td>\n",
       "      <td>0.007591491799756499</td>\n",
       "      <td>2.777777777777778E-4</td>\n",
       "      <td>0.0</td>\n",
       "      <td>0.0</td>\n",
       "      <td>0.016666666666666666</td>\n",
       "    </tr>\n",
       "    <tr>\n",
       "      <th>25%</th>\n",
       "      <td>8435580</td>\n",
       "      <td>8870100</td>\n",
       "      <td>0.4483242113031179</td>\n",
       "      <td>2343.2166666666667</td>\n",
       "      <td>2463.9166666666665</td>\n",
       "      <td>147835.0</td>\n",
       "      <td>140593.0</td>\n",
       "    </tr>\n",
       "    <tr>\n",
       "      <th>50%</th>\n",
       "      <td>10126844</td>\n",
       "      <td>11188662</td>\n",
       "      <td>0.47429782186649366</td>\n",
       "      <td>2813.012222222222</td>\n",
       "      <td>3107.9616666666666</td>\n",
       "      <td>186477.7</td>\n",
       "      <td>168780.73333333334</td>\n",
       "    </tr>\n",
       "    <tr>\n",
       "      <th>75%</th>\n",
       "      <td>11290790</td>\n",
       "      <td>13151771</td>\n",
       "      <td>0.5039663927829022</td>\n",
       "      <td>3136.3305555555557</td>\n",
       "      <td>3653.2697222222223</td>\n",
       "      <td>219196.18333333332</td>\n",
       "      <td>188179.83333333334</td>\n",
       "    </tr>\n",
       "    <tr>\n",
       "      <th>max</th>\n",
       "      <td>14555220</td>\n",
       "      <td>18421293</td>\n",
       "      <td>1.0</td>\n",
       "      <td>4043.116666666667</td>\n",
       "      <td>5117.025833333333</td>\n",
       "      <td>307021.55</td>\n",
       "      <td>242587.0</td>\n",
       "    </tr>\n",
       "  </tbody>\n",
       "</table>\n",
       "</div>"
      ],
      "text/plain": [
       "            total_trip_time       total_idle_time      utilization_rate  \\\n",
       "summary                                                                   \n",
       "count                 13950                 13950                 13950   \n",
       "mean       9369729.37655914  1.0493901201433692E7   0.48591915121191526   \n",
       "stddev   2934460.2045294577    3768215.3724788963   0.08895252777518448   \n",
       "min                       1                     0  0.007591491799756499   \n",
       "25%                 8435580               8870100    0.4483242113031179   \n",
       "50%                10126844              11188662   0.47429782186649366   \n",
       "75%                11290790              13151771    0.5039663927829022   \n",
       "max                14555220              18421293                   1.0   \n",
       "\n",
       "              trip_time_hours     idle_time_hours   idle_time_minutes  \\\n",
       "summary                                                                 \n",
       "count                   13950               13950               13950   \n",
       "mean       2602.7026045997586   2914.972555953806    174898.353357228   \n",
       "stddev      815.1278345915168  1046.7264923552495     62803.589541315   \n",
       "min      2.777777777777778E-4                 0.0                 0.0   \n",
       "25%        2343.2166666666667  2463.9166666666665            147835.0   \n",
       "50%         2813.012222222222  3107.9616666666666            186477.7   \n",
       "75%        3136.3305555555557  3653.2697222222223  219196.18333333332   \n",
       "max         4043.116666666667   5117.025833333333           307021.55   \n",
       "\n",
       "            trip_time_minutes  \n",
       "summary                        \n",
       "count                   13950  \n",
       "mean       156162.15627598573  \n",
       "stddev      48907.67007549101  \n",
       "min      0.016666666666666666  \n",
       "25%                  140593.0  \n",
       "50%        168780.73333333334  \n",
       "75%        188179.83333333334  \n",
       "max                  242587.0  "
      ]
     },
     "metadata": {},
     "output_type": "display_data"
    }
   ],
   "source": [
    "numeric_cols = [field.name for field in df_with_hours_and_minutes.schema.fields \n",
    "                if field.dataType.simpleString() in ['bigint', 'double', 'int', 'long', 'float']]\n",
    "\n",
    "# Create a summary DataFrame\n",
    "summary = df_with_hours_and_minutes.select(numeric_cols).summary(\n",
    "    \"count\", \"mean\", \"stddev\", \"min\", \"25%\", \"50%\", \"75%\", \"max\"\n",
    ").toPandas()\n",
    "\n",
    "# Set the summary column as index for better display\n",
    "summary.set_index('summary', inplace=True)\n",
    "\n",
    "# Display in Jupyter notebook\n",
    "display(summary)"
   ]
  },
  {
   "cell_type": "code",
   "execution_count": null,
   "id": "a1ae4b5d-c51b-4cce-8dd6-9f5ae429e718",
   "metadata": {},
   "outputs": [],
   "source": []
  }
 ],
 "metadata": {
  "kernelspec": {
   "display_name": "myenv",
   "language": "python",
   "name": "myenv"
  },
  "language_info": {
   "codemirror_mode": {
    "name": "ipython",
    "version": 3
   },
   "file_extension": ".py",
   "mimetype": "text/x-python",
   "name": "python",
   "nbconvert_exporter": "python",
   "pygments_lexer": "ipython3",
   "version": "3.9.12"
  }
 },
 "nbformat": 4,
 "nbformat_minor": 5
}
