{
 "cells": [
  {
   "cell_type": "markdown",
   "id": "284fd29c-b41b-4b1e-969a-de9b4797fb6f",
   "metadata": {},
   "source": [
    "# Checkpoint 1"
   ]
  },
  {
   "cell_type": "markdown",
   "id": "dad67cf9-24d4-44ee-8b53-d8e2fd1f294e",
   "metadata": {},
   "source": [
    "## Installation of dependencies"
   ]
  },
  {
   "cell_type": "code",
   "execution_count": 1,
   "id": "52e2afb9-0799-451d-871a-eca42da9d9f9",
   "metadata": {},
   "outputs": [
    {
     "name": "stdout",
     "output_type": "stream",
     "text": [
      "Collecting shapely==2.0.7 (from -r requirements.txt (line 1))\n",
      "  Using cached shapely-2.0.7-cp311-cp311-manylinux_2_17_aarch64.manylinux2014_aarch64.whl.metadata (6.8 kB)\n",
      "Collecting delta-spark==3.3.0 (from -r requirements.txt (line 2))\n",
      "  Using cached delta_spark-3.3.0-py3-none-any.whl.metadata (2.0 kB)\n",
      "Requirement already satisfied: numpy<3,>=1.14 in /opt/conda/lib/python3.11/site-packages (from shapely==2.0.7->-r requirements.txt (line 1)) (1.26.4)\n",
      "Requirement already satisfied: pyspark<3.6.0,>=3.5.3 in /usr/local/spark/python (from delta-spark==3.3.0->-r requirements.txt (line 2)) (3.5.3)\n",
      "Requirement already satisfied: importlib-metadata>=1.0.0 in /opt/conda/lib/python3.11/site-packages (from delta-spark==3.3.0->-r requirements.txt (line 2)) (8.5.0)\n",
      "Requirement already satisfied: zipp>=3.20 in /opt/conda/lib/python3.11/site-packages (from importlib-metadata>=1.0.0->delta-spark==3.3.0->-r requirements.txt (line 2)) (3.20.2)\n",
      "Collecting py4j==0.10.9.7 (from pyspark<3.6.0,>=3.5.3->delta-spark==3.3.0->-r requirements.txt (line 2))\n",
      "  Using cached py4j-0.10.9.7-py2.py3-none-any.whl.metadata (1.5 kB)\n",
      "Using cached shapely-2.0.7-cp311-cp311-manylinux_2_17_aarch64.manylinux2014_aarch64.whl (2.4 MB)\n",
      "Using cached delta_spark-3.3.0-py3-none-any.whl (21 kB)\n",
      "Using cached py4j-0.10.9.7-py2.py3-none-any.whl (200 kB)\n",
      "Installing collected packages: py4j, shapely, delta-spark\n",
      "Successfully installed delta-spark-3.3.0 py4j-0.10.9.7 shapely-2.0.7\n"
     ]
    }
   ],
   "source": [
    "!pip install -r requirements.txt"
   ]
  },
  {
   "cell_type": "code",
   "execution_count": 2,
   "id": "bf524691-b6db-4786-bc0a-510d059a7e81",
   "metadata": {},
   "outputs": [],
   "source": [
    "from pyspark.sql import SparkSession\n",
    "from pyspark.sql.functions import col, unix_timestamp, lag, when, count, avg, lead, sum as spark_sum\n",
    "from pyspark.sql.window import Window\n",
    "import json\n",
    "from shapely.geometry import Point, Polygon, shape\n",
    "from pyspark.sql.types import (\n",
    "    StructType,\n",
    "    StructField,\n",
    "    IntegerType,\n",
    "    StringType,\n",
    "    DoubleType\n",
    ")\n"
   ]
  },
  {
   "cell_type": "code",
   "execution_count": 3,
   "id": "885ee465-15a2-4173-8a6c-2faff7fe5789",
   "metadata": {},
   "outputs": [],
   "source": [
    "# Initialize Spark Session\n",
    "spark = SparkSession.builder.appName(\"NYC Taxi Analysis\").getOrCreate()\n",
    "\n"
   ]
  },
  {
   "cell_type": "markdown",
   "id": "7ce10091-e6af-44c8-8e02-859770449211",
   "metadata": {},
   "source": [
    "## Load taxi rides dataset"
   ]
  },
  {
   "cell_type": "code",
   "execution_count": 4,
   "id": "3bcdfd81-2c6c-463b-a452-a03af7873222",
   "metadata": {},
   "outputs": [],
   "source": [
    "# Define schema for the data\n",
    "schema = StructType(\n",
    "    [\n",
    "        StructField(\"medallion\", StringType()),\n",
    "        StructField(\"hack_license\", StringType()),\n",
    "        StructField(\"vendor_id\", StringType()),\n",
    "        StructField(\"rate_code\", StringType()),\n",
    "        StructField(\"store_and_fwd_flag\", StringType()),\n",
    "        StructField(\"pickup_datetime\", StringType()),\n",
    "        StructField(\n",
    "            \"dropoff_datetime\", StringType()\n",
    "        ),\n",
    "        StructField(\"passenger_count\", IntegerType()),\n",
    "        StructField(\"pickup_longitude\", DoubleType()),\n",
    "        StructField(\"pickup_latitude\", DoubleType()),\n",
    "        StructField(\"dropoff_longitude\", DoubleType()),\n",
    "        StructField(\"dropoff_latitude\", DoubleType()),\n",
    "    ]\n",
    ")\n"
   ]
  },
  {
   "cell_type": "code",
   "execution_count": 5,
   "id": "8c199ed5-a0f9-41a9-b490-46c9a35baab6",
   "metadata": {},
   "outputs": [],
   "source": [
    "sample_path = \"input/sample.csv\"\n",
    "\n",
    "taxi_df = (\n",
    "    spark.read\n",
    "    .option(\"header\", True)\n",
    "    .schema(schema)\n",
    "    .option(\"dateFormat\", \"dd-MM-yy HH:mm\")  # XXX: why is this not working?\n",
    "    .csv(sample_path)\n",
    ")\n"
   ]
  },
  {
   "cell_type": "code",
   "execution_count": 6,
   "id": "611712ce-7268-4042-a5db-c54504457684",
   "metadata": {},
   "outputs": [
    {
     "data": {
      "text/plain": [
       "['medallion',\n",
       " 'hack_license',\n",
       " 'vendor_id',\n",
       " 'rate_code',\n",
       " 'store_and_fwd_flag',\n",
       " 'pickup_datetime',\n",
       " 'dropoff_datetime',\n",
       " 'passenger_count',\n",
       " 'pickup_longitude',\n",
       " 'pickup_latitude',\n",
       " 'dropoff_longitude',\n",
       " 'dropoff_latitude']"
      ]
     },
     "execution_count": 6,
     "metadata": {},
     "output_type": "execute_result"
    }
   ],
   "source": [
    "## Checking the columns we have\n",
    "taxi_df.columns"
   ]
  },
  {
   "cell_type": "code",
   "execution_count": 7,
   "id": "1fd0cdff-c1f2-4b05-92d6-98ad14881780",
   "metadata": {},
   "outputs": [],
   "source": [
    "# Load GeoJSON Data\n",
    "borough_data = None\n",
    "with open(\"./input/nyc-boroughs.geojson\", \"r\") as file:\n",
    "    borough_data = json.load(file)\n",
    "\n",
    "# getting dictionary of boroughs for fast lookup\n",
    "borough_polygons = {}\n",
    "for feature in borough_data[\"features\"]:\n",
    "    borough_name = feature[\"properties\"][\"borough\"]\n",
    "    borough_geometry = shape(feature[\"geometry\"])\n",
    "    borough_polygons[borough_name] = borough_geometry\n"
   ]
  },
  {
   "cell_type": "code",
   "execution_count": 8,
   "id": "ee6ed68c-d0cd-4aae-b798-4e04e5d355f4",
   "metadata": {},
   "outputs": [
    {
     "data": {
      "text/plain": [
       "{'Staten Island': <POLYGON ((-74.082 40.648, -74.081 40.649, -74.081 40.648, -74.08 40.648, -7...>,\n",
       " 'Queens': <POLYGON ((-73.891 40.776, -73.891 40.777, -73.891 40.777, -73.891 40.777, -...>,\n",
       " 'Brooklyn': <POLYGON ((-73.931 40.595, -73.932 40.594, -73.932 40.595, -73.931 40.595))>,\n",
       " 'Manhattan': <POLYGON ((-73.907 40.876, -73.908 40.873, -73.908 40.873, -73.909 40.872, -...>,\n",
       " 'Bronx': <POLYGON ((-73.804 40.813, -73.804 40.814, -73.804 40.814, -73.804 40.814, -...>}"
      ]
     },
     "execution_count": 8,
     "metadata": {},
     "output_type": "execute_result"
    }
   ],
   "source": [
    "# check raw shapes in the dictionary\n",
    "borough_polygons"
   ]
  },
  {
   "cell_type": "code",
   "execution_count": 9,
   "id": "22a6ad80-4f6b-4299-bf07-9cac55b63012",
   "metadata": {},
   "outputs": [],
   "source": [
    "# Broadcast GeoJSON Data to Spark\n",
    "borough_broadcast = spark.sparkContext.broadcast(borough_polygons)"
   ]
  },
  {
   "cell_type": "code",
   "execution_count": 10,
   "id": "0cc387da-55df-4324-90a7-0cbb1287cd9b",
   "metadata": {},
   "outputs": [],
   "source": [
    "def get_borough(lon, lat):\n",
    "    try:\n",
    "        point = Point(lon, lat)\n",
    "\n",
    "        # Debugging: Print first few calls\n",
    "        # print(f\"Checking: lon={lon}, lat={lat}\")\n",
    "\n",
    "        for borough, polygon in borough_broadcast.value.items():\n",
    "            if polygon.contains(point):\n",
    "                # print(f\"Matched: {lon}, {lat} -> {borough}\")\n",
    "                return borough\n",
    "\n",
    "    except Exception as e:\n",
    "        print(f\"Error processing ({lon}, {lat}): {e}\")  # Print error details\n",
    "\n",
    "    return \"Unknown\"\n",
    "\n",
    "# Register the function as a Spark UDF again\n",
    "to_borough_udf = spark.udf.register(\"to_borough\", get_borough, StringType())"
   ]
  },
  {
   "cell_type": "code",
   "execution_count": 11,
   "id": "0f12accd-86dc-4c22-a421-ee83818c0964",
   "metadata": {},
   "outputs": [
    {
     "name": "stdout",
     "output_type": "stream",
     "text": [
      "+--------------------+--------------------+---------+---------+------------------+---------------+----------------+---------------+----------------+---------------+-----------------+----------------+--------------+---------------+\n",
      "|           medallion|        hack_license|vendor_id|rate_code|store_and_fwd_flag|pickup_datetime|dropoff_datetime|passenger_count|pickup_longitude|pickup_latitude|dropoff_longitude|dropoff_latitude|pickup_borough|dropoff_borough|\n",
      "+--------------------+--------------------+---------+---------+------------------+---------------+----------------+---------------+----------------+---------------+-----------------+----------------+--------------+---------------+\n",
      "|89D227B655E5C82AE...|BA96DE419E711691B...|      CMT|        1|                 N| 01-01-13 15:11|  01-01-13 15:18|              4|      -73.978165|      40.757977|       -73.989838|       40.751171|       Unknown|        Unknown|\n",
      "|0BD7C8F5BA12B88E0...|9FD8F69F0804BDB55...|      CMT|        1|                 N| 06-01-13 00:18|  06-01-13 00:22|              1|      -74.006683|      40.731781|       -73.994499|        40.75066|       Unknown|        Unknown|\n",
      "|0BD7C8F5BA12B88E0...|9FD8F69F0804BDB55...|      CMT|        1|                 N| 05-01-13 18:49|  05-01-13 18:54|              1|      -74.004707|       40.73777|       -74.009834|       40.726002|       Unknown|        Unknown|\n",
      "|DFD2202EE08F7A8DC...|51EE87E3205C985EF...|      CMT|        1|                 N| 07-01-13 23:54|  07-01-13 23:58|              2|      -73.974602|      40.759945|       -73.984734|       40.759388|       Unknown|        Unknown|\n",
      "|DFD2202EE08F7A8DC...|51EE87E3205C985EF...|      CMT|        1|                 N| 07-01-13 23:25|  07-01-13 23:34|              1|       -73.97625|      40.748528|       -74.002586|       40.747868|       Unknown|        Unknown|\n",
      "+--------------------+--------------------+---------+---------+------------------+---------------+----------------+---------------+----------------+---------------+-----------------+----------------+--------------+---------------+\n",
      "only showing top 5 rows\n",
      "\n"
     ]
    }
   ],
   "source": [
    "# Assign Borough Names to Pickup and Drop-off Locations\n",
    "taxi_df = taxi_df.withColumn(\"pickup_borough\", to_borough_udf(col(\"pickup_longitude\"), col(\"pickup_latitude\")))\n",
    "taxi_df = taxi_df.withColumn(\"dropoff_borough\", to_borough_udf(col(\"dropoff_longitude\"), col(\"dropoff_latitude\")))\n",
    "taxi_df.show(5)"
   ]
  },
  {
   "cell_type": "code",
   "execution_count": 12,
   "id": "c7fe4284-6c0e-40a6-83ee-75c864cffdad",
   "metadata": {},
   "outputs": [],
   "source": [
    "# Define the max idle time threshold (4 hours in seconds)\n",
    "four_hours_in_seconds = 4 * 60 * 60\n",
    "\n",
    "# Convert pickup and dropoff datetime to Unix timestamps\n",
    "taxi_df = taxi_df.withColumn(\"pickup_unix\", unix_timestamp(col(\"pickup_datetime\"), \"dd-MM-yy HH:mm\"))\n",
    "taxi_df = taxi_df.withColumn(\"dropoff_unix\", unix_timestamp(col(\"dropoff_datetime\"), \"dd-MM-yy HH:mm\"))\n",
    "\n",
    "# Compute trip duration in seconds\n",
    "taxi_df = taxi_df.withColumn(\"duration\", col(\"dropoff_unix\") - col(\"pickup_unix\"))\n",
    "\n",
    "# Filter out incorrect durations (negative durations or trips longer than 4 hours)\n",
    "taxi_df = taxi_df.filter((col(\"duration\") > 0) & (col(\"duration\") <= four_hours_in_seconds))\n",
    "\n",
    "# Define window specification to order trips per taxi\n",
    "window_spec = Window.partitionBy(\"medallion\").orderBy(\"pickup_unix\")\n",
    "\n",
    "# Get the previous trip's dropoff time (Unix timestamp)\n",
    "taxi_df = taxi_df.withColumn(\"prev_dropoff_unix\", lag(\"dropoff_unix\").over(window_spec))\n",
    "\n",
    "# Compute idle time only when a previous trip exists\n",
    "taxi_df = taxi_df.withColumn(\n",
    "    \"idle_time\",\n",
    "    when(col(\"prev_dropoff_unix\").isNotNull(),\n",
    "         when((col(\"pickup_unix\") - col(\"prev_dropoff_unix\")) <= four_hours_in_seconds,\n",
    "              col(\"pickup_unix\") - col(\"prev_dropoff_unix\")\n",
    "         ).otherwise(0)\n",
    "    ).otherwise(0)\n",
    ")\n",
    "\n",
    "# Group by taxi to calculate total trip time and total idle time\n",
    "utilization_df = taxi_df.groupBy(\"medallion\").agg(\n",
    "    spark_sum(\"duration\").alias(\"total_trip_time\"),\n",
    "    spark_sum(\"idle_time\").alias(\"total_idle_time\")\n",
    ")\n",
    "\n",
    "# Calculate utilization rate\n",
    "utilization_df = utilization_df.withColumn(\n",
    "    \"utilization_rate\",\n",
    "    col(\"total_trip_time\") / (col(\"total_trip_time\") + col(\"total_idle_time\"))\n",
    ")\n",
    "\n",
    "\n",
    "taxi_window = Window.partitionBy(\"medallion\").orderBy(\"dropoff_unix\")\n",
    "\n",
    "# Get the next trip's pickup time within the same taxi\n",
    "taxi_df = taxi_df.withColumn(\"next_pickup_unix\", lead(\"pickup_unix\").over(taxi_window))\n",
    "\n",
    "# Calculate time to next fare, ensuring non-negative values\n",
    "taxi_df = taxi_df.withColumn(\n",
    "    \"time_to_next_fare\",\n",
    "    when(\n",
    "        (col(\"next_pickup_unix\").isNotNull()) & (col(\"next_pickup_unix\") >= col(\"dropoff_unix\")),\n",
    "        col(\"next_pickup_unix\") - col(\"dropoff_unix\")\n",
    "    ).otherwise(None)  # Ignore invalid (negative) idle times\n",
    ")\n",
    "\n",
    "# Now, calculate the average time to next fare per borough\n",
    "next_fare_df = taxi_df \\\n",
    "    .filter(col(\"time_to_next_fare\").isNotNull()) \\\n",
    "    .groupBy(\"dropoff_borough\") \\\n",
    "    .agg(avg(\"time_to_next_fare\").alias(\"avg_time_to_next_fare\"))\n"
   ]
  },
  {
   "cell_type": "code",
   "execution_count": 13,
   "id": "f369802f-4349-4bce-a547-88f9edc41317",
   "metadata": {},
   "outputs": [],
   "source": [
    "\n",
    "# Count Trips Within the Same Borough\n",
    "same_borough_df = taxi_df.filter(col(\"pickup_borough\") == col(\"dropoff_borough\"))\n",
    "same_borough_count = same_borough_df.groupBy(\"pickup_borough\").agg(count(\"medallion\").alias(\"same_borough_trips\"))\n"
   ]
  },
  {
   "cell_type": "code",
   "execution_count": 14,
   "id": "dcf089a8-ac60-4ebf-a1b8-18b285a8a53e",
   "metadata": {},
   "outputs": [],
   "source": [
    "# Count Trips Between Different Boroughs\n",
    "diff_borough_df = taxi_df.filter(col(\"pickup_borough\") != col(\"dropoff_borough\"))\n",
    "diff_borough_count = diff_borough_df.groupBy(\"pickup_borough\", \"dropoff_borough\").agg(count(\"medallion\").alias(\"cross_borough_trips\"))"
   ]
  },
  {
   "cell_type": "markdown",
   "id": "71df1bbe-386c-4c41-896a-cdf754486842",
   "metadata": {},
   "source": [
    "## Results"
   ]
  },
  {
   "cell_type": "code",
   "execution_count": 15,
   "id": "b2a07a40-cbaf-461f-b128-7e2e352db37d",
   "metadata": {},
   "outputs": [
    {
     "name": "stdout",
     "output_type": "stream",
     "text": [
      "+--------------------+---------------+---------------+-------------------+\n",
      "|           medallion|total_trip_time|total_idle_time|   utilization_rate|\n",
      "+--------------------+---------------+---------------+-------------------+\n",
      "|000318C2E3E638158...|          13920|          17400| 0.4444444444444444|\n",
      "|002E3B405B6ABEA23...|          10260|          16140| 0.3886363636363636|\n",
      "|0030AD2648D81EE87...|           1980|            720| 0.7333333333333333|\n",
      "|0036961468659D0BF...|          11700|          19740|0.37213740458015265|\n",
      "|0038EF45118925A51...|          10920|          15120|0.41935483870967744|\n",
      "|0053334C798EC6C8E...|           7920|          22440| 0.2608695652173913|\n",
      "|005DED7D6E6C45441...|          11460|          11760| 0.4935400516795866|\n",
      "|005F00B38F46E2100...|          18600|          42180| 0.3060217176702863|\n",
      "|00790C7BAD30B7A9E...|          12360|          25320|0.32802547770700635|\n",
      "|0094A03FFE6BAFBE0...|          10680|           5400|  0.664179104477612|\n",
      "|009D3CCA83486B03F...|          19620|          40920| 0.3240832507433102|\n",
      "|009E68CADCB1BCF73...|            780|              0|                1.0|\n",
      "|00BD5D1AD3A96C997...|          10200|          12540|0.44854881266490765|\n",
      "|00E0904FC59DA2C36...|            780|              0|                1.0|\n",
      "|00FB3D49C3DE5E002...|          15000|          14580| 0.5070993914807302|\n",
      "|012B65864B3BE97D6...|           6660|           6360|  0.511520737327189|\n",
      "|012F172C0351A4767...|          16200|          40680| 0.2848101265822785|\n",
      "|01389E9CF7758ECAC...|           2880|           5460|0.34532374100719426|\n",
      "|019AFB33C3153481B...|           7500|           9840|0.43252595155709345|\n",
      "|01BD10395EF30144C...|           4320|           5940|0.42105263157894735|\n",
      "+--------------------+---------------+---------------+-------------------+\n",
      "only showing top 20 rows\n",
      "\n",
      "+---------------+---------------------+\n",
      "|dropoff_borough|avg_time_to_next_fare|\n",
      "+---------------+---------------------+\n",
      "|         Queens|    6418.319850653392|\n",
      "|        Unknown|   2441.0305564052887|\n",
      "|  Staten Island|              13935.0|\n",
      "|      Manhattan|               4185.0|\n",
      "+---------------+---------------------+\n",
      "\n",
      "+--------------+------------------+\n",
      "|pickup_borough|same_borough_trips|\n",
      "+--------------+------------------+\n",
      "|        Queens|              1362|\n",
      "|       Unknown|             89588|\n",
      "| Staten Island|                 1|\n",
      "+--------------+------------------+\n",
      "\n",
      "+--------------+---------------+-------------------+\n",
      "|pickup_borough|dropoff_borough|cross_borough_trips|\n",
      "+--------------+---------------+-------------------+\n",
      "|       Unknown|      Manhattan|                  3|\n",
      "|        Queens|  Staten Island|                  2|\n",
      "|        Queens|        Unknown|               4506|\n",
      "|       Unknown|         Queens|               4074|\n",
      "|       Unknown|  Staten Island|                 10|\n",
      "|        Queens|      Manhattan|                  1|\n",
      "| Staten Island|         Queens|                  1|\n",
      "|     Manhattan|        Unknown|                  1|\n",
      "+--------------+---------------+-------------------+\n",
      "\n"
     ]
    }
   ],
   "source": [
    "# Show Results\n",
    "utilization_df.show()\n",
    "next_fare_df.show()\n",
    "same_borough_count.show()\n",
    "diff_borough_count.show()\n"
   ]
  },
  {
   "cell_type": "markdown",
   "id": "d4bb3d2b-619e-4d7c-96e8-83ee6c5a1795",
   "metadata": {},
   "source": [
    "## Basic EDA"
   ]
  },
  {
   "cell_type": "code",
   "execution_count": 16,
   "id": "a0a13489-9433-4e01-b3c3-edf3902b213c",
   "metadata": {},
   "outputs": [
    {
     "name": "stdout",
     "output_type": "stream",
     "text": [
      "+-------+--------------------+-----------------+------------------+-------------------+\n",
      "|summary|           medallion|  total_trip_time|   total_idle_time|   utilization_rate|\n",
      "+-------+--------------------+-----------------+------------------+-------------------+\n",
      "|  count|                6435|             6435|              6435|               6435|\n",
      "|   mean|                NULL|10111.48717948718|16852.195804195806|0.45085909572146127|\n",
      "| stddev|                NULL|5049.823057369299|11327.890227052827|  0.202482145349854|\n",
      "|    min|000318C2E3E638158...|               60|                 0| 0.0639269406392694|\n",
      "|    25%|                NULL|             6480|              8520|0.31956521739130433|\n",
      "|    50%|                NULL|            10860|             15780| 0.4051724137931034|\n",
      "|    75%|                NULL|            13920|             23520| 0.5104166666666666|\n",
      "|    max|FFFECF75AB6CC4FF9...|            25020|             55080|                1.0|\n",
      "+-------+--------------------+-----------------+------------------+-------------------+\n",
      "\n"
     ]
    }
   ],
   "source": [
    "utilization_df.summary().show()"
   ]
  },
  {
   "cell_type": "code",
   "execution_count": 17,
   "id": "f3fb7a2d-68c4-4c91-9cc5-9ed691ad4e9f",
   "metadata": {},
   "outputs": [],
   "source": [
    "df_with_hours_and_minutes = utilization_df.withColumn('trip_time_hours', col('total_trip_time') / 3600) \\\n",
    "                  .withColumn('idle_time_hours', col('total_idle_time') / 3600) \\\n",
    "                  .withColumn('idle_time_minutes', col('total_idle_time') / 60) \\\n",
    "                  .withColumn('trip_time_minutes', col('total_trip_time') / 60)"
   ]
  },
  {
   "cell_type": "code",
   "execution_count": 18,
   "id": "817a87c7-e070-419c-85df-58451ba3c1ac",
   "metadata": {},
   "outputs": [
    {
     "data": {
      "text/plain": [
       "['string',\n",
       " 'bigint',\n",
       " 'bigint',\n",
       " 'double',\n",
       " 'double',\n",
       " 'double',\n",
       " 'double',\n",
       " 'double']"
      ]
     },
     "execution_count": 18,
     "metadata": {},
     "output_type": "execute_result"
    }
   ],
   "source": [
    "[field.dataType.simpleString() for field in df_with_hours_and_minutes.schema.fields]"
   ]
  },
  {
   "cell_type": "code",
   "execution_count": 19,
   "id": "b85e8b68-f369-4cc0-9d4e-845bf68f14c5",
   "metadata": {},
   "outputs": [
    {
     "data": {
      "text/html": [
       "<div>\n",
       "<style scoped>\n",
       "    .dataframe tbody tr th:only-of-type {\n",
       "        vertical-align: middle;\n",
       "    }\n",
       "\n",
       "    .dataframe tbody tr th {\n",
       "        vertical-align: top;\n",
       "    }\n",
       "\n",
       "    .dataframe thead th {\n",
       "        text-align: right;\n",
       "    }\n",
       "</style>\n",
       "<table border=\"1\" class=\"dataframe\">\n",
       "  <thead>\n",
       "    <tr style=\"text-align: right;\">\n",
       "      <th></th>\n",
       "      <th>total_trip_time</th>\n",
       "      <th>total_idle_time</th>\n",
       "      <th>utilization_rate</th>\n",
       "      <th>trip_time_hours</th>\n",
       "      <th>idle_time_hours</th>\n",
       "      <th>idle_time_minutes</th>\n",
       "      <th>trip_time_minutes</th>\n",
       "    </tr>\n",
       "    <tr>\n",
       "      <th>summary</th>\n",
       "      <th></th>\n",
       "      <th></th>\n",
       "      <th></th>\n",
       "      <th></th>\n",
       "      <th></th>\n",
       "      <th></th>\n",
       "      <th></th>\n",
       "    </tr>\n",
       "  </thead>\n",
       "  <tbody>\n",
       "    <tr>\n",
       "      <th>count</th>\n",
       "      <td>6435</td>\n",
       "      <td>6435</td>\n",
       "      <td>6435</td>\n",
       "      <td>6435</td>\n",
       "      <td>6435</td>\n",
       "      <td>6435</td>\n",
       "      <td>6435</td>\n",
       "    </tr>\n",
       "    <tr>\n",
       "      <th>mean</th>\n",
       "      <td>10111.48717948718</td>\n",
       "      <td>16852.195804195806</td>\n",
       "      <td>0.45085909572146127</td>\n",
       "      <td>2.8087464387464376</td>\n",
       "      <td>4.6811655011655</td>\n",
       "      <td>280.8699300699301</td>\n",
       "      <td>168.52478632478633</td>\n",
       "    </tr>\n",
       "    <tr>\n",
       "      <th>stddev</th>\n",
       "      <td>5049.823057369299</td>\n",
       "      <td>11327.890227052827</td>\n",
       "      <td>0.202482145349854</td>\n",
       "      <td>1.4027286270470278</td>\n",
       "      <td>3.1466361741813436</td>\n",
       "      <td>188.79817045088038</td>\n",
       "      <td>84.16371762282165</td>\n",
       "    </tr>\n",
       "    <tr>\n",
       "      <th>min</th>\n",
       "      <td>60</td>\n",
       "      <td>0</td>\n",
       "      <td>0.0639269406392694</td>\n",
       "      <td>0.016666666666666666</td>\n",
       "      <td>0.0</td>\n",
       "      <td>0.0</td>\n",
       "      <td>1.0</td>\n",
       "    </tr>\n",
       "    <tr>\n",
       "      <th>25%</th>\n",
       "      <td>6480</td>\n",
       "      <td>8520</td>\n",
       "      <td>0.31956521739130433</td>\n",
       "      <td>1.8</td>\n",
       "      <td>2.3666666666666667</td>\n",
       "      <td>142.0</td>\n",
       "      <td>108.0</td>\n",
       "    </tr>\n",
       "    <tr>\n",
       "      <th>50%</th>\n",
       "      <td>10860</td>\n",
       "      <td>15780</td>\n",
       "      <td>0.4051724137931034</td>\n",
       "      <td>3.0166666666666666</td>\n",
       "      <td>4.383333333333334</td>\n",
       "      <td>263.0</td>\n",
       "      <td>181.0</td>\n",
       "    </tr>\n",
       "    <tr>\n",
       "      <th>75%</th>\n",
       "      <td>13920</td>\n",
       "      <td>23520</td>\n",
       "      <td>0.5104166666666666</td>\n",
       "      <td>3.8666666666666667</td>\n",
       "      <td>6.533333333333333</td>\n",
       "      <td>392.0</td>\n",
       "      <td>232.0</td>\n",
       "    </tr>\n",
       "    <tr>\n",
       "      <th>max</th>\n",
       "      <td>25020</td>\n",
       "      <td>55080</td>\n",
       "      <td>1.0</td>\n",
       "      <td>6.95</td>\n",
       "      <td>15.3</td>\n",
       "      <td>918.0</td>\n",
       "      <td>417.0</td>\n",
       "    </tr>\n",
       "  </tbody>\n",
       "</table>\n",
       "</div>"
      ],
      "text/plain": [
       "           total_trip_time     total_idle_time     utilization_rate  \\\n",
       "summary                                                               \n",
       "count                 6435                6435                 6435   \n",
       "mean     10111.48717948718  16852.195804195806  0.45085909572146127   \n",
       "stddev   5049.823057369299  11327.890227052827    0.202482145349854   \n",
       "min                     60                   0   0.0639269406392694   \n",
       "25%                   6480                8520  0.31956521739130433   \n",
       "50%                  10860               15780   0.4051724137931034   \n",
       "75%                  13920               23520   0.5104166666666666   \n",
       "max                  25020               55080                  1.0   \n",
       "\n",
       "              trip_time_hours     idle_time_hours   idle_time_minutes  \\\n",
       "summary                                                                 \n",
       "count                    6435                6435                6435   \n",
       "mean       2.8087464387464376     4.6811655011655   280.8699300699301   \n",
       "stddev     1.4027286270470278  3.1466361741813436  188.79817045088038   \n",
       "min      0.016666666666666666                 0.0                 0.0   \n",
       "25%                       1.8  2.3666666666666667               142.0   \n",
       "50%        3.0166666666666666   4.383333333333334               263.0   \n",
       "75%        3.8666666666666667   6.533333333333333               392.0   \n",
       "max                      6.95                15.3               918.0   \n",
       "\n",
       "          trip_time_minutes  \n",
       "summary                      \n",
       "count                  6435  \n",
       "mean     168.52478632478633  \n",
       "stddev    84.16371762282165  \n",
       "min                     1.0  \n",
       "25%                   108.0  \n",
       "50%                   181.0  \n",
       "75%                   232.0  \n",
       "max                   417.0  "
      ]
     },
     "metadata": {},
     "output_type": "display_data"
    }
   ],
   "source": [
    "numeric_cols = [field.name for field in df_with_hours_and_minutes.schema.fields \n",
    "                if field.dataType.simpleString() in ['bigint', 'double', 'int', 'long', 'float']]\n",
    "\n",
    "# Create a summary DataFrame\n",
    "summary = df_with_hours_and_minutes.select(numeric_cols).summary(\n",
    "    \"count\", \"mean\", \"stddev\", \"min\", \"25%\", \"50%\", \"75%\", \"max\"\n",
    ").toPandas()\n",
    "\n",
    "# Set the summary column as index for better display\n",
    "summary.set_index('summary', inplace=True)\n",
    "\n",
    "# Display in Jupyter notebook\n",
    "display(summary)"
   ]
  }
 ],
 "metadata": {
  "kernelspec": {
   "display_name": "Python 3 (ipykernel)",
   "language": "python",
   "name": "python3"
  },
  "language_info": {
   "codemirror_mode": {
    "name": "ipython",
    "version": 3
   },
   "file_extension": ".py",
   "mimetype": "text/x-python",
   "name": "python",
   "nbconvert_exporter": "python",
   "pygments_lexer": "ipython3",
   "version": "3.11.10"
  }
 },
 "nbformat": 4,
 "nbformat_minor": 5
}
