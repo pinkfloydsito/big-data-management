{
 "cells": [
  {
   "cell_type": "markdown",
   "id": "284fd29c-b41b-4b1e-969a-de9b4797fb6f",
   "metadata": {},
   "source": [
    "# Checkpoint 1"
   ]
  },
  {
   "cell_type": "markdown",
   "id": "dad67cf9-24d4-44ee-8b53-d8e2fd1f294e",
   "metadata": {},
   "source": [
    "## Installation of missing dependencies"
   ]
  },
  {
   "cell_type": "code",
   "execution_count": 2,
   "id": "bf524691-b6db-4786-bc0a-510d059a7e81",
   "metadata": {},
   "outputs": [],
   "source": [
    "from pyspark.sql import SparkSession\n",
    "from pyspark.sql.functions import col, unix_timestamp, lag, when, count, avg, lead, sum as spark_sum\n",
    "from pyspark.sql.window import Window\n",
    "import json\n",
    "from shapely.geometry import Point, Polygon, shape\n",
    "from pyspark.sql.types import (\n",
    "    StructType,\n",
    "    StructField,\n",
    "    IntegerType,\n",
    "    StringType,\n",
    "    DoubleType\n",
    ")\n"
   ]
  },
  {
   "cell_type": "code",
   "execution_count": 4,
   "id": "885ee465-15a2-4173-8a6c-2faff7fe5789",
   "metadata": {},
   "outputs": [
    {
     "name": "stderr",
     "output_type": "stream",
     "text": [
      "Setting default log level to \"WARN\".\n",
      "To adjust logging level use sc.setLogLevel(newLevel). For SparkR, use setLogLevel(newLevel).\n",
      "25/03/09 20:57:00 WARN NativeCodeLoader: Unable to load native-hadoop library for your platform... using builtin-java classes where applicable\n",
      "25/03/09 20:57:01 WARN Utils: Service 'SparkUI' could not bind on port 4040. Attempting port 4041.\n"
     ]
    }
   ],
   "source": [
    "# Initialize Spark Session\n",
    "spark = SparkSession.builder.appName(\"NYC Taxi Analysis\") \\\n",
    "    .config(\"spark.driver.memory\", \"4g\") \\\n",
    "    .config(\"spark.executor.memory\", \"4g\") \\\n",
    "    .config(\"spark.memory.fraction\", \"0.8\") \\\n",
    "    .config(\"spark.memory.storageFraction\", \"0.3\") \\\n",
    "    .config(\"spark.sql.shuffle.partitions\", \"100\") \\\n",
    "    .config(\"spark.default.parallelism\", \"20\") \\\n",
    "    .config(\"spark.executor.cores\", \"4\") \\\n",
    "    .config(\"spark.driver.maxResultSize\", \"2g\") \\\n",
    "    .config(\"spark.sql.adaptive.enabled\", \"true\") \\\n",
    "    .config(\"spark.serializer\", \"org.apache.spark.serializer.KryoSerializer\") \\\n",
    "    .getOrCreate()\n",
    "\n",
    "spark.conf.set(\"spark.sql.adaptive.enabled\", \"true\")\n",
    "spark.conf.set(\"spark.sql.adaptive.coalescePartitions.enabled\", \"true\")\n",
    "\n",
    "spark.sparkContext.setCheckpointDir(\"checkpoints\")"
   ]
  },
  {
   "cell_type": "markdown",
   "id": "7ce10091-e6af-44c8-8e02-859770449211",
   "metadata": {},
   "source": [
    "## Load taxi rides dataset"
   ]
  },
  {
   "cell_type": "code",
   "execution_count": 5,
   "id": "3bcdfd81-2c6c-463b-a452-a03af7873222",
   "metadata": {},
   "outputs": [],
   "source": [
    "# Define schema for the data\n",
    "schema = StructType(\n",
    "    [\n",
    "        StructField(\"medallion\", StringType()),\n",
    "        StructField(\"pickup_datetime\", StringType()),\n",
    "        StructField(\n",
    "            \"dropoff_datetime\", StringType()\n",
    "        ),\n",
    "        StructField(\"pickup_longitude\", DoubleType()),\n",
    "        StructField(\"pickup_latitude\", DoubleType()),\n",
    "        StructField(\"dropoff_longitude\", DoubleType()),\n",
    "        StructField(\"dropoff_latitude\", DoubleType()),\n",
    "    ]\n",
    ")\n"
   ]
  },
  {
   "cell_type": "code",
   "execution_count": 6,
   "id": "0deadfcf-2efb-45b7-b5a7-56e8ec00ddd5",
   "metadata": {},
   "outputs": [],
   "source": [
    "parquet_path = \"input/prod/taxi_data.parquet\"\n",
    "taxi_df = (\n",
    "    spark.read\n",
    "    .option(\"header\", True)\n",
    "    .schema(schema)\n",
    "    .parquet(parquet_path)\n",
    ")\n"
   ]
  },
  {
   "cell_type": "code",
   "execution_count": 7,
   "id": "611712ce-7268-4042-a5db-c54504457684",
   "metadata": {},
   "outputs": [
    {
     "data": {
      "text/plain": [
       "['medallion',\n",
       " 'pickup_datetime',\n",
       " 'dropoff_datetime',\n",
       " 'pickup_longitude',\n",
       " 'pickup_latitude',\n",
       " 'dropoff_longitude',\n",
       " 'dropoff_latitude']"
      ]
     },
     "execution_count": 7,
     "metadata": {},
     "output_type": "execute_result"
    }
   ],
   "source": [
    "## Checking the columns we have\n",
    "taxi_df.columns"
   ]
  },
  {
   "cell_type": "code",
   "execution_count": 8,
   "id": "2b1f32f0-a003-4dcd-9b38-5b81d11042fe",
   "metadata": {},
   "outputs": [
    {
     "name": "stderr",
     "output_type": "stream",
     "text": [
      "                                                                                \r"
     ]
    },
    {
     "data": {
      "text/plain": [
       "173179759"
      ]
     },
     "execution_count": 8,
     "metadata": {},
     "output_type": "execute_result"
    }
   ],
   "source": [
    "taxi_df.count()"
   ]
  },
  {
   "cell_type": "code",
   "execution_count": 9,
   "id": "9bc6c290-3474-4edc-8fec-ebde6843df23",
   "metadata": {},
   "outputs": [],
   "source": [
    "taxi_df = taxi_df.repartition(200, \"medallion\")"
   ]
  },
  {
   "cell_type": "code",
   "execution_count": 10,
   "id": "1fd0cdff-c1f2-4b05-92d6-98ad14881780",
   "metadata": {},
   "outputs": [],
   "source": [
    "# Load GeoJSON Data\n",
    "borough_data = None\n",
    "with open(\"./input/nyc-boroughs.geojson\", \"r\") as file:\n",
    "    borough_data = json.load(file)\n",
    "\n",
    "# getting dictionary of boroughs for fast lookup\n",
    "borough_polygons = {}\n",
    "for feature in borough_data[\"features\"]:\n",
    "    borough_name = feature[\"properties\"][\"borough\"]\n",
    "    borough_geometry = shape(feature[\"geometry\"])\n",
    "    borough_polygons[borough_name] = borough_geometry\n"
   ]
  },
  {
   "cell_type": "code",
   "execution_count": 11,
   "id": "ee6ed68c-d0cd-4aae-b798-4e04e5d355f4",
   "metadata": {},
   "outputs": [
    {
     "data": {
      "text/plain": [
       "{'Staten Island': <POLYGON ((-74.082 40.648, -74.081 40.649, -74.081 40.648, -74.08 40.648, -7...>,\n",
       " 'Queens': <POLYGON ((-73.891 40.776, -73.891 40.777, -73.891 40.777, -73.891 40.777, -...>,\n",
       " 'Brooklyn': <POLYGON ((-73.931 40.595, -73.932 40.594, -73.932 40.595, -73.931 40.595))>,\n",
       " 'Manhattan': <POLYGON ((-73.907 40.876, -73.908 40.873, -73.908 40.873, -73.909 40.872, -...>,\n",
       " 'Bronx': <POLYGON ((-73.804 40.813, -73.804 40.814, -73.804 40.814, -73.804 40.814, -...>}"
      ]
     },
     "execution_count": 11,
     "metadata": {},
     "output_type": "execute_result"
    }
   ],
   "source": [
    "# check raw shapes in the dictionary\n",
    "borough_polygons"
   ]
  },
  {
   "cell_type": "code",
   "execution_count": 12,
   "id": "22a6ad80-4f6b-4299-bf07-9cac55b63012",
   "metadata": {},
   "outputs": [],
   "source": [
    "# Broadcast GeoJSON Data to Spark\n",
    "borough_broadcast = spark.sparkContext.broadcast(borough_polygons)"
   ]
  },
  {
   "cell_type": "code",
   "execution_count": 13,
   "id": "0cc387da-55df-4324-90a7-0cbb1287cd9b",
   "metadata": {},
   "outputs": [],
   "source": [
    "def get_borough(lon, lat):\n",
    "    try:\n",
    "        # basic check / catch is slower\n",
    "        if lon is None or lat is None:\n",
    "            return \"Unknown\"\n",
    "        \n",
    "        point = Point(lon, lat)\n",
    "\n",
    "        for borough, polygon in borough_broadcast.value.items():\n",
    "            if polygon.contains(point): # match found\n",
    "                return borough\n",
    "\n",
    "    except Exception as e:\n",
    "        print(f\"Error processing ({lon}, {lat}): {e}\")  # Print error details\n",
    "\n",
    "    return \"Unknown\"\n",
    "\n",
    "# Register the function as a Spark UDF again\n",
    "to_borough_udf = spark.udf.register(\"to_borough\", get_borough, StringType())"
   ]
  },
  {
   "cell_type": "code",
   "execution_count": 14,
   "id": "0f12accd-86dc-4c22-a421-ee83818c0964",
   "metadata": {
    "scrolled": true
   },
   "outputs": [],
   "source": [
    "# Checkpoint # 1\n",
    "\n",
    "# Assign Borough Names to Pickup and Drop-off Locations\n",
    "taxi_df = taxi_df.withColumn(\"pickup_borough\", to_borough_udf(col(\"pickup_longitude\"), col(\"pickup_latitude\")))\n",
    "taxi_df = taxi_df.withColumn(\"dropoff_borough\", to_borough_udf(col(\"dropoff_longitude\"), col(\"dropoff_latitude\")))"
   ]
  },
  {
   "cell_type": "code",
   "execution_count": 16,
   "id": "66433266-1c5f-44c8-af9a-cb73d3e45d8f",
   "metadata": {},
   "outputs": [],
   "source": [
    "# checkpoint 2\n",
    "\n",
    "# Define the max idle time threshold (4 hours in seconds)\n",
    "four_hours_in_seconds = 4 * 60 * 60\n",
    "# Convert pickup and dropoff datetime to Unix timestamps\n",
    "taxi_df = taxi_df.withColumn(\"pickup_unix\", unix_timestamp(col(\"pickup_datetime\"), \"dd-MM-yy HH:mm\"))\n",
    "taxi_df = taxi_df.withColumn(\"dropoff_unix\", unix_timestamp(col(\"dropoff_datetime\"), \"dd-MM-yy HH:mm\"))\n",
    "\n",
    "# Compute trip duration in seconds\n",
    "taxi_df = taxi_df.withColumn(\"duration\", col(\"dropoff_unix\") - col(\"pickup_unix\"))\n",
    "\n",
    "# Filter out incorrect durations (negative durations or trips longer than 4 hours)\n",
    "taxi_df = taxi_df.filter((col(\"duration\") > 0) & (col(\"duration\") <= four_hours_in_seconds))"
   ]
  },
  {
   "cell_type": "code",
   "execution_count": null,
   "id": "dcfee5de-e2c9-441e-947a-162c975e6784",
   "metadata": {},
   "outputs": [],
   "source": [
    "summary_taxis = taxi_df.describe()\n",
    "summary_taxis.show()"
   ]
  },
  {
   "cell_type": "code",
   "execution_count": null,
   "id": "c7fe4284-6c0e-40a6-83ee-75c864cffdad",
   "metadata": {},
   "outputs": [],
   "source": [
    "# Define window specification to order trips per taxi\n",
    "window_spec = Window.partitionBy(\"medallion\").orderBy(\"pickup_unix\")\n",
    "\n",
    "# Get the previous trip's dropoff time (Unix timestamp)\n",
    "taxi_df = taxi_df.withColumn(\"prev_dropoff_unix\", lag(\"dropoff_unix\").over(window_spec))\n",
    "\n",
    "# Compute idle time only when a previous trip exists\n",
    "taxi_df = taxi_df.withColumn(\n",
    "    \"idle_time\",\n",
    "    when(col(\"prev_dropoff_unix\").isNotNull(),\n",
    "         when((col(\"pickup_unix\") - col(\"prev_dropoff_unix\")) <= four_hours_in_seconds,\n",
    "              col(\"pickup_unix\") - col(\"prev_dropoff_unix\")\n",
    "         ).otherwise(0)\n",
    "    ).otherwise(0)\n",
    ")\n",
    "\n"
   ]
  },
  {
   "cell_type": "code",
   "execution_count": null,
   "id": "410932e9-7b5e-4157-bedf-80747bc4b372",
   "metadata": {},
   "outputs": [],
   "source": [
    "# Group by taxi to calculate total trip time and total idle time\n",
    "utilization_df = taxi_df.groupBy(\"medallion\").agg(\n",
    "    spark_sum(\"duration\").alias(\"total_trip_time\"),\n",
    "    spark_sum(\"idle_time\").alias(\"total_idle_time\")\n",
    ")\n",
    "\n",
    "\n",
    "# Calculate utilization rate\n",
    "utilization_df = utilization_df.withColumn(\n",
    "    \"utilization_rate\",\n",
    "    col(\"total_trip_time\") / (col(\"total_trip_time\") + col(\"total_idle_time\"))\n",
    ")"
   ]
  },
  {
   "cell_type": "code",
   "execution_count": null,
   "id": "de9f8365-dbb1-4bd2-8c72-856848fd331a",
   "metadata": {},
   "outputs": [],
   "source": [
    "utilization_df.head()"
   ]
  },
  {
   "cell_type": "code",
   "execution_count": null,
   "id": "46d83299-1d94-49b3-a246-4594673fcb6c",
   "metadata": {},
   "outputs": [],
   "source": [
    "taxi_window = Window.partitionBy(\"medallion\").orderBy(\"dropoff_unix\")\n",
    "\n",
    "# Get the next trip's pickup time within the same taxi\n",
    "taxi_df = taxi_df.withColumn(\"next_pickup_unix\", lead(\"pickup_unix\").over(taxi_window))\n",
    "\n",
    "# Calculate time to next fare, ensuring non-negative values\n",
    "taxi_df = taxi_df.withColumn(\n",
    "    \"time_to_next_fare\",\n",
    "    when(\n",
    "        (col(\"next_pickup_unix\").isNotNull()) & (col(\"next_pickup_unix\") >= col(\"dropoff_unix\")),\n",
    "        col(\"next_pickup_unix\") - col(\"dropoff_unix\")\n",
    "    ).otherwise(None)  # Ignore invalid (negative) idle times\n",
    ")\n",
    "\n",
    "# Now, calculate the average time to next fare per borough\n",
    "next_fare_df = taxi_df \\\n",
    "    .filter(col(\"time_to_next_fare\").isNotNull()) \\\n",
    "    .groupBy(\"dropoff_borough\") \\\n",
    "    .agg(avg(\"time_to_next_fare\").alias(\"avg_time_to_next_fare\"))"
   ]
  },
  {
   "cell_type": "code",
   "execution_count": null,
   "id": "bdb1974b-1d42-4a9d-9896-3d4f88ea3341",
   "metadata": {},
   "outputs": [],
   "source": [
    "utilization_df.count()"
   ]
  },
  {
   "cell_type": "code",
   "execution_count": null,
   "id": "f369802f-4349-4bce-a547-88f9edc41317",
   "metadata": {},
   "outputs": [],
   "source": [
    "\n",
    "# Count Trips Within the Same Borough\n",
    "same_borough_df = taxi_df.filter(col(\"pickup_borough\") == col(\"dropoff_borough\"))\n",
    "same_borough_count = same_borough_df.groupBy(\"pickup_borough\").agg(count(\"medallion\").alias(\"same_borough_trips\"))\n"
   ]
  },
  {
   "cell_type": "code",
   "execution_count": null,
   "id": "dcf089a8-ac60-4ebf-a1b8-18b285a8a53e",
   "metadata": {},
   "outputs": [],
   "source": [
    "# Count Trips Between Different Boroughs\n",
    "diff_borough_df = taxi_df.filter(col(\"pickup_borough\") != col(\"dropoff_borough\"))\n",
    "diff_borough_count = diff_borough_df.groupBy(\"pickup_borough\", \"dropoff_borough\").agg(count(\"medallion\").alias(\"cross_borough_trips\"))"
   ]
  },
  {
   "cell_type": "markdown",
   "id": "71df1bbe-386c-4c41-896a-cdf754486842",
   "metadata": {},
   "source": [
    "## Results"
   ]
  },
  {
   "cell_type": "markdown",
   "id": "80c62daa-f34d-40b7-b47b-3a6937cb365e",
   "metadata": {},
   "source": [
    "### Query 1"
   ]
  },
  {
   "cell_type": "code",
   "execution_count": null,
   "id": "f3e82720-73ed-457e-8fa1-30f8234894db",
   "metadata": {},
   "outputs": [],
   "source": [
    "# First print the explain to see the strategy taken\n",
    "utilization_df.explain()"
   ]
  },
  {
   "cell_type": "code",
   "execution_count": null,
   "id": "329cdb04-9b04-4723-ad16-5aeee05e4f7e",
   "metadata": {},
   "outputs": [],
   "source": [
    "utilization_df.head()"
   ]
  },
  {
   "cell_type": "code",
   "execution_count": null,
   "id": "afbd21f7-89cc-4b97-9a09-7141c2f2bee4",
   "metadata": {},
   "outputs": [],
   "source": [
    "utilization_df.summary().show()"
   ]
  },
  {
   "cell_type": "code",
   "execution_count": null,
   "id": "b2a07a40-cbaf-461f-b128-7e2e352db37d",
   "metadata": {},
   "outputs": [],
   "source": [
    "# Show Results\n",
    "next_fare_df.show()\n",
    "same_borough_count.show()\n",
    "diff_borough_count.show()\n"
   ]
  },
  {
   "cell_type": "code",
   "execution_count": null,
   "id": "138deffc-72e3-47ae-8ee4-47e39d044de7",
   "metadata": {},
   "outputs": [],
   "source": [
    "utilization_df.explain()"
   ]
  },
  {
   "cell_type": "markdown",
   "id": "d4bb3d2b-619e-4d7c-96e8-83ee6c5a1795",
   "metadata": {},
   "source": [
    "## Basic EDA"
   ]
  },
  {
   "cell_type": "code",
   "execution_count": null,
   "id": "a0a13489-9433-4e01-b3c3-edf3902b213c",
   "metadata": {},
   "outputs": [],
   "source": [
    "utilization_df.summary().show()"
   ]
  },
  {
   "cell_type": "code",
   "execution_count": null,
   "id": "f3fb7a2d-68c4-4c91-9cc5-9ed691ad4e9f",
   "metadata": {},
   "outputs": [],
   "source": [
    "df_with_hours_and_minutes = utilization_df.withColumn('trip_time_hours', col('total_trip_time') / 3600) \\\n",
    "                  .withColumn('idle_time_hours', col('total_idle_time') / 3600) \\\n",
    "                  .withColumn('idle_time_minutes', col('total_idle_time') / 60) \\\n",
    "                  .withColumn('trip_time_minutes', col('total_trip_time') / 60)"
   ]
  },
  {
   "cell_type": "code",
   "execution_count": null,
   "id": "817a87c7-e070-419c-85df-58451ba3c1ac",
   "metadata": {},
   "outputs": [],
   "source": [
    "[field.dataType.simpleString() for field in df_with_hours_and_minutes.schema.fields]"
   ]
  },
  {
   "cell_type": "code",
   "execution_count": null,
   "id": "b85e8b68-f369-4cc0-9d4e-845bf68f14c5",
   "metadata": {},
   "outputs": [],
   "source": [
    "numeric_cols = [field.name for field in df_with_hours_and_minutes.schema.fields \n",
    "                if field.dataType.simpleString() in ['bigint', 'double', 'int', 'long', 'float']]\n",
    "\n",
    "# Create a summary DataFrame\n",
    "summary = df_with_hours_and_minutes.select(numeric_cols).summary(\n",
    "    \"count\", \"mean\", \"stddev\", \"min\", \"25%\", \"50%\", \"75%\", \"max\"\n",
    ").toPandas()\n",
    "\n",
    "# Set the summary column as index for better display\n",
    "summary.set_index('summary', inplace=True)\n",
    "\n",
    "# Display in Jupyter notebook\n",
    "display(summary)"
   ]
  }
 ],
 "metadata": {
  "kernelspec": {
   "display_name": "Python 3 (ipykernel)",
   "language": "python",
   "name": "python3"
  },
  "language_info": {
   "codemirror_mode": {
    "name": "ipython",
    "version": 3
   },
   "file_extension": ".py",
   "mimetype": "text/x-python",
   "name": "python",
   "nbconvert_exporter": "python",
   "pygments_lexer": "ipython3",
   "version": "3.11.10"
  }
 },
 "nbformat": 4,
 "nbformat_minor": 5
}
