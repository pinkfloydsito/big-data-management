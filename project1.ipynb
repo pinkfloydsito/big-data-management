{
 "cells": [
  {
   "cell_type": "code",
   "execution_count": null,
   "id": "bf524691-b6db-4786-bc0a-510d059a7e81",
   "metadata": {},
   "outputs": [],
   "source": [
    "from pyspark.sql import SparkSession\n",
    "from pyspark.sql.functions import col, unix_timestamp, lag, when, count, avg, lead, sum as spark_sum\n",
    "from pyspark.sql.window import Window\n",
    "import geopandas as gpd\n",
    "from shapely.geometry import Point, Polygon\n",
    "from pyspark.sql.types import StringType\n"
   ]
  },
  {
   "cell_type": "code",
   "execution_count": 22,
   "id": "885ee465-15a2-4173-8a6c-2faff7fe5789",
   "metadata": {},
   "outputs": [],
   "source": [
    "# Initialize Spark Session\n",
    "spark = SparkSession.builder.appName(\"NYC Taxi Analysis\").getOrCreate()\n",
    "\n"
   ]
  },
  {
   "cell_type": "code",
   "execution_count": 23,
   "id": "8c199ed5-a0f9-41a9-b490-46c9a35baab6",
   "metadata": {},
   "outputs": [],
   "source": [
    "taxi_df = spark.read.option(\"header\", \"true\").csv(\"input/Sample NYC Data.csv\")"
   ]
  },
  {
   "cell_type": "code",
   "execution_count": 24,
   "id": "1fd0cdff-c1f2-4b05-92d6-98ad14881780",
   "metadata": {},
   "outputs": [],
   "source": [
    "# Load GeoJSON Data\n",
    "geojson_path = \"input/nyc-boroughs.geojson\"\n",
    "geojson_data = gpd.read_file(geojson_path)"
   ]
  },
  {
   "cell_type": "code",
   "execution_count": 25,
   "id": "e8e86980-6618-42d3-ad5c-6a1466a4126a",
   "metadata": {},
   "outputs": [],
   "source": [
    "# Convert GeoJSON Data to Dictionary for Fast Lookup\n",
    "borough_polygons = {}\n",
    "for _, row in geojson_data.iterrows():\n",
    "    borough_polygons[row['borough']] = row['geometry']  # Use the existing Polygon directly"
   ]
  },
  {
   "cell_type": "code",
   "execution_count": 26,
   "id": "22a6ad80-4f6b-4299-bf07-9cac55b63012",
   "metadata": {},
   "outputs": [],
   "source": [
    "# Broadcast GeoJSON Data to Spark\n",
    "borough_broadcast = spark.sparkContext.broadcast(borough_polygons)"
   ]
  },
  {
   "cell_type": "code",
   "execution_count": 27,
   "id": "0cc387da-55df-4324-90a7-0cbb1287cd9b",
   "metadata": {},
   "outputs": [],
   "source": [
    "def get_borough(lon, lat):\n",
    "    try:\n",
    "        lon, lat = float(lon), float(lat)\n",
    "        point = Point(lon, lat)\n",
    "\n",
    "        # Debugging: Print first few calls\n",
    "        print(f\"Checking: lon={lon}, lat={lat}\")\n",
    "\n",
    "        for borough, polygon in borough_broadcast.value.items():\n",
    "            if polygon.contains(point):\n",
    "                print(f\"Matched: {lon}, {lat} -> {borough}\")\n",
    "                return borough\n",
    "\n",
    "    except Exception as e:\n",
    "        print(f\"Error processing ({lon}, {lat}): {e}\")  # Print error details\n",
    "\n",
    "    return \"Unknown\"\n",
    "\n",
    "# Register the function as a Spark UDF again\n",
    "to_borough_udf = spark.udf.register(\"to_borough\", get_borough, StringType())"
   ]
  },
  {
   "cell_type": "code",
   "execution_count": 28,
   "id": "0f12accd-86dc-4c22-a421-ee83818c0964",
   "metadata": {},
   "outputs": [
    {
     "name": "stdout",
     "output_type": "stream",
     "text": [
      "+--------------------+--------------------+---------+---------+------------------+---------------+----------------+---------------+----------------+---------------+-----------------+----------------+--------------+---------------+\n",
      "|           medallion|        hack_license|vendor_id|rate_code|store_and_fwd_flag|pickup_datetime|dropoff_datetime|passenger_count|pickup_longitude|pickup_latitude|dropoff_longitude|dropoff_latitude|pickup_borough|dropoff_borough|\n",
      "+--------------------+--------------------+---------+---------+------------------+---------------+----------------+---------------+----------------+---------------+-----------------+----------------+--------------+---------------+\n",
      "|89D227B655E5C82AE...|BA96DE419E711691B...|      CMT|        1|                 N| 01-01-13 15:11|  01-01-13 15:18|              4|      -73.978165|      40.757977|       -73.989838|       40.751171|       Unknown|        Unknown|\n",
      "|0BD7C8F5BA12B88E0...|9FD8F69F0804BDB55...|      CMT|        1|                 N| 06-01-13 00:18|  06-01-13 00:22|              1|      -74.006683|      40.731781|       -73.994499|        40.75066|       Unknown|        Unknown|\n",
      "|0BD7C8F5BA12B88E0...|9FD8F69F0804BDB55...|      CMT|        1|                 N| 05-01-13 18:49|  05-01-13 18:54|              1|      -74.004707|       40.73777|       -74.009834|       40.726002|       Unknown|        Unknown|\n",
      "|DFD2202EE08F7A8DC...|51EE87E3205C985EF...|      CMT|        1|                 N| 07-01-13 23:54|  07-01-13 23:58|              2|      -73.974602|      40.759945|       -73.984734|       40.759388|       Unknown|        Unknown|\n",
      "|DFD2202EE08F7A8DC...|51EE87E3205C985EF...|      CMT|        1|                 N| 07-01-13 23:25|  07-01-13 23:34|              1|       -73.97625|      40.748528|       -74.002586|       40.747868|       Unknown|        Unknown|\n",
      "+--------------------+--------------------+---------+---------+------------------+---------------+----------------+---------------+----------------+---------------+-----------------+----------------+--------------+---------------+\n",
      "only showing top 5 rows\n",
      "\n"
     ]
    }
   ],
   "source": [
    "# Assign Borough Names to Pickup and Drop-off Locations\n",
    "taxi_df = taxi_df.withColumn(\"pickup_borough\", to_borough_udf(col(\"pickup_longitude\"), col(\"pickup_latitude\")))\n",
    "taxi_df = taxi_df.withColumn(\"dropoff_borough\", to_borough_udf(col(\"dropoff_longitude\"), col(\"dropoff_latitude\")))\n",
    "taxi_df.show(5)"
   ]
  },
  {
   "cell_type": "code",
   "execution_count": 29,
   "id": "c7fe4284-6c0e-40a6-83ee-75c864cffdad",
   "metadata": {},
   "outputs": [],
   "source": [
    "# Define the max idle time threshold (4 hours in seconds)\n",
    "four_hours_in_seconds = 4 * 60 * 60\n",
    "\n",
    "# Convert pickup and dropoff datetime to Unix timestamps\n",
    "taxi_df = taxi_df.withColumn(\"pickup_unix\", unix_timestamp(col(\"pickup_datetime\"), \"dd-MM-yy HH:mm\"))\n",
    "taxi_df = taxi_df.withColumn(\"dropoff_unix\", unix_timestamp(col(\"dropoff_datetime\"), \"dd-MM-yy HH:mm\"))\n",
    "\n",
    "# Compute trip duration in seconds\n",
    "taxi_df = taxi_df.withColumn(\"duration\", col(\"dropoff_unix\") - col(\"pickup_unix\"))\n",
    "\n",
    "# Filter out incorrect durations (negative durations or trips longer than 4 hours)\n",
    "taxi_df = taxi_df.filter((col(\"duration\") > 0) & (col(\"duration\") <= four_hours_in_seconds))\n",
    "\n",
    "# Define window specification to order trips per taxi\n",
    "window_spec = Window.partitionBy(\"medallion\").orderBy(\"pickup_unix\")\n",
    "\n",
    "# Get the previous trip's dropoff time (Unix timestamp)\n",
    "taxi_df = taxi_df.withColumn(\"prev_dropoff_unix\", lag(\"dropoff_unix\").over(window_spec))\n",
    "\n",
    "# Compute idle time only when a previous trip exists\n",
    "taxi_df = taxi_df.withColumn(\n",
    "    \"idle_time\",\n",
    "    when(col(\"prev_dropoff_unix\").isNotNull(),\n",
    "         when((col(\"pickup_unix\") - col(\"prev_dropoff_unix\")) <= four_hours_in_seconds,\n",
    "              col(\"pickup_unix\") - col(\"prev_dropoff_unix\")\n",
    "         ).otherwise(0)\n",
    "    ).otherwise(0)\n",
    ")\n",
    "\n",
    "# Group by taxi to calculate total trip time and total idle time\n",
    "utilization_df = taxi_df.groupBy(\"medallion\").agg(\n",
    "    spark_sum(\"duration\").alias(\"total_trip_time\"),\n",
    "    spark_sum(\"idle_time\").alias(\"total_idle_time\")\n",
    ")\n",
    "\n",
    "# Calculate utilization rate\n",
    "utilization_df = utilization_df.withColumn(\n",
    "    \"utilization_rate\",\n",
    "    col(\"total_trip_time\") / (col(\"total_trip_time\") + col(\"total_idle_time\"))\n",
    ")\n",
    "\n",
    "\n",
    "taxi_window = Window.partitionBy(\"medallion\").orderBy(\"dropoff_unix\")\n",
    "\n",
    "# Get the next trip's pickup time within the same taxi\n",
    "taxi_df = taxi_df.withColumn(\"next_pickup_unix\", lead(\"pickup_unix\").over(taxi_window))\n",
    "\n",
    "# Calculate time to next fare, ensuring non-negative values\n",
    "taxi_df = taxi_df.withColumn(\n",
    "    \"time_to_next_fare\",\n",
    "    when(\n",
    "        (col(\"next_pickup_unix\").isNotNull()) & (col(\"next_pickup_unix\") >= col(\"dropoff_unix\")),\n",
    "        col(\"next_pickup_unix\") - col(\"dropoff_unix\")\n",
    "    ).otherwise(None)  # Ignore invalid (negative) idle times\n",
    ")\n",
    "\n",
    "# Now, calculate the average time to next fare per borough\n",
    "next_fare_df = taxi_df \\\n",
    "    .filter(col(\"time_to_next_fare\").isNotNull()) \\\n",
    "    .groupBy(\"dropoff_borough\") \\\n",
    "    .agg(avg(\"time_to_next_fare\").alias(\"avg_time_to_next_fare\"))\n"
   ]
  },
  {
   "cell_type": "code",
   "execution_count": 30,
   "id": "f369802f-4349-4bce-a547-88f9edc41317",
   "metadata": {},
   "outputs": [],
   "source": [
    "\n",
    "# Count Trips Within the Same Borough\n",
    "same_borough_df = taxi_df.filter(col(\"pickup_borough\") == col(\"dropoff_borough\"))\n",
    "same_borough_count = same_borough_df.groupBy(\"pickup_borough\").agg(count(\"medallion\").alias(\"same_borough_trips\"))\n"
   ]
  },
  {
   "cell_type": "code",
   "execution_count": 31,
   "id": "dcf089a8-ac60-4ebf-a1b8-18b285a8a53e",
   "metadata": {},
   "outputs": [],
   "source": [
    "# Count Trips Between Different Boroughs\n",
    "diff_borough_df = taxi_df.filter(col(\"pickup_borough\") != col(\"dropoff_borough\"))\n",
    "diff_borough_count = diff_borough_df.groupBy(\"pickup_borough\", \"dropoff_borough\").agg(count(\"medallion\").alias(\"cross_borough_trips\"))"
   ]
  },
  {
   "cell_type": "code",
   "execution_count": 32,
   "id": "b2a07a40-cbaf-461f-b128-7e2e352db37d",
   "metadata": {},
   "outputs": [
    {
     "name": "stdout",
     "output_type": "stream",
     "text": [
      "+--------------------+---------------+---------------+-------------------+\n",
      "|           medallion|total_trip_time|total_idle_time|   utilization_rate|\n",
      "+--------------------+---------------+---------------+-------------------+\n",
      "|000318C2E3E638158...|          13920|          17400| 0.4444444444444444|\n",
      "|002E3B405B6ABEA23...|          10260|          16140| 0.3886363636363636|\n",
      "|0030AD2648D81EE87...|           1980|            720| 0.7333333333333333|\n",
      "|0036961468659D0BF...|          11700|          19740|0.37213740458015265|\n",
      "|0038EF45118925A51...|          10920|          15120|0.41935483870967744|\n",
      "|0053334C798EC6C8E...|           7920|          22440| 0.2608695652173913|\n",
      "|005DED7D6E6C45441...|          11460|          11760| 0.4935400516795866|\n",
      "|005F00B38F46E2100...|          18600|          42180| 0.3060217176702863|\n",
      "|00790C7BAD30B7A9E...|          12360|          25320|0.32802547770700635|\n",
      "|0094A03FFE6BAFBE0...|          10680|           5400|  0.664179104477612|\n",
      "|009D3CCA83486B03F...|          19620|          40920| 0.3240832507433102|\n",
      "|009E68CADCB1BCF73...|            780|              0|                1.0|\n",
      "|00BD5D1AD3A96C997...|          10200|          12540|0.44854881266490765|\n",
      "|00E0904FC59DA2C36...|            780|              0|                1.0|\n",
      "|00FB3D49C3DE5E002...|          15000|          14580| 0.5070993914807302|\n",
      "|012B65864B3BE97D6...|           6660|           6360|  0.511520737327189|\n",
      "|012F172C0351A4767...|          16200|          40680| 0.2848101265822785|\n",
      "|01389E9CF7758ECAC...|           2880|           5460|0.34532374100719426|\n",
      "|019AFB33C3153481B...|           7500|           9840|0.43252595155709345|\n",
      "|01BD10395EF30144C...|           4320|           5940|0.42105263157894735|\n",
      "+--------------------+---------------+---------------+-------------------+\n",
      "only showing top 20 rows\n",
      "\n",
      "+---------------+---------------------+\n",
      "|dropoff_borough|avg_time_to_next_fare|\n",
      "+---------------+---------------------+\n",
      "|         Queens|    6418.319850653392|\n",
      "|        Unknown|   2441.0305564052887|\n",
      "|  Staten Island|              13935.0|\n",
      "|      Manhattan|               4185.0|\n",
      "+---------------+---------------------+\n",
      "\n",
      "+--------------+------------------+\n",
      "|pickup_borough|same_borough_trips|\n",
      "+--------------+------------------+\n",
      "|        Queens|              1362|\n",
      "|       Unknown|             89588|\n",
      "| Staten Island|                 1|\n",
      "+--------------+------------------+\n",
      "\n",
      "+--------------+---------------+-------------------+\n",
      "|pickup_borough|dropoff_borough|cross_borough_trips|\n",
      "+--------------+---------------+-------------------+\n",
      "|       Unknown|      Manhattan|                  3|\n",
      "|        Queens|  Staten Island|                  2|\n",
      "|        Queens|        Unknown|               4506|\n",
      "|       Unknown|         Queens|               4074|\n",
      "|       Unknown|  Staten Island|                 10|\n",
      "|        Queens|      Manhattan|                  1|\n",
      "| Staten Island|         Queens|                  1|\n",
      "|     Manhattan|        Unknown|                  1|\n",
      "+--------------+---------------+-------------------+\n",
      "\n"
     ]
    }
   ],
   "source": [
    "# Show Results\n",
    "utilization_df.show()\n",
    "next_fare_df.show()\n",
    "same_borough_count.show()\n",
    "diff_borough_count.show()\n"
   ]
  },
  {
   "cell_type": "code",
   "execution_count": null,
   "id": "5cc50d2b-1277-4d6b-912b-d5b0b80ce7b0",
   "metadata": {},
   "outputs": [],
   "source": []
  }
 ],
 "metadata": {
  "kernelspec": {
   "display_name": "Python 3 (ipykernel)",
   "language": "python",
   "name": "python3"
  },
  "language_info": {
   "codemirror_mode": {
    "name": "ipython",
    "version": 3
   },
   "file_extension": ".py",
   "mimetype": "text/x-python",
   "name": "python",
   "nbconvert_exporter": "python",
   "pygments_lexer": "ipython3",
   "version": "3.11.10"
  }
 },
 "nbformat": 4,
 "nbformat_minor": 5
}
