{
 "cells": [
  {
   "cell_type": "markdown",
   "id": "1bc30c9c-6581-4182-a838-944e50142459",
   "metadata": {},
   "source": [
    "# Big Data Management – Project 3\n",
    "\n",
    "## Flight Interconnected Data Analysis using Spark and GraphFrames\n",
    "\n",
    "### Group no: *group 17*  "
   ]
  },
  {
   "cell_type": "code",
   "execution_count": 2,
   "id": "b136e725-c329-4f2b-96d6-e2b690b382da",
   "metadata": {},
   "outputs": [
    {
     "name": "stdout",
     "output_type": "stream",
     "text": [
      "Collecting graphframes==0.6\n",
      "  Using cached graphframes-0.6-py2.py3-none-any.whl.metadata (934 bytes)\n",
      "Requirement already satisfied: numpy in /opt/conda/lib/python3.11/site-packages (from graphframes==0.6) (1.26.4)\n",
      "Collecting nose (from graphframes==0.6)\n",
      "  Using cached nose-1.3.7-py3-none-any.whl.metadata (1.7 kB)\n",
      "Using cached graphframes-0.6-py2.py3-none-any.whl (18 kB)\n",
      "Using cached nose-1.3.7-py3-none-any.whl (154 kB)\n",
      "Installing collected packages: nose, graphframes\n",
      "Successfully installed graphframes-0.6 nose-1.3.7\n"
     ]
    }
   ],
   "source": [
    "!pip install graphframes==0.6"
   ]
  },
  {
   "cell_type": "code",
   "execution_count": 3,
   "id": "f3463238-9b75-4995-b5b2-5898a6f2a125",
   "metadata": {},
   "outputs": [],
   "source": [
    "import pyspark\n",
    "from delta import configure_spark_with_delta_pip\n",
    "from pyspark.sql import functions as F\n",
    "from pyspark.sql import Window\n",
    "from graphframes import GraphFrame\n",
    "import random"
   ]
  },
  {
   "cell_type": "code",
   "execution_count": 4,
   "id": "1a1c36e5-e29e-4bda-b9a4-5d649ace7972",
   "metadata": {},
   "outputs": [],
   "source": [
    "builder = pyspark.sql.SparkSession.builder.appName(\"FlightGraphAnalysis\") \\\n",
    "    .config(\"spark.sql.extensions\", \"io.delta.sql.DeltaSparkSessionExtension\") \\\n",
    "    .config(\"spark.sql.catalog.spark_catalog\", \"org.apache.spark.sql.delta.catalog.DeltaCatalog\") \\\n",
    "    .config(\"spark.executor.memory\", \"8g\") \\\n",
    "    .config(\"spark.driver.memory\", \"4g\") \\\n",
    "    .config(\"spark.sql.shuffle.partitions\", \"200\")\n",
    "\n",
    "spark = configure_spark_with_delta_pip(builder,extra_packages=[\"graphframes:graphframes:0.8.4-spark3.5-s_2.12\"]).getOrCreate()\n",
    "spark.conf.set(\"spark.sql.shuffle.partitions\", spark._sc.defaultParallelism)\n",
    "\n",
    "spark.conf.set(\"spark.sql.repl.eagerEval.enabled\",True) # OK for exploration, not great for performance\n",
    "spark.conf.set(\"spark.sql.repl.eagerEval.truncate\", 500)"
   ]
  },
  {
   "cell_type": "markdown",
   "id": "29cb2bab-4f9b-4bb5-b89d-b1e8864f45ed",
   "metadata": {},
   "source": [
    "## Graph Construction\n",
    "\n",
    "We load flight data from the 2009 dataset and construct a graph where:\n",
    "- **Vertices** represent airports (based on `ORIGIN` and `DEST` fields).\n",
    "- **Edges** represent directed flights from one airport to another.\n",
    "\n",
    "The graph is constructed using GraphFrames for further analysis."
   ]
  },
  {
   "cell_type": "code",
   "execution_count": 5,
   "id": "647acb78-6145-43bf-b51d-738fb11b3bf2",
   "metadata": {},
   "outputs": [],
   "source": [
    "airport_df = spark.read.csv(\"2009.csv\", header=True, inferSchema=True)"
   ]
  },
  {
   "cell_type": "code",
   "execution_count": 6,
   "id": "d066e9fa-a237-49dc-91fa-42149095e551",
   "metadata": {},
   "outputs": [
    {
     "data": {
      "text/html": [
       "<table border='1'>\n",
       "<tr><th>FL_DATE</th><th>OP_CARRIER</th><th>OP_CARRIER_FL_NUM</th><th>ORIGIN</th><th>DEST</th><th>CRS_DEP_TIME</th><th>DEP_TIME</th><th>DEP_DELAY</th><th>TAXI_OUT</th><th>WHEELS_OFF</th><th>WHEELS_ON</th><th>TAXI_IN</th><th>CRS_ARR_TIME</th><th>ARR_TIME</th><th>ARR_DELAY</th><th>CANCELLED</th><th>CANCELLATION_CODE</th><th>DIVERTED</th><th>CRS_ELAPSED_TIME</th><th>ACTUAL_ELAPSED_TIME</th><th>AIR_TIME</th><th>DISTANCE</th><th>CARRIER_DELAY</th><th>WEATHER_DELAY</th><th>NAS_DELAY</th><th>SECURITY_DELAY</th><th>LATE_AIRCRAFT_DELAY</th><th>Unnamed: 27</th></tr>\n",
       "<tr><td>2009-01-01</td><td>XE</td><td>1204</td><td>DCA</td><td>EWR</td><td>1100</td><td>1058.0</td><td>-2.0</td><td>18.0</td><td>1116.0</td><td>1158.0</td><td>8.0</td><td>1202</td><td>1206.0</td><td>4.0</td><td>0.0</td><td>NULL</td><td>0.0</td><td>62.0</td><td>68.0</td><td>42.0</td><td>199.0</td><td>NULL</td><td>NULL</td><td>NULL</td><td>NULL</td><td>NULL</td><td>NULL</td></tr>\n",
       "<tr><td>2009-01-01</td><td>XE</td><td>1206</td><td>EWR</td><td>IAD</td><td>1510</td><td>1509.0</td><td>-1.0</td><td>28.0</td><td>1537.0</td><td>1620.0</td><td>4.0</td><td>1632</td><td>1624.0</td><td>-8.0</td><td>0.0</td><td>NULL</td><td>0.0</td><td>82.0</td><td>75.0</td><td>43.0</td><td>213.0</td><td>NULL</td><td>NULL</td><td>NULL</td><td>NULL</td><td>NULL</td><td>NULL</td></tr>\n",
       "<tr><td>2009-01-01</td><td>XE</td><td>1207</td><td>EWR</td><td>DCA</td><td>1100</td><td>1059.0</td><td>-1.0</td><td>20.0</td><td>1119.0</td><td>1155.0</td><td>6.0</td><td>1210</td><td>1201.0</td><td>-9.0</td><td>0.0</td><td>NULL</td><td>0.0</td><td>70.0</td><td>62.0</td><td>36.0</td><td>199.0</td><td>NULL</td><td>NULL</td><td>NULL</td><td>NULL</td><td>NULL</td><td>NULL</td></tr>\n",
       "<tr><td>2009-01-01</td><td>XE</td><td>1208</td><td>DCA</td><td>EWR</td><td>1240</td><td>1249.0</td><td>9.0</td><td>10.0</td><td>1259.0</td><td>1336.0</td><td>9.0</td><td>1357</td><td>1345.0</td><td>-12.0</td><td>0.0</td><td>NULL</td><td>0.0</td><td>77.0</td><td>56.0</td><td>37.0</td><td>199.0</td><td>NULL</td><td>NULL</td><td>NULL</td><td>NULL</td><td>NULL</td><td>NULL</td></tr>\n",
       "<tr><td>2009-01-01</td><td>XE</td><td>1209</td><td>IAD</td><td>EWR</td><td>1715</td><td>1705.0</td><td>-10.0</td><td>24.0</td><td>1729.0</td><td>1809.0</td><td>13.0</td><td>1900</td><td>1822.0</td><td>-38.0</td><td>0.0</td><td>NULL</td><td>0.0</td><td>105.0</td><td>77.0</td><td>40.0</td><td>213.0</td><td>NULL</td><td>NULL</td><td>NULL</td><td>NULL</td><td>NULL</td><td>NULL</td></tr>\n",
       "<tr><td>2009-01-01</td><td>XE</td><td>1212</td><td>ATL</td><td>EWR</td><td>1915</td><td>1913.0</td><td>-2.0</td><td>19.0</td><td>1932.0</td><td>2108.0</td><td>15.0</td><td>2142</td><td>2123.0</td><td>-19.0</td><td>0.0</td><td>NULL</td><td>0.0</td><td>147.0</td><td>130.0</td><td>96.0</td><td>745.0</td><td>NULL</td><td>NULL</td><td>NULL</td><td>NULL</td><td>NULL</td><td>NULL</td></tr>\n",
       "<tr><td>2009-01-01</td><td>XE</td><td>1212</td><td>CLE</td><td>ATL</td><td>1645</td><td>1637.0</td><td>-8.0</td><td>12.0</td><td>1649.0</td><td>1820.0</td><td>5.0</td><td>1842</td><td>1825.0</td><td>-17.0</td><td>0.0</td><td>NULL</td><td>0.0</td><td>117.0</td><td>108.0</td><td>91.0</td><td>554.0</td><td>NULL</td><td>NULL</td><td>NULL</td><td>NULL</td><td>NULL</td><td>NULL</td></tr>\n",
       "<tr><td>2009-01-01</td><td>XE</td><td>1214</td><td>DCA</td><td>EWR</td><td>1915</td><td>1908.0</td><td>-7.0</td><td>9.0</td><td>1917.0</td><td>1953.0</td><td>34.0</td><td>2035</td><td>2027.0</td><td>-8.0</td><td>0.0</td><td>NULL</td><td>0.0</td><td>80.0</td><td>79.0</td><td>36.0</td><td>199.0</td><td>NULL</td><td>NULL</td><td>NULL</td><td>NULL</td><td>NULL</td><td>NULL</td></tr>\n",
       "<tr><td>2009-01-01</td><td>XE</td><td>1215</td><td>EWR</td><td>DCA</td><td>1715</td><td>1710.0</td><td>-5.0</td><td>28.0</td><td>1738.0</td><td>1819.0</td><td>4.0</td><td>1838</td><td>1823.0</td><td>-15.0</td><td>0.0</td><td>NULL</td><td>0.0</td><td>83.0</td><td>73.0</td><td>41.0</td><td>199.0</td><td>NULL</td><td>NULL</td><td>NULL</td><td>NULL</td><td>NULL</td><td>NULL</td></tr>\n",
       "<tr><td>2009-01-01</td><td>XE</td><td>1217</td><td>EWR</td><td>DCA</td><td>1300</td><td>1255.0</td><td>-5.0</td><td>15.0</td><td>1310.0</td><td>1349.0</td><td>7.0</td><td>1408</td><td>1356.0</td><td>-12.0</td><td>0.0</td><td>NULL</td><td>0.0</td><td>68.0</td><td>61.0</td><td>39.0</td><td>199.0</td><td>NULL</td><td>NULL</td><td>NULL</td><td>NULL</td><td>NULL</td><td>NULL</td></tr>\n",
       "<tr><td>2009-01-01</td><td>XE</td><td>1218</td><td>DCA</td><td>EWR</td><td>1500</td><td>1457.0</td><td>-3.0</td><td>14.0</td><td>1511.0</td><td>1552.0</td><td>7.0</td><td>1620</td><td>1559.0</td><td>-21.0</td><td>0.0</td><td>NULL</td><td>0.0</td><td>80.0</td><td>62.0</td><td>41.0</td><td>199.0</td><td>NULL</td><td>NULL</td><td>NULL</td><td>NULL</td><td>NULL</td><td>NULL</td></tr>\n",
       "<tr><td>2009-01-01</td><td>XE</td><td>1219</td><td>EWR</td><td>DCA</td><td>2135</td><td>2131.0</td><td>-4.0</td><td>21.0</td><td>2152.0</td><td>2232.0</td><td>3.0</td><td>2252</td><td>2235.0</td><td>-17.0</td><td>0.0</td><td>NULL</td><td>0.0</td><td>77.0</td><td>64.0</td><td>40.0</td><td>199.0</td><td>NULL</td><td>NULL</td><td>NULL</td><td>NULL</td><td>NULL</td><td>NULL</td></tr>\n",
       "<tr><td>2009-01-01</td><td>XE</td><td>1220</td><td>CLE</td><td>DCA</td><td>1905</td><td>1855.0</td><td>-10.0</td><td>10.0</td><td>1905.0</td><td>1956.0</td><td>5.0</td><td>2025</td><td>2001.0</td><td>-24.0</td><td>0.0</td><td>NULL</td><td>0.0</td><td>80.0</td><td>66.0</td><td>51.0</td><td>310.0</td><td>NULL</td><td>NULL</td><td>NULL</td><td>NULL</td><td>NULL</td><td>NULL</td></tr>\n",
       "<tr><td>2009-01-01</td><td>XE</td><td>1220</td><td>DCA</td><td>EWR</td><td>2100</td><td>2049.0</td><td>-11.0</td><td>10.0</td><td>2059.0</td><td>2133.0</td><td>10.0</td><td>2217</td><td>2143.0</td><td>-34.0</td><td>0.0</td><td>NULL</td><td>0.0</td><td>77.0</td><td>54.0</td><td>34.0</td><td>199.0</td><td>NULL</td><td>NULL</td><td>NULL</td><td>NULL</td><td>NULL</td><td>NULL</td></tr>\n",
       "<tr><td>2009-01-01</td><td>XE</td><td>1232</td><td>ORD</td><td>EWR</td><td>905</td><td>900.0</td><td>-5.0</td><td>16.0</td><td>916.0</td><td>1144.0</td><td>6.0</td><td>1212</td><td>1150.0</td><td>-22.0</td><td>0.0</td><td>NULL</td><td>0.0</td><td>127.0</td><td>110.0</td><td>88.0</td><td>719.0</td><td>NULL</td><td>NULL</td><td>NULL</td><td>NULL</td><td>NULL</td><td>NULL</td></tr>\n",
       "<tr><td>2009-01-01</td><td>XE</td><td>1233</td><td>EWR</td><td>ORD</td><td>1000</td><td>1035.0</td><td>35.0</td><td>14.0</td><td>1049.0</td><td>1156.0</td><td>10.0</td><td>1139</td><td>1206.0</td><td>27.0</td><td>0.0</td><td>NULL</td><td>0.0</td><td>159.0</td><td>151.0</td><td>127.0</td><td>719.0</td><td>0.0</td><td>27.0</td><td>0.0</td><td>0.0</td><td>0.0</td><td>NULL</td></tr>\n",
       "<tr><td>2009-01-01</td><td>XE</td><td>1234</td><td>ORD</td><td>EWR</td><td>1230</td><td>1234.0</td><td>4.0</td><td>8.0</td><td>1242.0</td><td>1511.0</td><td>14.0</td><td>1559</td><td>1525.0</td><td>-34.0</td><td>0.0</td><td>NULL</td><td>0.0</td><td>149.0</td><td>111.0</td><td>89.0</td><td>719.0</td><td>NULL</td><td>NULL</td><td>NULL</td><td>NULL</td><td>NULL</td><td>NULL</td></tr>\n",
       "<tr><td>2009-01-01</td><td>XE</td><td>1235</td><td>EWR</td><td>ORD</td><td>1343</td><td>1406.0</td><td>23.0</td><td>13.0</td><td>1419.0</td><td>1523.0</td><td>7.0</td><td>1523</td><td>1530.0</td><td>7.0</td><td>0.0</td><td>NULL</td><td>0.0</td><td>160.0</td><td>144.0</td><td>124.0</td><td>719.0</td><td>NULL</td><td>NULL</td><td>NULL</td><td>NULL</td><td>NULL</td><td>NULL</td></tr>\n",
       "<tr><td>2009-01-01</td><td>XE</td><td>1236</td><td>ORD</td><td>EWR</td><td>1630</td><td>1619.0</td><td>-11.0</td><td>19.0</td><td>1638.0</td><td>1906.0</td><td>35.0</td><td>2002</td><td>1941.0</td><td>-21.0</td><td>0.0</td><td>NULL</td><td>0.0</td><td>152.0</td><td>142.0</td><td>88.0</td><td>719.0</td><td>NULL</td><td>NULL</td><td>NULL</td><td>NULL</td><td>NULL</td><td>NULL</td></tr>\n",
       "<tr><td>2009-01-01</td><td>XE</td><td>1237</td><td>EWR</td><td>ORD</td><td>1930</td><td>1927.0</td><td>-3.0</td><td>16.0</td><td>1943.0</td><td>2049.0</td><td>8.0</td><td>2123</td><td>2057.0</td><td>-26.0</td><td>0.0</td><td>NULL</td><td>0.0</td><td>173.0</td><td>150.0</td><td>126.0</td><td>719.0</td><td>NULL</td><td>NULL</td><td>NULL</td><td>NULL</td><td>NULL</td><td>NULL</td></tr>\n",
       "</table>\n",
       "only showing top 20 rows\n"
      ],
      "text/plain": [
       "+----------+----------+-----------------+------+----+------------+--------+---------+--------+----------+---------+-------+------------+--------+---------+---------+-----------------+--------+----------------+-------------------+--------+--------+-------------+-------------+---------+--------------+-------------------+-----------+\n",
       "|   FL_DATE|OP_CARRIER|OP_CARRIER_FL_NUM|ORIGIN|DEST|CRS_DEP_TIME|DEP_TIME|DEP_DELAY|TAXI_OUT|WHEELS_OFF|WHEELS_ON|TAXI_IN|CRS_ARR_TIME|ARR_TIME|ARR_DELAY|CANCELLED|CANCELLATION_CODE|DIVERTED|CRS_ELAPSED_TIME|ACTUAL_ELAPSED_TIME|AIR_TIME|DISTANCE|CARRIER_DELAY|WEATHER_DELAY|NAS_DELAY|SECURITY_DELAY|LATE_AIRCRAFT_DELAY|Unnamed: 27|\n",
       "+----------+----------+-----------------+------+----+------------+--------+---------+--------+----------+---------+-------+------------+--------+---------+---------+-----------------+--------+----------------+-------------------+--------+--------+-------------+-------------+---------+--------------+-------------------+-----------+\n",
       "|2009-01-01|        XE|             1204|   DCA| EWR|        1100|  1058.0|     -2.0|    18.0|    1116.0|   1158.0|    8.0|        1202|  1206.0|      4.0|      0.0|             NULL|     0.0|            62.0|               68.0|    42.0|   199.0|         NULL|         NULL|     NULL|          NULL|               NULL|       NULL|\n",
       "|2009-01-01|        XE|             1206|   EWR| IAD|        1510|  1509.0|     -1.0|    28.0|    1537.0|   1620.0|    4.0|        1632|  1624.0|     -8.0|      0.0|             NULL|     0.0|            82.0|               75.0|    43.0|   213.0|         NULL|         NULL|     NULL|          NULL|               NULL|       NULL|\n",
       "|2009-01-01|        XE|             1207|   EWR| DCA|        1100|  1059.0|     -1.0|    20.0|    1119.0|   1155.0|    6.0|        1210|  1201.0|     -9.0|      0.0|             NULL|     0.0|            70.0|               62.0|    36.0|   199.0|         NULL|         NULL|     NULL|          NULL|               NULL|       NULL|\n",
       "|2009-01-01|        XE|             1208|   DCA| EWR|        1240|  1249.0|      9.0|    10.0|    1259.0|   1336.0|    9.0|        1357|  1345.0|    -12.0|      0.0|             NULL|     0.0|            77.0|               56.0|    37.0|   199.0|         NULL|         NULL|     NULL|          NULL|               NULL|       NULL|\n",
       "|2009-01-01|        XE|             1209|   IAD| EWR|        1715|  1705.0|    -10.0|    24.0|    1729.0|   1809.0|   13.0|        1900|  1822.0|    -38.0|      0.0|             NULL|     0.0|           105.0|               77.0|    40.0|   213.0|         NULL|         NULL|     NULL|          NULL|               NULL|       NULL|\n",
       "|2009-01-01|        XE|             1212|   ATL| EWR|        1915|  1913.0|     -2.0|    19.0|    1932.0|   2108.0|   15.0|        2142|  2123.0|    -19.0|      0.0|             NULL|     0.0|           147.0|              130.0|    96.0|   745.0|         NULL|         NULL|     NULL|          NULL|               NULL|       NULL|\n",
       "|2009-01-01|        XE|             1212|   CLE| ATL|        1645|  1637.0|     -8.0|    12.0|    1649.0|   1820.0|    5.0|        1842|  1825.0|    -17.0|      0.0|             NULL|     0.0|           117.0|              108.0|    91.0|   554.0|         NULL|         NULL|     NULL|          NULL|               NULL|       NULL|\n",
       "|2009-01-01|        XE|             1214|   DCA| EWR|        1915|  1908.0|     -7.0|     9.0|    1917.0|   1953.0|   34.0|        2035|  2027.0|     -8.0|      0.0|             NULL|     0.0|            80.0|               79.0|    36.0|   199.0|         NULL|         NULL|     NULL|          NULL|               NULL|       NULL|\n",
       "|2009-01-01|        XE|             1215|   EWR| DCA|        1715|  1710.0|     -5.0|    28.0|    1738.0|   1819.0|    4.0|        1838|  1823.0|    -15.0|      0.0|             NULL|     0.0|            83.0|               73.0|    41.0|   199.0|         NULL|         NULL|     NULL|          NULL|               NULL|       NULL|\n",
       "|2009-01-01|        XE|             1217|   EWR| DCA|        1300|  1255.0|     -5.0|    15.0|    1310.0|   1349.0|    7.0|        1408|  1356.0|    -12.0|      0.0|             NULL|     0.0|            68.0|               61.0|    39.0|   199.0|         NULL|         NULL|     NULL|          NULL|               NULL|       NULL|\n",
       "|2009-01-01|        XE|             1218|   DCA| EWR|        1500|  1457.0|     -3.0|    14.0|    1511.0|   1552.0|    7.0|        1620|  1559.0|    -21.0|      0.0|             NULL|     0.0|            80.0|               62.0|    41.0|   199.0|         NULL|         NULL|     NULL|          NULL|               NULL|       NULL|\n",
       "|2009-01-01|        XE|             1219|   EWR| DCA|        2135|  2131.0|     -4.0|    21.0|    2152.0|   2232.0|    3.0|        2252|  2235.0|    -17.0|      0.0|             NULL|     0.0|            77.0|               64.0|    40.0|   199.0|         NULL|         NULL|     NULL|          NULL|               NULL|       NULL|\n",
       "|2009-01-01|        XE|             1220|   CLE| DCA|        1905|  1855.0|    -10.0|    10.0|    1905.0|   1956.0|    5.0|        2025|  2001.0|    -24.0|      0.0|             NULL|     0.0|            80.0|               66.0|    51.0|   310.0|         NULL|         NULL|     NULL|          NULL|               NULL|       NULL|\n",
       "|2009-01-01|        XE|             1220|   DCA| EWR|        2100|  2049.0|    -11.0|    10.0|    2059.0|   2133.0|   10.0|        2217|  2143.0|    -34.0|      0.0|             NULL|     0.0|            77.0|               54.0|    34.0|   199.0|         NULL|         NULL|     NULL|          NULL|               NULL|       NULL|\n",
       "|2009-01-01|        XE|             1232|   ORD| EWR|         905|   900.0|     -5.0|    16.0|     916.0|   1144.0|    6.0|        1212|  1150.0|    -22.0|      0.0|             NULL|     0.0|           127.0|              110.0|    88.0|   719.0|         NULL|         NULL|     NULL|          NULL|               NULL|       NULL|\n",
       "|2009-01-01|        XE|             1233|   EWR| ORD|        1000|  1035.0|     35.0|    14.0|    1049.0|   1156.0|   10.0|        1139|  1206.0|     27.0|      0.0|             NULL|     0.0|           159.0|              151.0|   127.0|   719.0|          0.0|         27.0|      0.0|           0.0|                0.0|       NULL|\n",
       "|2009-01-01|        XE|             1234|   ORD| EWR|        1230|  1234.0|      4.0|     8.0|    1242.0|   1511.0|   14.0|        1559|  1525.0|    -34.0|      0.0|             NULL|     0.0|           149.0|              111.0|    89.0|   719.0|         NULL|         NULL|     NULL|          NULL|               NULL|       NULL|\n",
       "|2009-01-01|        XE|             1235|   EWR| ORD|        1343|  1406.0|     23.0|    13.0|    1419.0|   1523.0|    7.0|        1523|  1530.0|      7.0|      0.0|             NULL|     0.0|           160.0|              144.0|   124.0|   719.0|         NULL|         NULL|     NULL|          NULL|               NULL|       NULL|\n",
       "|2009-01-01|        XE|             1236|   ORD| EWR|        1630|  1619.0|    -11.0|    19.0|    1638.0|   1906.0|   35.0|        2002|  1941.0|    -21.0|      0.0|             NULL|     0.0|           152.0|              142.0|    88.0|   719.0|         NULL|         NULL|     NULL|          NULL|               NULL|       NULL|\n",
       "|2009-01-01|        XE|             1237|   EWR| ORD|        1930|  1927.0|     -3.0|    16.0|    1943.0|   2049.0|    8.0|        2123|  2057.0|    -26.0|      0.0|             NULL|     0.0|           173.0|              150.0|   126.0|   719.0|         NULL|         NULL|     NULL|          NULL|               NULL|       NULL|\n",
       "+----------+----------+-----------------+------+----+------------+--------+---------+--------+----------+---------+-------+------------+--------+---------+---------+-----------------+--------+----------------+-------------------+--------+--------+-------------+-------------+---------+--------------+-------------------+-----------+\n",
       "only showing top 20 rows"
      ]
     },
     "metadata": {},
     "output_type": "display_data"
    }
   ],
   "source": [
    "display(airport_df)"
   ]
  },
  {
   "cell_type": "code",
   "execution_count": 7,
   "id": "3dab9a8c-701f-43d6-b749-3a851e009d8e",
   "metadata": {},
   "outputs": [],
   "source": [
    "vertices = airport_df.select(F.col(\"ORIGIN\").alias(\"id\")) \\\n",
    "    .union(airport_df.select(F.col(\"DEST\").alias(\"id\"))) \\\n",
    "    .distinct() \\\n",
    "    .repartition(200) \\\n",
    "    .cache()\n",
    "\n",
    "edges = airport_df.select(\n",
    "    F.col(\"ORIGIN\").alias(\"src\"),\n",
    "    F.col(\"DEST\").alias(\"dst\")\n",
    ").repartition(200).cache()"
   ]
  },
  {
   "cell_type": "code",
   "execution_count": 8,
   "id": "38710bf8-87be-41b7-9f39-2de3e7fe13b7",
   "metadata": {},
   "outputs": [
    {
     "name": "stderr",
     "output_type": "stream",
     "text": [
      "/usr/local/spark/python/pyspark/sql/dataframe.py:168: UserWarning: DataFrame.sql_ctx is an internal property, and will be removed in future releases. Use DataFrame.sparkSession instead.\n",
      "  warnings.warn(\n"
     ]
    }
   ],
   "source": [
    "from graphframes import GraphFrame\n",
    "\n",
    "# Defining GraphFrame from existing vertices and edges\n",
    "g = GraphFrame(vertices, edges)"
   ]
  },
  {
   "cell_type": "markdown",
   "id": "c28345c8-28b2-4b9e-bd1c-a6403647923b",
   "metadata": {},
   "source": [
    "### Graph Basic Statistics\n",
    "\n",
    "This table shows the number of vertices (airports) and edges (flights) in the graph. It provides an overview of the dataset's structure after conversion to a graph format."
   ]
  },
  {
   "cell_type": "code",
   "execution_count": 9,
   "id": "0f70a858-8260-4f30-8f43-a8b81a040911",
   "metadata": {},
   "outputs": [
    {
     "name": "stdout",
     "output_type": "stream",
     "text": [
      "\n",
      "=== Graph Basic Statistics ===\n"
     ]
    },
    {
     "data": {
      "text/html": [
       "<table border='1'>\n",
       "<tr><th>Component</th><th>Count</th></tr>\n",
       "<tr><td>Vertices (airports)</td><td>296</td></tr>\n",
       "<tr><td>Edges (flights)</td><td>6429338</td></tr>\n",
       "</table>\n"
      ],
      "text/plain": [
       "+-------------------+-------+\n",
       "|          Component|  Count|\n",
       "+-------------------+-------+\n",
       "|Vertices (airports)|    296|\n",
       "|    Edges (flights)|6429338|\n",
       "+-------------------+-------+"
      ]
     },
     "metadata": {},
     "output_type": "display_data"
    }
   ],
   "source": [
    "print(\"\\n=== Graph Basic Statistics ===\")\n",
    "counts_data = [(\"Vertices (airports)\", vertices.count()), \n",
    "               (\"Edges (flights)\", edges.count())]\n",
    "\n",
    "counts_df = spark.createDataFrame(counts_data, [\"Component\", \"Count\"])\n",
    "display(counts_df)"
   ]
  },
  {
   "cell_type": "markdown",
   "id": "1fcaa5e1-f339-4177-951f-624947a88dad",
   "metadata": {},
   "source": [
    "## Query 1: Degree Statistics\n",
    "\n",
    "We compute:\n",
    "- **In-Degree**: Number of flights arriving at each airport.\n",
    "- **Out-Degree**: Number of flights departing from each airport.\n",
    "- **Total Degree**: Sum of in- and out-degrees, showing overall connectivity.\n",
    "- **Triangle count**: The number of triangles each airport is part of. A triangle represents a tightly interconnected group of three airports with direct flights among them.\n",
    "\n",
    "This helps identify highly connected airports."
   ]
  },
  {
   "cell_type": "code",
   "execution_count": 10,
   "id": "86c8b42c-91df-484b-af07-898be86a3265",
   "metadata": {},
   "outputs": [
    {
     "name": "stdout",
     "output_type": "stream",
     "text": [
      "\n",
      "=== Query 1: Degree Statistics ===\n",
      "+----+----------+---------+------------+--------------+\n",
      "|node|out_degree|in_degree|total_degree|triangle_count|\n",
      "+----+----------+---------+------------+--------------+\n",
      "| ATL|    417449|   417457|      834906|         12183|\n",
      "| ORD|    313848|   313769|      627617|          2687|\n",
      "| DFW|    264396|   264398|      528794|          5995|\n",
      "| DEN|    235675|   235700|      471375|          4749|\n",
      "| LAX|    192879|   192916|      385795|          2166|\n",
      "| PHX|    183502|   183491|      366993|          1934|\n",
      "| IAH|    182097|   182088|      364185|          2923|\n",
      "| LAS|    153993|   153984|      307977|          2213|\n",
      "| DTW|    152081|   152075|      304156|          4692|\n",
      "| SFO|    136488|   136532|      273020|          1575|\n",
      "| SLC|    131694|   131674|      263368|          1663|\n",
      "| MCO|    120944|   120936|      241880|          1931|\n",
      "| MSP|    119732|   119759|      239491|          2401|\n",
      "| JFK|    119574|   119571|      239145|          1801|\n",
      "| EWR|    118602|   118602|      237204|          2530|\n",
      "| CLT|    116650|   116640|      233290|          2383|\n",
      "| BOS|    110460|   110463|      220923|          1520|\n",
      "| SEA|    100948|   100922|      201870|          1570|\n",
      "| BWI|    100923|   100928|      201851|          1732|\n",
      "| LGA|    100334|   100323|      200657|          1488|\n",
      "+----+----------+---------+------------+--------------+\n",
      "only showing top 20 rows\n",
      "\n"
     ]
    }
   ],
   "source": [
    "print(\"\\n=== Query 1: Degree Statistics ===\")\n",
    "\n",
    "from pyspark.sql.functions import least, greatest, collect_set, array, explode, col, lit, sum as spark_sum\n",
    "\n",
    "# Degree Stats\n",
    "degree_stats = edges.select(\n",
    "    col(\"src\").alias(\"node\"),\n",
    "    lit(1).alias(\"out_degree\"),\n",
    "    lit(0).alias(\"in_degree\")\n",
    ").union(\n",
    "    edges.select(\n",
    "        col(\"dst\").alias(\"node\"),\n",
    "        lit(0).alias(\"out_degree\"),\n",
    "        lit(1).alias(\"in_degree\")\n",
    "    )\n",
    ").groupBy(\"node\").agg(\n",
    "    spark_sum(\"out_degree\").alias(\"out_degree\"),\n",
    "    spark_sum(\"in_degree\").alias(\"in_degree\")\n",
    ").withColumn(\n",
    "    \"total_degree\", col(\"out_degree\") + col(\"in_degree\")\n",
    ")\n",
    "\n",
    "# Triangle Count per Node (custom implementation)\n",
    "def custom_triangle_count_per_node(g):\n",
    "    undirected_edges = g.edges.select(\n",
    "        least(\"src\", \"dst\").alias(\"a\"),\n",
    "        greatest(\"src\", \"dst\").alias(\"b\")\n",
    "    ).distinct()\n",
    "\n",
    "    neighbors = undirected_edges.groupBy(\"a\").agg(\n",
    "        collect_set(\"b\").alias(\"neighbors\")\n",
    "    )\n",
    "\n",
    "    triangles = undirected_edges.alias(\"edges\").join(\n",
    "        neighbors.alias(\"neigh\"),\n",
    "        col(\"edges.a\") == col(\"neigh.a\"),\n",
    "        \"inner\"\n",
    "    ).selectExpr(\n",
    "        \"edges.a\",\n",
    "        \"edges.b\",\n",
    "        \"explode(neigh.neighbors) as c\"\n",
    "    ).filter(\n",
    "        col(\"b\") < col(\"c\")\n",
    "    )\n",
    "\n",
    "    vertex_triangle_counts = triangles.select(\n",
    "        explode(array(\"a\", \"b\", \"c\")).alias(\"id\")\n",
    "    ).groupBy(\"id\").count()\n",
    "\n",
    "    return vertex_triangle_counts.withColumnRenamed(\"count\", \"triangle_count\")\n",
    "\n",
    "# Join triangle counts to degree stats\n",
    "triangle_counts = custom_triangle_count_per_node(g).withColumnRenamed(\"id\", \"node\")\n",
    "\n",
    "full_stats = degree_stats.join(triangle_counts, on=\"node\", how=\"left\").fillna(0)\n",
    "\n",
    "# Show result\n",
    "full_stats.orderBy(col(\"total_degree\").desc()).show()\n"
   ]
  },
  {
   "cell_type": "markdown",
   "id": "5a019dd1-d193-4de1-9990-1ae0aabc455b",
   "metadata": {},
   "source": [
    "## Query 2: Triangle Count (Custom Implementation)\n",
    "\n",
    "This cell uses a set-join approach to identify all unique triangles in the undirected airport graph.\n",
    "It ensures that each triangle (a, b, c) is only counted once by normalizing edge directions using `least()` and `greatest()`.\n",
    "\n",
    "The pattern matched is: (a-b), (b-c), and (a-c)."
   ]
  },
  {
   "cell_type": "code",
   "execution_count": 11,
   "id": "9d30738a-4d7a-4b2f-9a5d-4df17d9a0953",
   "metadata": {},
   "outputs": [
    {
     "name": "stdout",
     "output_type": "stream",
     "text": [
      "\n",
      "=== Query 2: Triangle Count (Custom Implementation) ===\n",
      "Total triangles in the undirected graph: 16015\n"
     ]
    }
   ],
   "source": [
    "print(\"\\n=== Query 2: Triangle Count (Custom Implementation) ===\")\n",
    "from pyspark.sql.functions import least, greatest, col\n",
    "\n",
    "# Convert directed edges to undirected (a, b) where a < b\n",
    "undirected_edges = edges.withColumn(\"u\", least(\"src\", \"dst\")).withColumn(\"v\", greatest(\"src\", \"dst\")) \\\n",
    "                        .select(\"u\", \"v\").distinct()\n",
    "\n",
    "# Rename for triangle finding\n",
    "e1 = undirected_edges.select(col(\"u\").alias(\"a\"), col(\"v\").alias(\"b\"))\n",
    "e2 = undirected_edges.select(col(\"u\").alias(\"b\"), col(\"v\").alias(\"c\"))\n",
    "e3 = undirected_edges.select(col(\"u\").alias(\"a\"), col(\"v\").alias(\"c\"))\n",
    "\n",
    "# Join on undirected edge pattern: a-b, b-c, a-c\n",
    "triangles = e1.join(e2, \"b\").join(e3, [\"a\", \"c\"])\n",
    "\n",
    "# Each triangle appears 6 times due to symmetry (a-b-c, b-c-a, c-a-b in both directions)\n",
    "triangle_count = triangles.select(\"a\", \"b\", \"c\").distinct().count() \n",
    "\n",
    "print(f\"Total triangles in the undirected graph: {triangle_count}\")"
   ]
  },
  {
   "cell_type": "markdown",
   "id": "022a337c-adec-4c8c-b8fc-2db50a1cd671",
   "metadata": {},
   "source": [
    "### Triangle count using graphframes functions (used only for comparison)"
   ]
  },
  {
   "cell_type": "code",
   "execution_count": 12,
   "id": "4710883c-654f-48a8-9ff7-9759581b5fcc",
   "metadata": {},
   "outputs": [],
   "source": [
    "def exact_triangle_count_with_graphframes(edges, vertices=None):\n",
    "    \"\"\"\n",
    "    Count exact number of triangles using GraphFrames\n",
    "    \n",
    "    Args:\n",
    "        edges: DataFrame with 'src' and 'dst' columns\n",
    "        vertices: Optional DataFrame with vertex IDs (if None, will be derived from edges)\n",
    "    \n",
    "    Returns:\n",
    "        Exact count of triangles in the graph\n",
    "    \"\"\"\n",
    "  \n",
    "    # If vertices are not provided, extract them from edges\n",
    "    if vertices is None:\n",
    "        # Extract all unique vertices from edges\n",
    "        vertices_from_src = edges.select(F.col(\"src\").alias(\"id\")).distinct()\n",
    "        vertices_from_dst = edges.select(F.col(\"dst\").alias(\"id\")).distinct()\n",
    "        vertices = vertices_from_src.union(vertices_from_dst).distinct()\n",
    "    \n",
    "    # Ensure edges are distinct (no duplicate edges)\n",
    "    distinct_edges = edges.distinct()\n",
    "    \n",
    "    # Create a GraphFrame\n",
    "    g = GraphFrame(vertices, distinct_edges)\n",
    "    \n",
    "    # Find triangles\n",
    "    triangles = g.triangleCount()\n",
    "    \n",
    "    # Sum up the triangle counts\n",
    "    # The count() method gives us the total number of triangles\n",
    "    total_triangles = triangles.groupBy().agg(F.sum(\"count\").alias(\"total\")).collect()[0][\"total\"]\n",
    "    \n",
    "    # GraphFrames counts each triangle once for each vertex, so we need to divide by 3\n",
    "    return int(total_triangles / 3)"
   ]
  },
  {
   "cell_type": "code",
   "execution_count": 13,
   "id": "eb510498-8537-4fa8-8915-29ec145f7cea",
   "metadata": {},
   "outputs": [
    {
     "name": "stderr",
     "output_type": "stream",
     "text": [
      "/usr/local/spark/python/pyspark/sql/dataframe.py:168: UserWarning: DataFrame.sql_ctx is an internal property, and will be removed in future releases. Use DataFrame.sparkSession instead.\n",
      "  warnings.warn(\n",
      "/usr/local/spark/python/pyspark/sql/dataframe.py:147: UserWarning: DataFrame constructor is internal. Do not directly use it.\n",
      "  warnings.warn(\"DataFrame constructor is internal. Do not directly use it.\")\n"
     ]
    },
    {
     "name": "stdout",
     "output_type": "stream",
     "text": [
      "Exact triangle count: 16015\n"
     ]
    }
   ],
   "source": [
    "exact_triangle_count = exact_triangle_count_with_graphframes(edges)\n",
    "print(f\"Exact triangle count: {exact_triangle_count}\")"
   ]
  },
  {
   "cell_type": "markdown",
   "id": "cd579b0e-fcad-4701-97c2-11d22e92b3dd",
   "metadata": {},
   "source": [
    "## Query 3: Centrality (Degree Centrality)\n",
    "\n",
    "We calculate **degree centrality** for each airport using the formula:\n",
    "\n",
    "degree_centrality = total_degree / (number of nodes - 1)\n",
    "\n",
    "This metric identifies how \"influential\" an airport is based on its number of direct connections.\n"
   ]
  },
  {
   "cell_type": "code",
   "execution_count": 14,
   "id": "99addeed-e033-4c8f-8ec7-63715e651c3a",
   "metadata": {},
   "outputs": [
    {
     "name": "stdout",
     "output_type": "stream",
     "text": [
      "\n",
      "=== Query 3: Degree Centrality ===\n"
     ]
    },
    {
     "data": {
      "text/html": [
       "<table border='1'>\n",
       "<tr><th>node</th><th>degree_centrality</th></tr>\n",
       "<tr><td>ATL</td><td>2830.1898305084746</td></tr>\n",
       "<tr><td>ORD</td><td>2127.515254237288</td></tr>\n",
       "<tr><td>DFW</td><td>1792.5220338983052</td></tr>\n",
       "<tr><td>DEN</td><td>1597.8813559322034</td></tr>\n",
       "<tr><td>LAX</td><td>1307.7796610169491</td></tr>\n",
       "<tr><td>PHX</td><td>1244.04406779661</td></tr>\n",
       "<tr><td>IAH</td><td>1234.5254237288136</td></tr>\n",
       "<tr><td>LAS</td><td>1043.9898305084746</td></tr>\n",
       "<tr><td>DTW</td><td>1031.0372881355931</td></tr>\n",
       "<tr><td>SFO</td><td>925.4915254237288</td></tr>\n",
       "</table>\n"
      ],
      "text/plain": [
       "+----+------------------+\n",
       "|node| degree_centrality|\n",
       "+----+------------------+\n",
       "| ATL|2830.1898305084746|\n",
       "| ORD| 2127.515254237288|\n",
       "| DFW|1792.5220338983052|\n",
       "| DEN|1597.8813559322034|\n",
       "| LAX|1307.7796610169491|\n",
       "| PHX|  1244.04406779661|\n",
       "| IAH|1234.5254237288136|\n",
       "| LAS|1043.9898305084746|\n",
       "| DTW|1031.0372881355931|\n",
       "| SFO| 925.4915254237288|\n",
       "+----+------------------+"
      ]
     },
     "metadata": {},
     "output_type": "display_data"
    }
   ],
   "source": [
    "print(\"\\n=== Query 3: Degree Centrality ===\")\n",
    "\n",
    "centrality = degree_stats.select(\n",
    "    \"node\",\n",
    "    (F.col(\"total_degree\") / F.lit(vertices.count() - 1)).alias(\"degree_centrality\")\n",
    ").orderBy(F.col(\"degree_centrality\").desc())\n",
    "\n",
    "display(centrality.limit(10))"
   ]
  },
  {
   "cell_type": "markdown",
   "id": "d94f43c0-32fd-4c2f-92f2-3394d12d6f75",
   "metadata": {},
   "source": [
    "## Query 4: PageRank (Custom Implementation)\n",
    "\n",
    "Here we manually implement the **PageRank algorithm**:\n",
    "- Each airport starts with an equal rank.\n",
    "- At each iteration, rank is redistributed from source to destination nodes.\n",
    "- A damping factor (commonly 0.85) is applied to simulate teleportation probability.\n",
    "\n",
    "We repeat this for 10 iterations and rank airports by their final scores.\n"
   ]
  },
  {
   "cell_type": "code",
   "execution_count": 15,
   "id": "fa0b5959-de27-4722-a1d9-a406c29d4fa5",
   "metadata": {},
   "outputs": [
    {
     "name": "stdout",
     "output_type": "stream",
     "text": [
      "\n",
      "=== Query 4: Custom PageRank ===\n"
     ]
    },
    {
     "data": {
      "text/html": [
       "<table border='1'>\n",
       "<tr><th>id</th><th>rank</th></tr>\n",
       "<tr><td>ATL</td><td>2.3561081790300507E47</td></tr>\n",
       "<tr><td>ORD</td><td>2.1475525152182944E47</td></tr>\n",
       "<tr><td>DFW</td><td>1.8337063895243112E47</td></tr>\n",
       "<tr><td>DEN</td><td>1.7879699261447383E47</td></tr>\n",
       "<tr><td>LAX</td><td>1.7327029344334827E47</td></tr>\n",
       "<tr><td>PHX</td><td>1.5514294916968752E47</td></tr>\n",
       "<tr><td>LAS</td><td>1.4656286648064942E47</td></tr>\n",
       "<tr><td>IAH</td><td>1.3025335044602526E47</td></tr>\n",
       "<tr><td>SFO</td><td>1.2498321865847688E47</td></tr>\n",
       "<tr><td>BOS</td><td>1.1807420077410707E47</td></tr>\n",
       "</table>\n"
      ],
      "text/plain": [
       "+---+---------------------+\n",
       "| id|                 rank|\n",
       "+---+---------------------+\n",
       "|ATL|2.3561081790300507E47|\n",
       "|ORD|2.1475525152182944E47|\n",
       "|DFW|1.8337063895243112E47|\n",
       "|DEN|1.7879699261447383E47|\n",
       "|LAX|1.7327029344334827E47|\n",
       "|PHX|1.5514294916968752E47|\n",
       "|LAS|1.4656286648064942E47|\n",
       "|IAH|1.3025335044602526E47|\n",
       "|SFO|1.2498321865847688E47|\n",
       "|BOS|1.1807420077410707E47|\n",
       "+---+---------------------+"
      ]
     },
     "metadata": {},
     "output_type": "display_data"
    }
   ],
   "source": [
    "print(\"\\n=== Query 4: Custom PageRank ===\")\n",
    "\n",
    "num_iterations = 10\n",
    "damping_factor = 0.85\n",
    "total_nodes = vertices.count()\n",
    "\n",
    "# Initialize ranks\n",
    "ranks = vertices.select(\"id\").withColumn(\"rank\", F.lit(1.0 / total_nodes)).cache()\n",
    "\n",
    "for i in range(num_iterations):\n",
    "    contributions = edges.join(ranks, edges.src == ranks.id) \\\n",
    "        .groupBy(\"dst\").agg(F.sum(\"rank\").alias(\"total_contrib\"))\n",
    "    \n",
    "    new_ranks = vertices.join(contributions, vertices.id == contributions.dst, \"left\") \\\n",
    "        .fillna(0, subset=[\"total_contrib\"]) \\\n",
    "        .select(\n",
    "            \"id\",\n",
    "            ((damping_factor * F.col(\"total_contrib\")) + \n",
    "            ((1 - damping_factor) / total_nodes)).alias(\"rank\")\n",
    "        ).cache()\n",
    "    \n",
    "    ranks.unpersist()\n",
    "    ranks = new_ranks\n",
    "\n",
    "pagerank_results = ranks.orderBy(F.col(\"rank\").desc())\n",
    "# display(pagerank_results.limit(10))\n",
    "display(pagerank_results)"
   ]
  },
  {
   "cell_type": "markdown",
   "id": "bc54985c-10d7-4cf9-b42d-95c47941ecc8",
   "metadata": {},
   "source": [
    "## Query 5: Most Connected Airports\n",
    "\n",
    "We sort airports by their **total degree** to identify the most connected hubs in the network — those with the highest number of incoming and outgoing flights combined."
   ]
  },
  {
   "cell_type": "code",
   "execution_count": 16,
   "id": "dcfef493-1a1e-40fd-aa95-3edcd5fada34",
   "metadata": {},
   "outputs": [
    {
     "name": "stdout",
     "output_type": "stream",
     "text": [
      "\n",
      "=== Query 5: Most Connected Airports ===\n"
     ]
    },
    {
     "data": {
      "text/html": [
       "<table border='1'>\n",
       "<tr><th>node</th><th>out_degree</th><th>in_degree</th><th>total_degree</th></tr>\n",
       "<tr><td>ATL</td><td>417449</td><td>417457</td><td>834906</td></tr>\n",
       "<tr><td>ORD</td><td>313848</td><td>313769</td><td>627617</td></tr>\n",
       "<tr><td>DFW</td><td>264396</td><td>264398</td><td>528794</td></tr>\n",
       "<tr><td>DEN</td><td>235675</td><td>235700</td><td>471375</td></tr>\n",
       "<tr><td>LAX</td><td>192879</td><td>192916</td><td>385795</td></tr>\n",
       "<tr><td>PHX</td><td>183502</td><td>183491</td><td>366993</td></tr>\n",
       "<tr><td>IAH</td><td>182097</td><td>182088</td><td>364185</td></tr>\n",
       "<tr><td>LAS</td><td>153993</td><td>153984</td><td>307977</td></tr>\n",
       "<tr><td>DTW</td><td>152081</td><td>152075</td><td>304156</td></tr>\n",
       "<tr><td>SFO</td><td>136488</td><td>136532</td><td>273020</td></tr>\n",
       "</table>\n"
      ],
      "text/plain": [
       "+----+----------+---------+------------+\n",
       "|node|out_degree|in_degree|total_degree|\n",
       "+----+----------+---------+------------+\n",
       "| ATL|    417449|   417457|      834906|\n",
       "| ORD|    313848|   313769|      627617|\n",
       "| DFW|    264396|   264398|      528794|\n",
       "| DEN|    235675|   235700|      471375|\n",
       "| LAX|    192879|   192916|      385795|\n",
       "| PHX|    183502|   183491|      366993|\n",
       "| IAH|    182097|   182088|      364185|\n",
       "| LAS|    153993|   153984|      307977|\n",
       "| DTW|    152081|   152075|      304156|\n",
       "| SFO|    136488|   136532|      273020|\n",
       "+----+----------+---------+------------+"
      ]
     },
     "metadata": {},
     "output_type": "display_data"
    }
   ],
   "source": [
    "print(\"\\n=== Query 5: Most Connected Airports ===\")\n",
    "\n",
    "most_connected = degree_stats.orderBy(F.col(\"total_degree\").desc()).limit(10)\n",
    "display(most_connected)"
   ]
  }
 ],
 "metadata": {
  "kernelspec": {
   "display_name": "Python 3 (ipykernel)",
   "language": "python",
   "name": "python3"
  },
  "language_info": {
   "codemirror_mode": {
    "name": "ipython",
    "version": 3
   },
   "file_extension": ".py",
   "mimetype": "text/x-python",
   "name": "python",
   "nbconvert_exporter": "python",
   "pygments_lexer": "ipython3",
   "version": "3.11.10"
  }
 },
 "nbformat": 4,
 "nbformat_minor": 5
}
