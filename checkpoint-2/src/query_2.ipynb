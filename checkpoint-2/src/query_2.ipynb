{
  "nbformat": 4,
  "nbformat_minor": 0,
  "metadata": {
    "colab": {
      "provenance": [],
      "gpuType": "T4"
    },
    "kernelspec": {
      "name": "python3",
      "display_name": "Python 3"
    },
    "language_info": {
      "name": "python"
    },
    "accelerator": "GPU"
  },
  "cells": [
    {
      "cell_type": "code",
      "source": [
        "from pyspark.sql import SparkSession\n",
        "from pyspark.sql.functions import (\n",
        "    col, count, lit, percentile_approx, unix_timestamp,\n",
        "    lead, when, pandas_udf\n",
        ")\n",
        "from pyspark.sql.types import StructType, StructField, StringType, DoubleType, IntegerType, TimestampType\n",
        "from pyspark.sql.window import Window\n",
        "import math\n",
        "import pandas as pd"
      ],
      "metadata": {
        "id": "tjm9Kq8poDjU"
      },
      "execution_count": 10,
      "outputs": []
    },
    {
      "cell_type": "code",
      "source": [
        "# 1. Initialize Spark & Load Data\n",
        "################################\n",
        "spark = SparkSession.builder \\\n",
        "    .appName(\"DEBS Query 2 - Profitable Areas\") \\\n",
        "    .getOrCreate()\n",
        "\n",
        "df = spark.read.parquet(\"/content/cleaned_data.parquet\")\n",
        "df.printSchema()"
      ],
      "metadata": {
        "colab": {
          "base_uri": "https://localhost:8080/"
        },
        "id": "skvHYKO4oDmZ",
        "outputId": "079bca35-6fa5-4f13-eb7a-5d4a7cc72315"
      },
      "execution_count": 11,
      "outputs": [
        {
          "output_type": "stream",
          "name": "stdout",
          "text": [
            "root\n",
            " |-- kafka_key: string (nullable = true)\n",
            " |-- kafka_timestamp: timestamp (nullable = true)\n",
            " |-- medallion: string (nullable = true)\n",
            " |-- hack_license: string (nullable = true)\n",
            " |-- pickup_datetime: timestamp (nullable = true)\n",
            " |-- dropoff_datetime: timestamp (nullable = true)\n",
            " |-- trip_time_in_secs: integer (nullable = true)\n",
            " |-- trip_distance: double (nullable = true)\n",
            " |-- pickup_longitude: double (nullable = true)\n",
            " |-- pickup_latitude: double (nullable = true)\n",
            " |-- dropoff_longitude: double (nullable = true)\n",
            " |-- dropoff_latitude: double (nullable = true)\n",
            " |-- payment_type: string (nullable = true)\n",
            " |-- fare_amount: double (nullable = true)\n",
            " |-- surcharge: double (nullable = true)\n",
            " |-- mta_tax: double (nullable = true)\n",
            " |-- tip_amount: double (nullable = true)\n",
            " |-- tolls_amount: double (nullable = true)\n",
            " |-- total_amount: double (nullable = true)\n",
            "\n"
          ]
        }
      ]
    },
    {
      "cell_type": "code",
      "source": [
        "START_LAT = 41.474937\n",
        "START_LON = -74.913585\n",
        "CELL_SIZE_METERS = 250\n",
        "METERS_PER_DEGREE = 111320  # approximate for NYC\n"
      ],
      "metadata": {
        "id": "M5Vv9mkRoDom"
      },
      "execution_count": 12,
      "outputs": []
    },
    {
      "cell_type": "code",
      "source": [
        "\n",
        "def get_cell_id(lat, lon):\n",
        "    \"\"\"\n",
        "    Convert (lat, lon) to row.col based on the described grid.\n",
        "    Returns None if outside the 600x600 grid.\n",
        "    \"\"\"\n",
        "    if lat is None or lon is None:\n",
        "        return None\n",
        "    dx = (lon - START_LON) * math.cos(math.radians(lat)) * METERS_PER_DEGREE\n",
        "    dy = (START_LAT - lat) * METERS_PER_DEGREE\n",
        "    col_ = int(dx / CELL_SIZE_METERS) + 1\n",
        "    row_ = int(dy / CELL_SIZE_METERS) + 1\n",
        "    if 1 <= row_ <= 600 and 1 <= col_ <= 600:\n",
        "        return f\"{row_}.{col_}\"\n",
        "    return None\n",
        "\n",
        "# Vectorized UDF to handle entire columns\n",
        "@pandas_udf(\"string\")\n",
        "def udf_get_cell_id(lat: pd.Series, lon: pd.Series) -> pd.Series:\n",
        "    return pd.Series([get_cell_id(a, b) for a, b in zip(lat, lon)])\n"
      ],
      "metadata": {
        "id": "pg-twvrKoDsx"
      },
      "execution_count": 13,
      "outputs": []
    },
    {
      "cell_type": "code",
      "source": [
        "################################\n",
        "# 3. Add Grid Columns & Filter Valid Cells\n",
        "################################\n",
        "df = df.withColumn(\"pickup_cell\", udf_get_cell_id(col(\"pickup_latitude\"), col(\"pickup_longitude\"))) \\\n",
        "       .withColumn(\"dropoff_cell\", udf_get_cell_id(col(\"dropoff_latitude\"), col(\"dropoff_longitude\")))\n",
        "\n",
        "df = df.filter(\n",
        "    col(\"pickup_cell\").isNotNull() & col(\"dropoff_cell\").isNotNull()\n",
        ")"
      ],
      "metadata": {
        "id": "L3erv4smoDuy"
      },
      "execution_count": 14,
      "outputs": []
    },
    {
      "cell_type": "code",
      "source": [
        "# 4. Add Profit Column\n",
        "################################\n",
        "df = df.withColumn(\"profit\", col(\"fare_amount\") + col(\"tip_amount\"))\n"
      ],
      "metadata": {
        "id": "1e1eM959oDzU"
      },
      "execution_count": 15,
      "outputs": []
    },
    {
      "cell_type": "code",
      "source": [
        "# 5. Identify Taxis That Remain Empty\n",
        "#    (\"no following pickup within 30 minutes\")\n",
        "################################\n",
        "# Window: partition by medallion, ordered by pickup time\n",
        "window_medallion = Window.partitionBy(\"medallion\").orderBy(\"pickup_datetime\")\n",
        "\n",
        "# For each trip row, find the next trip's pickup time\n",
        "df = df.withColumn(\n",
        "    \"next_pickup_datetime\",\n",
        "    lead(\"pickup_datetime\").over(window_medallion)\n",
        ")\n",
        "\n",
        "# Mark 'is_empty' if there's no next pickup or if it's > 30 min from the current dropoff\n",
        "df = df.withColumn(\n",
        "    \"is_empty\",\n",
        "    when(\n",
        "        (col(\"next_pickup_datetime\").isNull()) |\n",
        "        ((unix_timestamp(\"next_pickup_datetime\") - unix_timestamp(\"dropoff_datetime\")) > 1800),\n",
        "        1\n",
        "    ).otherwise(0)\n",
        ")"
      ],
      "metadata": {
        "id": "hqp75KjIoD1w"
      },
      "execution_count": 16,
      "outputs": []
    },
    {
      "cell_type": "code",
      "source": [
        "# 6. Determine \"Current Time\" & Filter for Profit (Last 15 min)\n",
        "################################\n",
        "current_time = df.agg({\"dropoff_datetime\": \"max\"}).collect()[0][0]\n",
        "print(f\"Current time (max dropoff): {current_time}\")\n",
        "\n",
        "# Trips ended in last 15 minutes => For profit\n",
        "filtered_15_df = df.filter(\n",
        "    (unix_timestamp(lit(current_time)) - unix_timestamp(col(\"dropoff_datetime\")) <= 900) &\n",
        "    (unix_timestamp(lit(current_time)) - unix_timestamp(col(\"dropoff_datetime\")) >= 0)\n",
        ")\n",
        "\n",
        "# Median profit per pickup cell\n",
        "profit_df = filtered_15_df.groupBy(\"pickup_cell\") \\\n",
        "    .agg(percentile_approx(col(\"profit\"), 0.5).alias(\"median_profit\"))\n",
        "\n",
        "profit_df.show()"
      ],
      "metadata": {
        "colab": {
          "base_uri": "https://localhost:8080/"
        },
        "id": "FrO-XLUnoD3y",
        "outputId": "f26fa63d-eb0d-4899-bcf8-72215ef86463"
      },
      "execution_count": 17,
      "outputs": [
        {
          "output_type": "stream",
          "name": "stdout",
          "text": [
            "Current time (max dropoff): 2014-01-01 00:36:00\n",
            "+-----------+-------------+\n",
            "|pickup_cell|median_profit|\n",
            "+-----------+-------------+\n",
            "|    337.306|         41.5|\n",
            "|    370.383|        45.12|\n",
            "|    323.310|         37.0|\n",
            "|    317.314|         24.5|\n",
            "+-----------+-------------+\n",
            "\n"
          ]
        }
      ]
    },
    {
      "cell_type": "code",
      "source": [
        "# 7. Count Empty Taxis (Last 30 min, still empty)\n",
        "################################\n",
        "empty_30_df = df.filter(\n",
        "    (unix_timestamp(lit(current_time)) - unix_timestamp(col(\"dropoff_datetime\")) <= 1800) &\n",
        "    (unix_timestamp(lit(current_time)) - unix_timestamp(col(\"dropoff_datetime\")) >= 0) &\n",
        "    (col(\"is_empty\") == 1)\n",
        ")\n",
        "\n",
        "empty_taxi_df = empty_30_df.groupBy(\"dropoff_cell\") \\\n",
        "    .agg(count(\"medallion\").alias(\"empty_taxi_count\"))\n",
        "\n",
        "empty_taxi_df.show()"
      ],
      "metadata": {
        "colab": {
          "base_uri": "https://localhost:8080/"
        },
        "id": "QACy-JWioD6M",
        "outputId": "9840a033-5a87-4e5e-c314-3fcd871a0319"
      },
      "execution_count": 18,
      "outputs": [
        {
          "output_type": "stream",
          "name": "stdout",
          "text": [
            "+------------+----------------+\n",
            "|dropoff_cell|empty_taxi_count|\n",
            "+------------+----------------+\n",
            "|     356.322|               1|\n",
            "|     335.315|               1|\n",
            "|     314.310|               1|\n",
            "|     275.352|               1|\n",
            "|     338.312|               1|\n",
            "|     328.309|               1|\n",
            "|     311.327|               1|\n",
            "|     309.322|               1|\n",
            "|     321.319|               1|\n",
            "|     349.311|               1|\n",
            "|     342.329|               1|\n",
            "|     319.322|               1|\n",
            "|     289.327|               1|\n",
            "|     315.335|               1|\n",
            "|     280.359|               1|\n",
            "|     282.327|               1|\n",
            "|     314.350|               1|\n",
            "|     293.329|               1|\n",
            "|     328.306|               1|\n",
            "|     353.319|               1|\n",
            "+------------+----------------+\n",
            "only showing top 20 rows\n",
            "\n"
          ]
        }
      ]
    },
    {
      "cell_type": "code",
      "source": [
        "# 8. Join on Cell & Compute Profitability\n",
        "################################\n",
        "result_df = profit_df.join(\n",
        "    empty_taxi_df,\n",
        "    profit_df.pickup_cell == empty_taxi_df.dropoff_cell,\n",
        "    \"inner\"\n",
        ").select(\n",
        "    profit_df.pickup_cell,\n",
        "    \"median_profit\",\n",
        "    \"dropoff_cell\",\n",
        "    \"empty_taxi_count\"\n",
        ")\n",
        "\n",
        "result_df = result_df.withColumn(\n",
        "    \"profitability\",\n",
        "    col(\"median_profit\") / col(\"empty_taxi_count\")\n",
        ")\n",
        "\n",
        "result_df.show()"
      ],
      "metadata": {
        "colab": {
          "base_uri": "https://localhost:8080/"
        },
        "id": "zmekUZhuoD8S",
        "outputId": "e88b0aeb-f065-40c6-9496-672835116cce"
      },
      "execution_count": 22,
      "outputs": [
        {
          "output_type": "stream",
          "name": "stdout",
          "text": [
            "+-----------+-------------+------------+----------------+-------------+\n",
            "|pickup_cell|median_profit|dropoff_cell|empty_taxi_count|profitability|\n",
            "+-----------+-------------+------------+----------------+-------------+\n",
            "|    323.310|         37.0|     323.310|               1|         37.0|\n",
            "+-----------+-------------+------------+----------------+-------------+\n",
            "\n"
          ]
        }
      ]
    },
    {
      "cell_type": "code",
      "source": [
        "# 9. Sort & Display Results\n",
        "################################\n",
        "sorted_df = result_df.orderBy(col(\"profitability\").desc())\n",
        "\n",
        "sorted_df.select(\n",
        "    lit(current_time).alias(\"pickup_datetime\"),\n",
        "    lit(current_time).alias(\"dropoff_datetime\"),\n",
        "    col(\"pickup_cell\").alias(\"profitable_cell_id\"),\n",
        "    col(\"empty_taxi_count\"),\n",
        "    col(\"median_profit\"),\n",
        "    col(\"profitability\")\n",
        ").show(truncate=False)"
      ],
      "metadata": {
        "colab": {
          "base_uri": "https://localhost:8080/"
        },
        "id": "dN2098ZYpHuA",
        "outputId": "741d9401-fbe0-43f0-b41e-39beb711db90"
      },
      "execution_count": 23,
      "outputs": [
        {
          "output_type": "stream",
          "name": "stdout",
          "text": [
            "+-------------------+-------------------+------------------+----------------+-------------+-------------+\n",
            "|pickup_datetime    |dropoff_datetime   |profitable_cell_id|empty_taxi_count|median_profit|profitability|\n",
            "+-------------------+-------------------+------------------+----------------+-------------+-------------+\n",
            "|2014-01-01 00:36:00|2014-01-01 00:36:00|323.310           |1               |37.0         |37.0         |\n",
            "+-------------------+-------------------+------------------+----------------+-------------+-------------+\n",
            "\n"
          ]
        }
      ]
    },
    {
      "cell_type": "code",
      "source": [],
      "metadata": {
        "id": "nSL5kSPgpkGO"
      },
      "execution_count": null,
      "outputs": []
    },
    {
      "cell_type": "code",
      "source": [],
      "metadata": {
        "id": "xhxROYgpB3an"
      },
      "execution_count": null,
      "outputs": []
    },
    {
      "cell_type": "code",
      "source": [],
      "metadata": {
        "id": "X4pyuFkfB3dE"
      },
      "execution_count": null,
      "outputs": []
    },
    {
      "cell_type": "code",
      "source": [],
      "metadata": {
        "id": "OD5hVUjNCF_g"
      },
      "execution_count": null,
      "outputs": []
    },
    {
      "cell_type": "code",
      "source": [],
      "metadata": {
        "id": "n-ZHtXwmCGB3"
      },
      "execution_count": null,
      "outputs": []
    },
    {
      "cell_type": "code",
      "source": [],
      "metadata": {
        "id": "Bx2ZlEeWCGEb"
      },
      "execution_count": null,
      "outputs": []
    },
    {
      "cell_type": "code",
      "source": [],
      "metadata": {
        "id": "oVzvAkTeCGG3"
      },
      "execution_count": null,
      "outputs": []
    },
    {
      "cell_type": "code",
      "source": [],
      "metadata": {
        "id": "oIkgcIMqCGJb"
      },
      "execution_count": null,
      "outputs": []
    },
    {
      "cell_type": "code",
      "source": [],
      "metadata": {
        "id": "5tEwa-OlCGLk"
      },
      "execution_count": null,
      "outputs": []
    },
    {
      "cell_type": "code",
      "source": [],
      "metadata": {
        "id": "r-2EA9WTCGOW"
      },
      "execution_count": null,
      "outputs": []
    },
    {
      "cell_type": "code",
      "source": [],
      "metadata": {
        "id": "OqiyYeleCGQ1"
      },
      "execution_count": null,
      "outputs": []
    },
    {
      "cell_type": "code",
      "source": [],
      "metadata": {
        "id": "MJrfEayDCGTO"
      },
      "execution_count": null,
      "outputs": []
    },
    {
      "cell_type": "code",
      "source": [],
      "metadata": {
        "id": "p_SYlFhdB3kL"
      },
      "execution_count": null,
      "outputs": []
    },
    {
      "cell_type": "code",
      "source": [],
      "metadata": {
        "id": "zv8ofr8EB3mi"
      },
      "execution_count": null,
      "outputs": []
    },
    {
      "cell_type": "code",
      "source": [],
      "metadata": {
        "id": "P8UI8VKJB3pJ"
      },
      "execution_count": null,
      "outputs": []
    },
    {
      "cell_type": "code",
      "source": [],
      "metadata": {
        "id": "y1RS3nkyB3rc"
      },
      "execution_count": null,
      "outputs": []
    },
    {
      "cell_type": "code",
      "source": [],
      "metadata": {
        "id": "IONs1djxB3to"
      },
      "execution_count": null,
      "outputs": []
    },
    {
      "cell_type": "code",
      "source": [],
      "metadata": {
        "id": "Q4p76VKLB3wA"
      },
      "execution_count": null,
      "outputs": []
    },
    {
      "cell_type": "code",
      "source": [],
      "metadata": {
        "id": "W3QVFrY7B3yd"
      },
      "execution_count": null,
      "outputs": []
    },
    {
      "cell_type": "code",
      "source": [],
      "metadata": {
        "id": "aabI3I-cB31O"
      },
      "execution_count": null,
      "outputs": []
    },
    {
      "cell_type": "code",
      "source": [],
      "metadata": {
        "id": "jsDzQhUrB33d"
      },
      "execution_count": null,
      "outputs": []
    },
    {
      "cell_type": "code",
      "source": [],
      "metadata": {
        "id": "iyw7IjdIB35z"
      },
      "execution_count": null,
      "outputs": []
    },
    {
      "cell_type": "code",
      "source": [],
      "metadata": {
        "id": "3k2fsCEeB375"
      },
      "execution_count": null,
      "outputs": []
    },
    {
      "cell_type": "code",
      "source": [],
      "metadata": {
        "id": "XdyTVvkiB3-c"
      },
      "execution_count": null,
      "outputs": []
    },
    {
      "cell_type": "code",
      "source": [],
      "metadata": {
        "id": "TuzwccZjB4Bx"
      },
      "execution_count": null,
      "outputs": []
    }
  ]
}